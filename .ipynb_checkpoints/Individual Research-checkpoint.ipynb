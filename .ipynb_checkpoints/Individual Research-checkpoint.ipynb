{
 "cells": [
  {
   "attachments": {},
   "cell_type": "markdown",
   "metadata": {},
   "source": [
    "# Individual Research\n",
    "\n",
    "**Author**: Zachary Qi Jie Teng\n",
    "\n",
    "**Student ID**: 102416353\n",
    "\n",
    "**Project**: 47 - Methane Monitoring from Space\n",
    "\n",
    "**Unit**: Software Project A & B\n",
    "\n",
    "**Team**: 47\n",
    "\n",
    "**Supervisor**: Mohan Mchhetri\n",
    "\n",
    "**Last Modified**: 08/05/2023\n",
    "\n",
    "---"
   ]
  },
  {
   "attachments": {},
   "cell_type": "markdown",
   "metadata": {},
   "source": [
    "### **Goal**: Extract data from Sentinel-5P\n",
    "\n",
    "**Due:** 10/05/2023\n",
    "\n",
    "---"
   ]
  },
  {
   "attachments": {},
   "cell_type": "markdown",
   "metadata": {},
   "source": [
    "### 08/05/2023\n",
    "\n",
    "***Tasks determined to achieve goal***:\n",
    "1. Research Python's REST API methods\n",
    "2. Retrieve dataset from Sentinel-5P dataset and Emissions API\n",
    "3. Determine difference and suitability between Sentinel-5P dataset and Emissions API dataset\n",
    "4. Determine need for data processing\n",
    "\n",
    "\n",
    "\n",
    "---"
   ]
  },
  {
   "cell_type": "code",
   "execution_count": null,
   "metadata": {},
   "outputs": [],
   "source": []
  },
  {
   "cell_type": "markdown",
   "metadata": {},
   "source": []
  },
  {
   "cell_type": "markdown",
   "metadata": {},
   "source": []
  },
  {
   "cell_type": "markdown",
   "metadata": {},
   "source": []
  }
 ],
 "metadata": {
  "kernelspec": {
   "display_name": "Python 3",
   "language": "python",
   "name": "python3"
  },
  "language_info": {
   "name": "python",
   "version": "3.11.2"
  },
  "orig_nbformat": 4
 },
 "nbformat": 4,
 "nbformat_minor": 2
}
