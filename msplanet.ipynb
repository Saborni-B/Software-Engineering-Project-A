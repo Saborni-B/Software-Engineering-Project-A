{
 "cells": [
  {
   "cell_type": "markdown",
   "metadata": {},
   "source": [
    "### Libraries"
   ]
  },
  {
   "cell_type": "code",
   "execution_count": null,
   "metadata": {},
   "outputs": [],
   "source": [
    "import cartopy.crs as ccrs\n",
    "import fsspec\n",
    "import matplotlib\n",
    "import matplotlib.pyplot as plt\n",
    "import numpy as np\n",
    "import planetary_computer\n",
    "import pystac_client\n",
    "import xarray as xr\n",
    "import geopandas as gpd"
   ]
  },
  {
   "cell_type": "code",
   "execution_count": null,
   "metadata": {},
   "outputs": [],
   "source": [
    "planetary_computer.set_subscription_key(\"c27669c4bdec434d804e2bd738cb16fc\")\n",
    "catalog = pystac_client.Client.open(\n",
    "    \"https://planetarycomputer.microsoft.com/api/stac/v1\",\n",
    "    modifier=planetary_computer.sign_inplace,\n",
    ")\n",
    "print(catalog)"
   ]
  },
  {
   "cell_type": "markdown",
   "metadata": {},
   "source": [
    "### Gather User Input\n",
    "\n",
    "Assumptions:\n",
    "1. User can input coordinates that respresent a region of interest ROI\n",
    "2. User can input names for common locations (countries, cities, states etc)\n",
    "3. The shape of the user input will be a four sided polygon (for now do not worry about multisided polygons)"
   ]
  },
  {
   "cell_type": "code",
   "execution_count": null,
   "metadata": {},
   "outputs": [],
   "source": [
    "#longitude = 79.109\n",
    "#latitude = 22.746\n",
    "\n",
    "#GeoJSON - East Melbourne (square)\n",
    "geometry = {\n",
    "    \"type\": \"Polygon\",\n",
    "    \"coordinates\": [    \n",
    "        [\n",
    "            [-37.7528,145.096],\n",
    "            [-37.75415,144.85276],\n",
    "            [-37.92253,144.84092],\n",
    "            [-37.92551,145.09532],\n",
    "            [-37.7528,145.096],\n",
    "        ]\n",
    "    ],\n",
    "}\n",
    "\n",
    "#name\n",
    "user_countries = \"Australia\" \n",
    "\n",
    "#user_cities = \"Melbourne\"\n",
    "\n",
    "#user_states = \"Victoria\"\n",
    "\n",
    "#continent\n",
    "user_continent = \"Oceania\"\n"
   ]
  },
  {
   "cell_type": "code",
   "execution_count": null,
   "metadata": {},
   "outputs": [],
   "source": [
    "from datetime import datetime, time\n",
    "\n",
    "# Function to convert date format \n",
    "def convert_format_date(input_date, input_format, output_format):\n",
    "    date_obj = datetime.strptime(input_date, input_format)\n",
    "    formatted_date = date_obj.strftime(output_format)\n",
    "    return formatted_date\n",
    "\n",
    "# User Input Date and time\n",
    "user_start_date = \"1 09 2023\"\n",
    "user_end_date = \"01-September-2023\"\n",
    "\n",
    "user_start_time = time(14,30,0)\n",
    "user_end_time = time(15,00,0)\n",
    "\n",
    "# Define input and output date formats\n",
    "input_format = \"%d %m %Y\"\n",
    "output_format = \"%d/%m/%Y\"\n",
    "\n",
    "# Convert user start date format\n",
    "user_start_date1 = convert_format_date(user_start_date, input_format, output_format)\n",
    "print(user_start_date1)\n",
    "\n",
    "# Convert user end date format\n",
    "input_format = \"%d-%B-%Y\" \n",
    "user_end_date1 = convert_format_date(user_end_date, input_format, output_format)\n",
    "print(user_end_date1)\n",
    "\n",
    "print(user_start_time)\n",
    "print(user_end_time)"
   ]
  },
  {
   "cell_type": "code",
   "execution_count": null,
   "metadata": {},
   "outputs": [],
   "source": [
    "\n",
    "import json\n",
    "from turfpy.measurement import bbox_polygon, bbox\n",
    "from geojson import Polygon\n",
    "\n",
    "#Bounding box - Swinburne University Hawthorn campus (square)\n",
    "#minLat: -37.822978\n",
    "#minLon: 145.037186\n",
    "#maxLat: -37.821866\n",
    "#maxLon: 145.038841\n",
    "bbox = [-37.822978, 145.037186, -37.821866, 145.038841]\n",
    "print(json.dumps(bbox_polygon(bbox), indent=2, sort_keys=True))#json.dumps() function will convert a subset of Python objects into a json string.\n"
   ]
  },
  {
   "cell_type": "code",
   "execution_count": null,
   "metadata": {},
   "outputs": [],
   "source": [
    "world_data = gpd.read_file(gpd.datasets.get_path('naturalearth_lowres'))\n",
    "capitals = gpd.read_file(gpd.datasets.get_path('naturalearth_cities'))\n",
    "specific_city = capitals[capitals['name'] == user_cities]\n",
    "\n",
    "capitals"
   ]
  },
  {
   "cell_type": "code",
   "execution_count": null,
   "metadata": {},
   "outputs": [],
   "source": [
    "world_data.plot()\n",
    "specific_city.plot()"
   ]
  },
  {
   "cell_type": "markdown",
   "metadata": {},
   "source": [
    "### Data query"
   ]
  },
  {
   "cell_type": "code",
   "execution_count": null,
   "metadata": {},
   "outputs": [],
   "source": [
    "search = catalog.search(\n",
    "    collections=\"sentinel-5p-l2-netcdf\",\n",
    "    intersects=geometry,\n",
    "    datetime=\"2023-04-03/2023-04-04\",\n",
    "    query={\"s5p:processing_mode\": {\"eq\": \"OFFL\"}, \"s5p:product_name\": {\"eq\": \"ch4\"}},\n",
    ")\n",
    "\n",
    "items = list(search.get_items())\n",
    "\n",
    "print(f\"Found {len(items)} items:\")\n",
    "\n",
    "for item in search.items():\n",
    "    print(item.id)"
   ]
  },
  {
   "cell_type": "markdown",
   "metadata": {},
   "source": [
    "### Reading and Processing Data"
   ]
  },
  {
   "cell_type": "code",
   "execution_count": null,
   "metadata": {},
   "outputs": [],
   "source": [
    "# Read data\n",
    "f = fsspec.open(items[0].assets[\"ch4\"].href).open()\n",
    "ds = xr.open_dataset(f, group=\"PRODUCT\", engine=\"h5netcdf\") # Putting the data into a xarray dataset\n",
    "ds"
   ]
  },
  {
   "cell_type": "markdown",
   "metadata": {},
   "source": [
    "### Plot Base Map"
   ]
  },
  {
   "cell_type": "markdown",
   "metadata": {},
   "source": []
  },
  {
   "cell_type": "code",
   "execution_count": null,
   "metadata": {},
   "outputs": [],
   "source": [
    "world = gpd.read_file(gpd.datasets.get_path('naturalearth_lowres'))\n",
    "australia = world[world['continent'] == user_continent]\n",
    "australia.plot()"
   ]
  },
  {
   "cell_type": "code",
   "execution_count": null,
   "metadata": {},
   "outputs": [],
   "source": [
    "world = gpd.read_file(gpd.datasets.get_path('naturalearth_lowres'))\n",
    "australia = world[world['name'] == user_countries]\n",
    "australia.plot()"
   ]
  },
  {
   "cell_type": "markdown",
   "metadata": {},
   "source": [
    "### Plot Concentration Values"
   ]
  },
  {
   "cell_type": "code",
   "execution_count": null,
   "metadata": {},
   "outputs": [],
   "source": []
  },
  {
   "cell_type": "markdown",
   "metadata": {},
   "source": [
    "### Time Series"
   ]
  },
  {
   "cell_type": "code",
   "execution_count": null,
   "metadata": {},
   "outputs": [],
   "source": [
    "varname = \"methane_mixing_ratio_bias_corrected\"\n",
    "data = ds[varname][0, :, :]\n",
    "vmin, vmax = np.nanpercentile(data, [1, 99])\n",
    "data.plot(vmin=vmin, vmax=vmax, cmap=\"viridis\")"
   ]
  },
  {
   "cell_type": "code",
   "execution_count": null,
   "metadata": {},
   "outputs": [],
   "source": [
    "lon = ds[\"longitude\"].values.squeeze()\n",
    "lat = ds[\"latitude\"].values.squeeze()\n",
    "methane = data.values\n",
    "\n",
    "fig = plt.figure(figsize=(15, 15))\n",
    "ax = fig.add_subplot(1, 1, 1, projection=ccrs.PlateCarree())\n",
    "ax.coastlines()\n",
    "ax.gridlines(crs=ccrs.PlateCarree(), draw_labels=True, alpha=0.5, linestyle=\"--\")\n",
    "ax.set_extent([-180, 180, -90, 90], crs=ccrs.PlateCarree())\n",
    "norm = matplotlib.colors.Normalize(vmin=vmin, vmax=vmax)\n",
    "scatter = plt.scatter(\n",
    "    lon,\n",
    "    lat,\n",
    "    c=methane,\n",
    "    transform=ccrs.PlateCarree(),\n",
    "    cmap=\"viridis\",\n",
    "    norm=norm,\n",
    "    marker=\".\",\n",
    "    s=1,\n",
    ")\n",
    "fig.colorbar(scatter, pad=0.05, shrink=0.35, label=\"Methane parts/billion)\")\n",
    "plt.show()"
   ]
  }
 ],
 "metadata": {
  "kernelspec": {
   "display_name": "Python 3",
   "language": "python",
   "name": "python3"
  },
  "language_info": {
   "codemirror_mode": {
    "name": "ipython",
    "version": 3
   },
   "file_extension": ".py",
   "mimetype": "text/x-python",
   "name": "python",
   "nbconvert_exporter": "python",
   "pygments_lexer": "ipython3",
   "version": "3.10.9"
  },
  "orig_nbformat": 4
 },
 "nbformat": 4,
 "nbformat_minor": 2
}
