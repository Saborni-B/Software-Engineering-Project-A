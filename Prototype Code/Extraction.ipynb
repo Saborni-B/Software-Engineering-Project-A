{
 "cells": [
  {
   "cell_type": "code",
   "execution_count": null,
   "metadata": {},
   "outputs": [],
   "source": [
    "def get_methane_data(latitude, longitude, start_date, end_date):\n",
    "    # Define the Copernicus Open Access Hub URL and credentials\n",
    "    hub_url = 'https://s5phub.copernicus.eu/dhus'\n",
    "    username = 'zach789'\n",
    "    password = 'cKw!v9wKijgw57Q'\n",
    "\n",
    "    # Connect to the Copernicus Open Access Hub\n",
    "    hub = Sentinelsat(hub_url, username, password)\n",
    "\n",
    "    # Define the search parameters\n",
    "    footprint = f'POINT({longitude} {latitude})'\n",
    "    product_type = 'L2__CH4___'\n",
    "    date_range = f'{start_date}T00:00:00Z TO {end_date}T23:59:59Z'\n",
    "\n",
    "    # Search for the Sentinel-5P data\n",
    "    products = hub.query(footprint, date_range, producttype=product_type)\n",
    "    products.download_all()\n",
    "\n",
    "    # Retrieve the downloaded file\n",
    "    filename = products[0].title\n",
    "    dataset = Dataset(filename)\n",
    "\n",
    "    # Extract the methane concentration data\n",
    "    methane_data = dataset.variables['methane_mixing_ratio'][:]\n",
    "\n",
    "    # Extract the latitude and longitude coordinates\n",
    "    latitudes = dataset.variables['latitude'][:]\n",
    "    longitudes = dataset.variables['longitude'][:]\n",
    "\n",
    "    # Close the dataset\n",
    "    dataset.close()\n",
    "\n",
    "    return latitudes, longitudes, methane_data"
   ]
  }
 ],
 "metadata": {
  "language_info": {
   "name": "python"
  },
  "orig_nbformat": 4
 },
 "nbformat": 4,
 "nbformat_minor": 2
}
