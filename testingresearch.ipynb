{
 "cells": [
  {
   "cell_type": "markdown",
   "metadata": {},
   "source": [
    "Research and self-study on oop testing "
   ]
  },
  {
   "cell_type": "code",
   "execution_count": null,
   "metadata": {},
   "outputs": [],
   "source": [
    "def add(x, y):\n",
    "    #Add function\n",
    "    return x + y\n",
    "\n",
    "def subtract(x, y):\n",
    "    #Subtract function\n",
    "    return x - y\n",
    "\n",
    "def multiply(x, y):\n",
    "    #Multiply function\n",
    "    return x * y\n",
    "\n",
    "def divide(x, y):\n",
    "    #Divide function \n",
    "    if y == 0:\n",
    "        raise ValueError('Can not divide by zero')\n",
    "    return x / y\n",
    "\n",
    "\n",
    "#Testing the add function\n",
    "print(add(10, 5))\n",
    "#Testing the divide (ValueError)\n",
    "print(divide(2, 0))"
   ]
  },
  {
   "cell_type": "code",
   "execution_count": null,
   "metadata": {},
   "outputs": [],
   "source": [
    "import unittest\n",
    "import calc\n",
    "\n",
    "class TestCalc(unittest.TestCase):\n",
    "    def test_add(self):\n",
    "        result = calc.add(10, 5)\n",
    "        self.assertEqual(result, 15)\n"
   ]
  },
  {
   "cell_type": "code",
   "execution_count": null,
   "metadata": {},
   "outputs": [],
   "source": [
    "#four variables\n",
    "item1 = \"phone\"\n",
    "item1_price = 100\n",
    "item1_quantity = 2\n",
    "item1_price_total = item1_price * item1_quantity\n",
    "\n",
    "print(type(item1))\n",
    "print(type(item1_price))\n",
    "print(type(item1_quantity))\n",
    "print(type(item1_price_total))"
   ]
  },
  {
   "cell_type": "code",
   "execution_count": null,
   "metadata": {},
   "outputs": [],
   "source": [
    "#create class\n",
    "class Item:\n",
    "    pass\n",
    "\n",
    "item1 = Item()\n",
    "random_str = \"hahaha\"\n",
    "item1.name = \"phone\"\n",
    "item1.price = 100\n",
    "item1_quantity = 5\n",
    "\n",
    "print(random_str.upper())\n",
    "print(type(item1))\n",
    "print(type(item1.name))\n",
    "print(type(item1_price))\n",
    "print(type(item1_quantity))"
   ]
  },
  {
   "cell_type": "code",
   "execution_count": null,
   "metadata": {},
   "outputs": [],
   "source": [
    "class Item:\n",
    "    def calculate_total_price(self, x, y):\n",
    "        return x * y\n",
    "    \n",
    "    \n",
    "item1 = Item()\n",
    "item1.name = \"phone\"\n",
    "item1.price = 100\n",
    "item1.quantity = 5\n",
    "print(item1.calculate_total_price(item1.price, item1.quantity))\n",
    "\n",
    "item2 = Item()\n",
    "item2.name = \"Laptop\"\n",
    "item2.price = 1000\n",
    "item2.quantity = 9\n",
    "print(item2.calculate_total_price(item2.price, item2.quantity))\n"
   ]
  },
  {
   "cell_type": "code",
   "execution_count": null,
   "metadata": {},
   "outputs": [],
   "source": [
    "class Item:\n",
    "    def __init__(self):\n",
    "        print(\"HA HA HA\")\n",
    "    def calculate_total_price(self, x, y):\n",
    "        return x * y\n",
    "    \n",
    "    \n",
    "item1 = Item()\n",
    "item1.name = \"phone\"\n",
    "item1.price = 100\n",
    "item1.quantity = 5\n",
    "\n",
    "\n",
    "item2 = Item()\n",
    "item2.name = \"Laptop\"\n",
    "item2.price = 1000\n",
    "item2.quantity = 9\n"
   ]
  }
 ],
 "metadata": {
  "kernelspec": {
   "display_name": "base",
   "language": "python",
   "name": "python3"
  },
  "language_info": {
   "codemirror_mode": {
    "name": "ipython",
    "version": 3
   },
   "file_extension": ".py",
   "mimetype": "text/x-python",
   "name": "python",
   "nbconvert_exporter": "python",
   "pygments_lexer": "ipython3",
   "version": "3.10.9"
  },
  "orig_nbformat": 4
 },
 "nbformat": 4,
 "nbformat_minor": 2
}
