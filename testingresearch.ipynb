{
 "cells": [
  {
   "cell_type": "markdown",
   "metadata": {},
   "source": [
    "Research and self-study on oop testing "
   ]
  },
  {
   "cell_type": "code",
   "execution_count": 26,
   "metadata": {},
   "outputs": [
    {
     "name": "stdout",
     "output_type": "stream",
     "text": [
      "15\n"
     ]
    },
    {
     "ename": "ValueError",
     "evalue": "Can not divide by zero",
     "output_type": "error",
     "traceback": [
      "\u001b[1;31m---------------------------------------------------------------------------\u001b[0m",
      "\u001b[1;31mValueError\u001b[0m                                Traceback (most recent call last)",
      "\u001b[1;32mc:\\Users\\jenni\\Documents\\GitHub\\Software-Engineering-Project-A\\testingresearch.ipynb Cell 2\u001b[0m line \u001b[0;36m2\n\u001b[0;32m     <a href='vscode-notebook-cell:/c%3A/Users/jenni/Documents/GitHub/Software-Engineering-Project-A/testingresearch.ipynb#W5sZmlsZQ%3D%3D?line=19'>20</a>\u001b[0m \u001b[39m#Testing the add function\u001b[39;00m\n\u001b[0;32m     <a href='vscode-notebook-cell:/c%3A/Users/jenni/Documents/GitHub/Software-Engineering-Project-A/testingresearch.ipynb#W5sZmlsZQ%3D%3D?line=20'>21</a>\u001b[0m \u001b[39mprint\u001b[39m(add(\u001b[39m10\u001b[39m, \u001b[39m5\u001b[39m))\n\u001b[1;32m---> <a href='vscode-notebook-cell:/c%3A/Users/jenni/Documents/GitHub/Software-Engineering-Project-A/testingresearch.ipynb#W5sZmlsZQ%3D%3D?line=22'>23</a>\u001b[0m \u001b[39mprint\u001b[39m(divide(\u001b[39m2\u001b[39;49m, \u001b[39m0\u001b[39;49m))\n",
      "\u001b[1;32mc:\\Users\\jenni\\Documents\\GitHub\\Software-Engineering-Project-A\\testingresearch.ipynb Cell 2\u001b[0m line \u001b[0;36m1\n\u001b[0;32m     <a href='vscode-notebook-cell:/c%3A/Users/jenni/Documents/GitHub/Software-Engineering-Project-A/testingresearch.ipynb#W5sZmlsZQ%3D%3D?line=12'>13</a>\u001b[0m \u001b[39mdef\u001b[39;00m \u001b[39mdivide\u001b[39m(x, y):\n\u001b[0;32m     <a href='vscode-notebook-cell:/c%3A/Users/jenni/Documents/GitHub/Software-Engineering-Project-A/testingresearch.ipynb#W5sZmlsZQ%3D%3D?line=13'>14</a>\u001b[0m     \u001b[39m#Divide function \u001b[39;00m\n\u001b[0;32m     <a href='vscode-notebook-cell:/c%3A/Users/jenni/Documents/GitHub/Software-Engineering-Project-A/testingresearch.ipynb#W5sZmlsZQ%3D%3D?line=14'>15</a>\u001b[0m     \u001b[39mif\u001b[39;00m y \u001b[39m==\u001b[39m \u001b[39m0\u001b[39m:\n\u001b[1;32m---> <a href='vscode-notebook-cell:/c%3A/Users/jenni/Documents/GitHub/Software-Engineering-Project-A/testingresearch.ipynb#W5sZmlsZQ%3D%3D?line=15'>16</a>\u001b[0m         \u001b[39mraise\u001b[39;00m \u001b[39mValueError\u001b[39;00m(\u001b[39m'\u001b[39m\u001b[39mCan not divide by zero\u001b[39m\u001b[39m'\u001b[39m)\n\u001b[0;32m     <a href='vscode-notebook-cell:/c%3A/Users/jenni/Documents/GitHub/Software-Engineering-Project-A/testingresearch.ipynb#W5sZmlsZQ%3D%3D?line=16'>17</a>\u001b[0m     \u001b[39mreturn\u001b[39;00m x \u001b[39m/\u001b[39m y\n",
      "\u001b[1;31mValueError\u001b[0m: Can not divide by zero"
     ]
    }
   ],
   "source": [
    "def add(x, y):\n",
    "    #Add function\n",
    "    return x + y\n",
    "\n",
    "def subtract(x, y):\n",
    "    #Subtract function\n",
    "    return x - y\n",
    "\n",
    "def multiply(x, y):\n",
    "    #Multiply function\n",
    "    return x * y\n",
    "\n",
    "def divide(x, y):\n",
    "    #Divide function \n",
    "    if y == 0:\n",
    "        raise ValueError('Can not divide by zero')\n",
    "    return x / y\n",
    "\n",
    "\n",
    "#Testing the add function\n",
    "print(add(10, 5))\n",
    "#Testing the divide (ValueError)\n",
    "print(divide(2, 0))"
   ]
  },
  {
   "cell_type": "code",
   "execution_count": 27,
   "metadata": {},
   "outputs": [
    {
     "ename": "ModuleNotFoundError",
     "evalue": "No module named 'calc'",
     "output_type": "error",
     "traceback": [
      "\u001b[1;31m---------------------------------------------------------------------------\u001b[0m",
      "\u001b[1;31mModuleNotFoundError\u001b[0m                       Traceback (most recent call last)",
      "\u001b[1;32mc:\\Users\\jenni\\Documents\\GitHub\\Software-Engineering-Project-A\\testingresearch.ipynb Cell 3\u001b[0m line \u001b[0;36m2\n\u001b[0;32m      <a href='vscode-notebook-cell:/c%3A/Users/jenni/Documents/GitHub/Software-Engineering-Project-A/testingresearch.ipynb#W6sZmlsZQ%3D%3D?line=0'>1</a>\u001b[0m \u001b[39mimport\u001b[39;00m \u001b[39munittest\u001b[39;00m\n\u001b[1;32m----> <a href='vscode-notebook-cell:/c%3A/Users/jenni/Documents/GitHub/Software-Engineering-Project-A/testingresearch.ipynb#W6sZmlsZQ%3D%3D?line=1'>2</a>\u001b[0m \u001b[39mimport\u001b[39;00m \u001b[39mcalc\u001b[39;00m\n\u001b[0;32m      <a href='vscode-notebook-cell:/c%3A/Users/jenni/Documents/GitHub/Software-Engineering-Project-A/testingresearch.ipynb#W6sZmlsZQ%3D%3D?line=3'>4</a>\u001b[0m \u001b[39mclass\u001b[39;00m \u001b[39mTestCalc\u001b[39;00m(unittest\u001b[39m.\u001b[39mTestCase):\n\u001b[0;32m      <a href='vscode-notebook-cell:/c%3A/Users/jenni/Documents/GitHub/Software-Engineering-Project-A/testingresearch.ipynb#W6sZmlsZQ%3D%3D?line=4'>5</a>\u001b[0m     \u001b[39mdef\u001b[39;00m \u001b[39mtest_add\u001b[39m(\u001b[39mself\u001b[39m):\n",
      "\u001b[1;31mModuleNotFoundError\u001b[0m: No module named 'calc'"
     ]
    }
   ],
   "source": [
    "import unittest\n",
    "import calc\n",
    "\n",
    "class TestCalc(unittest.TestCase):\n",
    "    def test_add(self):\n",
    "        result = calc.add(10, 5)\n",
    "        self.assertEqual(result, 15)\n"
   ]
  },
  {
   "cell_type": "code",
   "execution_count": 1,
   "metadata": {},
   "outputs": [
    {
     "name": "stdout",
     "output_type": "stream",
     "text": [
      "<class 'str'>\n",
      "<class 'int'>\n",
      "<class 'int'>\n",
      "<class 'int'>\n"
     ]
    }
   ],
   "source": [
    "#four variables\n",
    "item1 = \"phone\"\n",
    "item1_price = 100\n",
    "item1_quantity = 2\n",
    "item1_price_total = item1_price * item1_quantity\n",
    "\n",
    "print(type(item1))\n",
    "print(type(item1_price))\n",
    "print(type(item1_quantity))\n",
    "print(type(item1_price_total))"
   ]
  },
  {
   "cell_type": "code",
   "execution_count": 4,
   "metadata": {},
   "outputs": [
    {
     "name": "stdout",
     "output_type": "stream",
     "text": [
      "HAHAHA\n",
      "<class '__main__.Item'>\n",
      "<class 'str'>\n",
      "<class 'int'>\n",
      "<class 'int'>\n"
     ]
    }
   ],
   "source": [
    "#create class\n",
    "class Item:\n",
    "    pass\n",
    "\n",
    "item1 = Item()\n",
    "random_str = \"hahaha\"\n",
    "item1.name = \"phone\"\n",
    "item1.price = 100\n",
    "item1_quantity = 5\n",
    "\n",
    "print(random_str.upper())\n",
    "print(type(item1))\n",
    "print(type(item1.name))\n",
    "print(type(item1_price))\n",
    "print(type(item1_quantity))"
   ]
  },
  {
   "cell_type": "code",
   "execution_count": 14,
   "metadata": {},
   "outputs": [
    {
     "name": "stdout",
     "output_type": "stream",
     "text": [
      "500\n",
      "9000\n"
     ]
    }
   ],
   "source": [
    "class Item:\n",
    "    def calculate_total_price(self, x, y):\n",
    "        return x * y\n",
    "    \n",
    "    \n",
    "item1 = Item()\n",
    "item1.name = \"phone\"\n",
    "item1.price = 100\n",
    "item1.quantity = 5\n",
    "print(item1.calculate_total_price(item1.price, item1.quantity))\n",
    "\n",
    "item2 = Item()\n",
    "item2.name = \"Laptop\"\n",
    "item2.price = 1000\n",
    "item2.quantity = 9\n",
    "print(item2.calculate_total_price(item2.price, item2.quantity))\n"
   ]
  },
  {
   "cell_type": "code",
   "execution_count": 17,
   "metadata": {},
   "outputs": [
    {
     "name": "stdout",
     "output_type": "stream",
     "text": [
      "HA HA HA\n",
      "HA HA HA\n"
     ]
    }
   ],
   "source": [
    "class Item:\n",
    "    def __init__(self):\n",
    "        print(\"HA HA HA\")\n",
    "    def calculate_total_price(self, x, y):\n",
    "        return x * y\n",
    "    \n",
    "    \n",
    "item1 = Item()\n",
    "item1.name = \"phone\"\n",
    "item1.price = 100\n",
    "item1.quantity = 5\n",
    "\n",
    "\n",
    "item2 = Item()\n",
    "item2.name = \"Laptop\"\n",
    "item2.price = 1000\n",
    "item2.quantity = 9\n"
   ]
  }
 ],
 "metadata": {
  "kernelspec": {
   "display_name": "base",
   "language": "python",
   "name": "python3"
  },
  "language_info": {
   "codemirror_mode": {
    "name": "ipython",
    "version": 3
   },
   "file_extension": ".py",
   "mimetype": "text/x-python",
   "name": "python",
   "nbconvert_exporter": "python",
   "pygments_lexer": "ipython3",
   "version": "3.10.9"
  },
  "orig_nbformat": 4
 },
 "nbformat": 4,
 "nbformat_minor": 2
}
