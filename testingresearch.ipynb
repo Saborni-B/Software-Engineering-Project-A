{
 "cells": [
  {
   "cell_type": "markdown",
   "metadata": {},
   "source": [
    "Research and self-study on oop testing "
   ]
  },
  {
   "cell_type": "code",
   "execution_count": 45,
   "metadata": {},
   "outputs": [
    {
     "name": "stdout",
     "output_type": "stream",
     "text": [
      "15\n"
     ]
    },
    {
     "ename": "ModuleNotFoundError",
     "evalue": "No module named 'calc'",
     "output_type": "error",
     "traceback": [
      "\u001b[1;31m---------------------------------------------------------------------------\u001b[0m",
      "\u001b[1;31mModuleNotFoundError\u001b[0m                       Traceback (most recent call last)",
      "\u001b[1;32mc:\\Users\\jenni\\Documents\\GitHub\\Software-Engineering-Project-A\\testingresearch.ipynb Cell 2\u001b[0m line \u001b[0;36m2\n\u001b[0;32m     <a href='vscode-notebook-cell:/c%3A/Users/jenni/Documents/GitHub/Software-Engineering-Project-A/testingresearch.ipynb#W5sZmlsZQ%3D%3D?line=21'>22</a>\u001b[0m \u001b[39m#Testing the divide (ValueError)\u001b[39;00m\n\u001b[0;32m     <a href='vscode-notebook-cell:/c%3A/Users/jenni/Documents/GitHub/Software-Engineering-Project-A/testingresearch.ipynb#W5sZmlsZQ%3D%3D?line=22'>23</a>\u001b[0m \u001b[39m#print(divide(2, 0))\u001b[39;00m\n\u001b[0;32m     <a href='vscode-notebook-cell:/c%3A/Users/jenni/Documents/GitHub/Software-Engineering-Project-A/testingresearch.ipynb#W5sZmlsZQ%3D%3D?line=25'>26</a>\u001b[0m \u001b[39mimport\u001b[39;00m \u001b[39munittest\u001b[39;00m\n\u001b[1;32m---> <a href='vscode-notebook-cell:/c%3A/Users/jenni/Documents/GitHub/Software-Engineering-Project-A/testingresearch.ipynb#W5sZmlsZQ%3D%3D?line=26'>27</a>\u001b[0m \u001b[39mimport\u001b[39;00m \u001b[39mcalc\u001b[39;00m\n\u001b[0;32m     <a href='vscode-notebook-cell:/c%3A/Users/jenni/Documents/GitHub/Software-Engineering-Project-A/testingresearch.ipynb#W5sZmlsZQ%3D%3D?line=28'>29</a>\u001b[0m \u001b[39mclass\u001b[39;00m \u001b[39mTestCalc\u001b[39;00m(unittest\u001b[39m.\u001b[39mTestCase):\n\u001b[0;32m     <a href='vscode-notebook-cell:/c%3A/Users/jenni/Documents/GitHub/Software-Engineering-Project-A/testingresearch.ipynb#W5sZmlsZQ%3D%3D?line=29'>30</a>\u001b[0m     \u001b[39mdef\u001b[39;00m \u001b[39mtest_add\u001b[39m(\u001b[39mself\u001b[39m):\n",
      "\u001b[1;31mModuleNotFoundError\u001b[0m: No module named 'calc'"
     ]
    }
   ],
   "source": [
    "def add(x, y):\n",
    "    #Add function\n",
    "    return x + y\n",
    "\n",
    "def subtract(x, y):\n",
    "    #Subtract function\n",
    "    return x - y\n",
    "\n",
    "def multiply(x, y):\n",
    "    #Multiply function\n",
    "    return x * y\n",
    "\n",
    "def divide(x, y):\n",
    "    #Divide function \n",
    "    if y == 0:\n",
    "        raise ValueError('Can not divide by zero')\n",
    "    return x / y\n",
    "\n",
    "\n",
    "#Testing the add function\n",
    "print(add(10, 5))\n",
    "#Testing the divide (ValueError)\n",
    "#print(divide(2, 0))\n",
    "\n",
    "\n",
    "import unittest\n",
    "import calc\n",
    "\n",
    "class TestCalc(unittest.TestCase):\n",
    "    \n",
    "    def test_add(self):\n",
    "        result = calc.add(10, 5)\n",
    "        self.assertEqual(result, 15)\n",
    "        \n"
   ]
  },
  {
   "cell_type": "code",
   "execution_count": null,
   "metadata": {},
   "outputs": [],
   "source": [
    "#four variables\n",
    "item1 = \"phone\"\n",
    "item1_price = 100\n",
    "item1_quantity = 2\n",
    "item1_price_total = item1_price * item1_quantity\n",
    "\n",
    "print(type(item1))\n",
    "print(type(item1_price))\n",
    "print(type(item1_quantity))\n",
    "print(type(item1_price_total))"
   ]
  },
  {
   "cell_type": "code",
   "execution_count": null,
   "metadata": {},
   "outputs": [],
   "source": [
    "#create class\n",
    "class Item:\n",
    "    pass\n",
    "\n",
    "item1 = Item()\n",
    "random_str = \"hahaha\"\n",
    "item1.name = \"phone\"\n",
    "item1.price = 100\n",
    "item1_quantity = 5\n",
    "\n",
    "print(random_str.upper())\n",
    "print(type(item1))\n",
    "print(type(item1.name))\n",
    "print(type(item1_price))\n",
    "print(type(item1_quantity))"
   ]
  },
  {
   "cell_type": "code",
   "execution_count": null,
   "metadata": {},
   "outputs": [],
   "source": [
    "class Item:\n",
    "    def calculate_total_price(self, x, y):\n",
    "        return x * y\n",
    "    \n",
    "    \n",
    "item1 = Item()\n",
    "item1.name = \"phone\"\n",
    "item1.price = 100\n",
    "item1.quantity = 5\n",
    "print(item1.calculate_total_price(item1.price, item1.quantity))\n",
    "\n",
    "item2 = Item()\n",
    "item2.name = \"Laptop\"\n",
    "item2.price = 1000\n",
    "item2.quantity = 9\n",
    "print(item2.calculate_total_price(item2.price, item2.quantity))\n"
   ]
  },
  {
   "cell_type": "code",
   "execution_count": null,
   "metadata": {},
   "outputs": [],
   "source": [
    "class Item:\n",
    "    def __init__(self):\n",
    "        print(\"HA HA HA\")\n",
    "    def calculate_total_price(self, x, y):\n",
    "        return x * y\n",
    "    \n",
    "    \n",
    "item1 = Item()\n",
    "item1.name = \"phone\"\n",
    "item1.price = 100\n",
    "item1.quantity = 5\n",
    "\n",
    "\n",
    "item2 = Item()\n",
    "item2.name = \"Laptop\"\n",
    "item2.price = 1000\n",
    "item2.quantity = 9\n"
   ]
  }
 ],
 "metadata": {
  "kernelspec": {
   "display_name": "base",
   "language": "python",
   "name": "python3"
  },
  "language_info": {
   "codemirror_mode": {
    "name": "ipython",
    "version": 3
   },
   "file_extension": ".py",
   "mimetype": "text/x-python",
   "name": "python",
   "nbconvert_exporter": "python",
   "pygments_lexer": "ipython3",
   "version": "3.10.9"
  },
  "orig_nbformat": 4
 },
 "nbformat": 4,
 "nbformat_minor": 2
}
