{
 "cells": [
  {
   "cell_type": "markdown",
   "metadata": {},
   "source": [
    "### Time Series \n",
    "\n",
    "Goal:\n",
    "- Plot the changes of methane concentration over a period of time for a given area (ROI)\n",
    "\n",
    "Variables to be used: \n",
    "- **Methane (CH4) Concentration Data**: The concentration data that is collected by the Sentinel-5P satellite and hosted by Microsoft Planetary Computer\n",
    "- **Date period**: Date period as specified by the user (Minimum one day)\n",
    "\n",
    "---"
   ]
  },
  {
   "cell_type": "markdown",
   "metadata": {},
   "source": [
    "### Setting up environment"
   ]
  },
  {
   "cell_type": "code",
   "execution_count": 17,
   "metadata": {},
   "outputs": [],
   "source": [
    "import matplotlib.pyplot as plt\n",
    "import netCDF4 as nc4\n",
    "import xarray as xr\n",
    "import fsspec\n",
    "import numpy as np\n",
    "import xarray as xr"
   ]
  },
  {
   "cell_type": "markdown",
   "metadata": {},
   "source": [
    "### 1. Set up variables"
   ]
  },
  {
   "cell_type": "markdown",
   "metadata": {},
   "source": [
    "|Date Period\n",
    "---\n",
    "\n",
    "**Data type**: String\n",
    "\n",
    "**Format**: \"dd/mm/yyyy\""
   ]
  },
  {
   "cell_type": "code",
   "execution_count": 18,
   "metadata": {},
   "outputs": [],
   "source": [
    "date_start = \"\"\n",
    "date_end = \"\""
   ]
  },
  {
   "cell_type": "markdown",
   "metadata": {},
   "source": [
    "|Methane Concentration Data\n",
    "---\n",
    "\n"
   ]
  },
  {
   "cell_type": "code",
   "execution_count": 28,
   "metadata": {},
   "outputs": [
    {
     "ename": "RuntimeError",
     "evalue": "Unable to determine if attribute exists (incorrect metadata checksum after all read attempts)",
     "output_type": "error",
     "traceback": [
      "\u001b[1;31m---------------------------------------------------------------------------\u001b[0m",
      "\u001b[1;31mRuntimeError\u001b[0m                              Traceback (most recent call last)",
      "Cell \u001b[1;32mIn[28], line 9\u001b[0m\n\u001b[0;32m      7\u001b[0m f2 \u001b[39m=\u001b[39m fsspec\u001b[39m.\u001b[39mopen(nc_file2)\u001b[39m.\u001b[39mopen()\n\u001b[0;32m      8\u001b[0m ds1 \u001b[39m=\u001b[39m xr\u001b[39m.\u001b[39mopen_dataset(f1, group\u001b[39m=\u001b[39m\u001b[39m\"\u001b[39m\u001b[39mPRODUCT\u001b[39m\u001b[39m\"\u001b[39m, engine\u001b[39m=\u001b[39m\u001b[39m\"\u001b[39m\u001b[39mh5netcdf\u001b[39m\u001b[39m\"\u001b[39m)\n\u001b[1;32m----> 9\u001b[0m ds2 \u001b[39m=\u001b[39m xr\u001b[39m.\u001b[39;49mopen_dataset(f2, group\u001b[39m=\u001b[39;49m\u001b[39m\"\u001b[39;49m\u001b[39mPRODUCT\u001b[39;49m\u001b[39m\"\u001b[39;49m, engine\u001b[39m=\u001b[39;49m\u001b[39m\"\u001b[39;49m\u001b[39mh5netcdf\u001b[39;49m\u001b[39m\"\u001b[39;49m)\n\u001b[0;32m     11\u001b[0m ds1\n\u001b[0;32m     12\u001b[0m ds2\n",
      "File \u001b[1;32mc:\\Users\\zach0\\OneDrive - Swinburne University\\Swinburne\\SWE40001\\Software-Engineering-Project-A\\.venv\\Lib\\site-packages\\xarray\\backends\\api.py:570\u001b[0m, in \u001b[0;36mopen_dataset\u001b[1;34m(filename_or_obj, engine, chunks, cache, decode_cf, mask_and_scale, decode_times, decode_timedelta, use_cftime, concat_characters, decode_coords, drop_variables, inline_array, chunked_array_type, from_array_kwargs, backend_kwargs, **kwargs)\u001b[0m\n\u001b[0;32m    558\u001b[0m decoders \u001b[39m=\u001b[39m _resolve_decoders_kwargs(\n\u001b[0;32m    559\u001b[0m     decode_cf,\n\u001b[0;32m    560\u001b[0m     open_backend_dataset_parameters\u001b[39m=\u001b[39mbackend\u001b[39m.\u001b[39mopen_dataset_parameters,\n\u001b[1;32m   (...)\u001b[0m\n\u001b[0;32m    566\u001b[0m     decode_coords\u001b[39m=\u001b[39mdecode_coords,\n\u001b[0;32m    567\u001b[0m )\n\u001b[0;32m    569\u001b[0m overwrite_encoded_chunks \u001b[39m=\u001b[39m kwargs\u001b[39m.\u001b[39mpop(\u001b[39m\"\u001b[39m\u001b[39moverwrite_encoded_chunks\u001b[39m\u001b[39m\"\u001b[39m, \u001b[39mNone\u001b[39;00m)\n\u001b[1;32m--> 570\u001b[0m backend_ds \u001b[39m=\u001b[39m backend\u001b[39m.\u001b[39;49mopen_dataset(\n\u001b[0;32m    571\u001b[0m     filename_or_obj,\n\u001b[0;32m    572\u001b[0m     drop_variables\u001b[39m=\u001b[39;49mdrop_variables,\n\u001b[0;32m    573\u001b[0m     \u001b[39m*\u001b[39;49m\u001b[39m*\u001b[39;49mdecoders,\n\u001b[0;32m    574\u001b[0m     \u001b[39m*\u001b[39;49m\u001b[39m*\u001b[39;49mkwargs,\n\u001b[0;32m    575\u001b[0m )\n\u001b[0;32m    576\u001b[0m ds \u001b[39m=\u001b[39m _dataset_from_backend_dataset(\n\u001b[0;32m    577\u001b[0m     backend_ds,\n\u001b[0;32m    578\u001b[0m     filename_or_obj,\n\u001b[1;32m   (...)\u001b[0m\n\u001b[0;32m    588\u001b[0m     \u001b[39m*\u001b[39m\u001b[39m*\u001b[39mkwargs,\n\u001b[0;32m    589\u001b[0m )\n\u001b[0;32m    590\u001b[0m \u001b[39mreturn\u001b[39;00m ds\n",
      "File \u001b[1;32mc:\\Users\\zach0\\OneDrive - Swinburne University\\Swinburne\\SWE40001\\Software-Engineering-Project-A\\.venv\\Lib\\site-packages\\xarray\\backends\\h5netcdf_.py:412\u001b[0m, in \u001b[0;36mH5netcdfBackendEntrypoint.open_dataset\u001b[1;34m(self, filename_or_obj, mask_and_scale, decode_times, concat_characters, decode_coords, drop_variables, use_cftime, decode_timedelta, format, group, lock, invalid_netcdf, phony_dims, decode_vlen_strings)\u001b[0m\n\u001b[0;32m    400\u001b[0m store \u001b[39m=\u001b[39m H5NetCDFStore\u001b[39m.\u001b[39mopen(\n\u001b[0;32m    401\u001b[0m     filename_or_obj,\n\u001b[0;32m    402\u001b[0m     \u001b[39mformat\u001b[39m\u001b[39m=\u001b[39m\u001b[39mformat\u001b[39m,\n\u001b[1;32m   (...)\u001b[0m\n\u001b[0;32m    407\u001b[0m     decode_vlen_strings\u001b[39m=\u001b[39mdecode_vlen_strings,\n\u001b[0;32m    408\u001b[0m )\n\u001b[0;32m    410\u001b[0m store_entrypoint \u001b[39m=\u001b[39m StoreBackendEntrypoint()\n\u001b[1;32m--> 412\u001b[0m ds \u001b[39m=\u001b[39m store_entrypoint\u001b[39m.\u001b[39;49mopen_dataset(\n\u001b[0;32m    413\u001b[0m     store,\n\u001b[0;32m    414\u001b[0m     mask_and_scale\u001b[39m=\u001b[39;49mmask_and_scale,\n\u001b[0;32m    415\u001b[0m     decode_times\u001b[39m=\u001b[39;49mdecode_times,\n\u001b[0;32m    416\u001b[0m     concat_characters\u001b[39m=\u001b[39;49mconcat_characters,\n\u001b[0;32m    417\u001b[0m     decode_coords\u001b[39m=\u001b[39;49mdecode_coords,\n\u001b[0;32m    418\u001b[0m     drop_variables\u001b[39m=\u001b[39;49mdrop_variables,\n\u001b[0;32m    419\u001b[0m     use_cftime\u001b[39m=\u001b[39;49muse_cftime,\n\u001b[0;32m    420\u001b[0m     decode_timedelta\u001b[39m=\u001b[39;49mdecode_timedelta,\n\u001b[0;32m    421\u001b[0m )\n\u001b[0;32m    422\u001b[0m \u001b[39mreturn\u001b[39;00m ds\n",
      "File \u001b[1;32mc:\\Users\\zach0\\OneDrive - Swinburne University\\Swinburne\\SWE40001\\Software-Engineering-Project-A\\.venv\\Lib\\site-packages\\xarray\\backends\\store.py:43\u001b[0m, in \u001b[0;36mStoreBackendEntrypoint.open_dataset\u001b[1;34m(self, filename_or_obj, mask_and_scale, decode_times, concat_characters, decode_coords, drop_variables, use_cftime, decode_timedelta)\u001b[0m\n\u001b[0;32m     29\u001b[0m \u001b[39mdef\u001b[39;00m \u001b[39mopen_dataset\u001b[39m(  \u001b[39m# type: ignore[override]  # allow LSP violation, not supporting **kwargs\u001b[39;00m\n\u001b[0;32m     30\u001b[0m     \u001b[39mself\u001b[39m,\n\u001b[0;32m     31\u001b[0m     filename_or_obj: \u001b[39mstr\u001b[39m \u001b[39m|\u001b[39m os\u001b[39m.\u001b[39mPathLike[Any] \u001b[39m|\u001b[39m BufferedIOBase \u001b[39m|\u001b[39m AbstractDataStore,\n\u001b[1;32m   (...)\u001b[0m\n\u001b[0;32m     39\u001b[0m     decode_timedelta\u001b[39m=\u001b[39m\u001b[39mNone\u001b[39;00m,\n\u001b[0;32m     40\u001b[0m ) \u001b[39m-\u001b[39m\u001b[39m>\u001b[39m Dataset:\n\u001b[0;32m     41\u001b[0m     \u001b[39massert\u001b[39;00m \u001b[39misinstance\u001b[39m(filename_or_obj, AbstractDataStore)\n\u001b[1;32m---> 43\u001b[0m     \u001b[39mvars\u001b[39m, attrs \u001b[39m=\u001b[39m filename_or_obj\u001b[39m.\u001b[39;49mload()\n\u001b[0;32m     44\u001b[0m     encoding \u001b[39m=\u001b[39m filename_or_obj\u001b[39m.\u001b[39mget_encoding()\n\u001b[0;32m     46\u001b[0m     \u001b[39mvars\u001b[39m, attrs, coord_names \u001b[39m=\u001b[39m conventions\u001b[39m.\u001b[39mdecode_cf_variables(\n\u001b[0;32m     47\u001b[0m         \u001b[39mvars\u001b[39m,\n\u001b[0;32m     48\u001b[0m         attrs,\n\u001b[1;32m   (...)\u001b[0m\n\u001b[0;32m     55\u001b[0m         decode_timedelta\u001b[39m=\u001b[39mdecode_timedelta,\n\u001b[0;32m     56\u001b[0m     )\n",
      "File \u001b[1;32mc:\\Users\\zach0\\OneDrive - Swinburne University\\Swinburne\\SWE40001\\Software-Engineering-Project-A\\.venv\\Lib\\site-packages\\xarray\\backends\\common.py:210\u001b[0m, in \u001b[0;36mAbstractDataStore.load\u001b[1;34m(self)\u001b[0m\n\u001b[0;32m    188\u001b[0m \u001b[39mdef\u001b[39;00m \u001b[39mload\u001b[39m(\u001b[39mself\u001b[39m):\n\u001b[0;32m    189\u001b[0m \u001b[39m    \u001b[39m\u001b[39m\"\"\"\u001b[39;00m\n\u001b[0;32m    190\u001b[0m \u001b[39m    This loads the variables and attributes simultaneously.\u001b[39;00m\n\u001b[0;32m    191\u001b[0m \u001b[39m    A centralized loading function makes it easier to create\u001b[39;00m\n\u001b[1;32m   (...)\u001b[0m\n\u001b[0;32m    207\u001b[0m \u001b[39m    are requested, so care should be taken to make sure its fast.\u001b[39;00m\n\u001b[0;32m    208\u001b[0m \u001b[39m    \"\"\"\u001b[39;00m\n\u001b[0;32m    209\u001b[0m     variables \u001b[39m=\u001b[39m FrozenDict(\n\u001b[1;32m--> 210\u001b[0m         (_decode_variable_name(k), v) \u001b[39mfor\u001b[39;00m k, v \u001b[39min\u001b[39;00m \u001b[39mself\u001b[39;49m\u001b[39m.\u001b[39;49mget_variables()\u001b[39m.\u001b[39mitems()\n\u001b[0;32m    211\u001b[0m     )\n\u001b[0;32m    212\u001b[0m     attributes \u001b[39m=\u001b[39m FrozenDict(\u001b[39mself\u001b[39m\u001b[39m.\u001b[39mget_attrs())\n\u001b[0;32m    213\u001b[0m     \u001b[39mreturn\u001b[39;00m variables, attributes\n",
      "File \u001b[1;32mc:\\Users\\zach0\\OneDrive - Swinburne University\\Swinburne\\SWE40001\\Software-Engineering-Project-A\\.venv\\Lib\\site-packages\\xarray\\backends\\h5netcdf_.py:226\u001b[0m, in \u001b[0;36mH5NetCDFStore.get_variables\u001b[1;34m(self)\u001b[0m\n\u001b[0;32m    225\u001b[0m \u001b[39mdef\u001b[39;00m \u001b[39mget_variables\u001b[39m(\u001b[39mself\u001b[39m):\n\u001b[1;32m--> 226\u001b[0m     \u001b[39mreturn\u001b[39;00m FrozenDict(\n\u001b[0;32m    227\u001b[0m         (k, \u001b[39mself\u001b[39;49m\u001b[39m.\u001b[39;49mopen_store_variable(k, v)) \u001b[39mfor\u001b[39;49;00m k, v \u001b[39min\u001b[39;49;00m \u001b[39mself\u001b[39;49m\u001b[39m.\u001b[39;49mds\u001b[39m.\u001b[39;49mvariables\u001b[39m.\u001b[39;49mitems()\n\u001b[0;32m    228\u001b[0m     )\n",
      "File \u001b[1;32mc:\\Users\\zach0\\OneDrive - Swinburne University\\Swinburne\\SWE40001\\Software-Engineering-Project-A\\.venv\\Lib\\site-packages\\xarray\\core\\utils.py:471\u001b[0m, in \u001b[0;36mFrozenDict\u001b[1;34m(*args, **kwargs)\u001b[0m\n\u001b[0;32m    470\u001b[0m \u001b[39mdef\u001b[39;00m \u001b[39mFrozenDict\u001b[39m(\u001b[39m*\u001b[39margs, \u001b[39m*\u001b[39m\u001b[39m*\u001b[39mkwargs) \u001b[39m-\u001b[39m\u001b[39m>\u001b[39m Frozen:\n\u001b[1;32m--> 471\u001b[0m     \u001b[39mreturn\u001b[39;00m Frozen(\u001b[39mdict\u001b[39;49m(\u001b[39m*\u001b[39;49margs, \u001b[39m*\u001b[39;49m\u001b[39m*\u001b[39;49mkwargs))\n",
      "File \u001b[1;32mc:\\Users\\zach0\\OneDrive - Swinburne University\\Swinburne\\SWE40001\\Software-Engineering-Project-A\\.venv\\Lib\\site-packages\\xarray\\backends\\h5netcdf_.py:227\u001b[0m, in \u001b[0;36m<genexpr>\u001b[1;34m(.0)\u001b[0m\n\u001b[0;32m    225\u001b[0m \u001b[39mdef\u001b[39;00m \u001b[39mget_variables\u001b[39m(\u001b[39mself\u001b[39m):\n\u001b[0;32m    226\u001b[0m     \u001b[39mreturn\u001b[39;00m FrozenDict(\n\u001b[1;32m--> 227\u001b[0m         (k, \u001b[39mself\u001b[39;49m\u001b[39m.\u001b[39;49mopen_store_variable(k, v)) \u001b[39mfor\u001b[39;00m k, v \u001b[39min\u001b[39;00m \u001b[39mself\u001b[39m\u001b[39m.\u001b[39mds\u001b[39m.\u001b[39mvariables\u001b[39m.\u001b[39mitems()\n\u001b[0;32m    228\u001b[0m     )\n",
      "File \u001b[1;32mc:\\Users\\zach0\\OneDrive - Swinburne University\\Swinburne\\SWE40001\\Software-Engineering-Project-A\\.venv\\Lib\\site-packages\\xarray\\backends\\h5netcdf_.py:191\u001b[0m, in \u001b[0;36mH5NetCDFStore.open_store_variable\u001b[1;34m(self, name, var)\u001b[0m\n\u001b[0;32m    188\u001b[0m \u001b[39mdef\u001b[39;00m \u001b[39mopen_store_variable\u001b[39m(\u001b[39mself\u001b[39m, name, var):\n\u001b[0;32m    189\u001b[0m     \u001b[39mimport\u001b[39;00m \u001b[39mh5py\u001b[39;00m\n\u001b[1;32m--> 191\u001b[0m     dimensions \u001b[39m=\u001b[39m var\u001b[39m.\u001b[39;49mdimensions\n\u001b[0;32m    192\u001b[0m     data \u001b[39m=\u001b[39m indexing\u001b[39m.\u001b[39mLazilyIndexedArray(H5NetCDFArrayWrapper(name, \u001b[39mself\u001b[39m))\n\u001b[0;32m    193\u001b[0m     attrs \u001b[39m=\u001b[39m _read_attributes(var)\n",
      "File \u001b[1;32mc:\\Users\\zach0\\OneDrive - Swinburne University\\Swinburne\\SWE40001\\Software-Engineering-Project-A\\.venv\\Lib\\site-packages\\h5netcdf\\core.py:260\u001b[0m, in \u001b[0;36mBaseVariable.dimensions\u001b[1;34m(self)\u001b[0m\n\u001b[0;32m    258\u001b[0m \u001b[39m\u001b[39m\u001b[39m\"\"\"Return variable dimension names.\"\"\"\u001b[39;00m\n\u001b[0;32m    259\u001b[0m \u001b[39mif\u001b[39;00m \u001b[39mself\u001b[39m\u001b[39m.\u001b[39m_dimensions \u001b[39mis\u001b[39;00m \u001b[39mNone\u001b[39;00m:\n\u001b[1;32m--> 260\u001b[0m     \u001b[39mself\u001b[39m\u001b[39m.\u001b[39m_dimensions \u001b[39m=\u001b[39m \u001b[39mself\u001b[39;49m\u001b[39m.\u001b[39;49m_lookup_dimensions()\n\u001b[0;32m    261\u001b[0m \u001b[39mreturn\u001b[39;00m \u001b[39mself\u001b[39m\u001b[39m.\u001b[39m_dimensions\n",
      "File \u001b[1;32mc:\\Users\\zach0\\OneDrive - Swinburne University\\Swinburne\\SWE40001\\Software-Engineering-Project-A\\.venv\\Lib\\site-packages\\h5netcdf\\core.py:152\u001b[0m, in \u001b[0;36mBaseVariable._lookup_dimensions\u001b[1;34m(self)\u001b[0m\n\u001b[0;32m    147\u001b[0m     \u001b[39mreturn\u001b[39;00m \u001b[39mtuple\u001b[39m(\n\u001b[0;32m    148\u001b[0m         order_dim[coord_id] \u001b[39mfor\u001b[39;00m coord_id \u001b[39min\u001b[39;00m attrs[\u001b[39m\"\u001b[39m\u001b[39m_Netcdf4Coordinates\u001b[39m\u001b[39m\"\u001b[39m]\n\u001b[0;32m    149\u001b[0m     )\n\u001b[0;32m    150\u001b[0m \u001b[39m# normal variable carrying DIMENSION_LIST\u001b[39;00m\n\u001b[0;32m    151\u001b[0m \u001b[39m# extract hdf5 file references and get objects name\u001b[39;00m\n\u001b[1;32m--> 152\u001b[0m \u001b[39mif\u001b[39;00m \u001b[39m\"\u001b[39;49m\u001b[39mDIMENSION_LIST\u001b[39;49m\u001b[39m\"\u001b[39;49m \u001b[39min\u001b[39;49;00m attrs:\n\u001b[0;32m    153\u001b[0m     \u001b[39m# check if malformed variable and raise\u001b[39;00m\n\u001b[0;32m    154\u001b[0m     \u001b[39mif\u001b[39;00m _unlabeled_dimension_mix(\u001b[39mself\u001b[39m\u001b[39m.\u001b[39m_h5ds) \u001b[39m==\u001b[39m \u001b[39m\"\u001b[39m\u001b[39mlabeled\u001b[39m\u001b[39m\"\u001b[39m:\n\u001b[0;32m    155\u001b[0m         \u001b[39m# If a dimension has attached more than one scale for some reason, then\u001b[39;00m\n\u001b[0;32m    156\u001b[0m         \u001b[39m# take the last one. This is in line with netcdf-c and netcdf4-python.\u001b[39;00m\n\u001b[0;32m    157\u001b[0m         \u001b[39mreturn\u001b[39;00m \u001b[39mtuple\u001b[39m(\n\u001b[0;32m    158\u001b[0m             \u001b[39mself\u001b[39m\u001b[39m.\u001b[39m_root\u001b[39m.\u001b[39m_h5file[ref[\u001b[39m-\u001b[39m\u001b[39m1\u001b[39m]]\u001b[39m.\u001b[39mname\u001b[39m.\u001b[39msplit(\u001b[39m\"\u001b[39m\u001b[39m/\u001b[39m\u001b[39m\"\u001b[39m)[\u001b[39m-\u001b[39m\u001b[39m1\u001b[39m]\n\u001b[0;32m    159\u001b[0m             \u001b[39mfor\u001b[39;00m ref \u001b[39min\u001b[39;00m \u001b[39mlist\u001b[39m(\u001b[39mself\u001b[39m\u001b[39m.\u001b[39m_h5ds\u001b[39m.\u001b[39mattrs\u001b[39m.\u001b[39mget(\u001b[39m\"\u001b[39m\u001b[39mDIMENSION_LIST\u001b[39m\u001b[39m\"\u001b[39m, []))\n\u001b[0;32m    160\u001b[0m         )\n",
      "File \u001b[1;32mh5py\\_objects.pyx:54\u001b[0m, in \u001b[0;36mh5py._objects.with_phil.wrapper\u001b[1;34m()\u001b[0m\n",
      "File \u001b[1;32mh5py\\_objects.pyx:55\u001b[0m, in \u001b[0;36mh5py._objects.with_phil.wrapper\u001b[1;34m()\u001b[0m\n",
      "File \u001b[1;32mc:\\Users\\zach0\\OneDrive - Swinburne University\\Swinburne\\SWE40001\\Software-Engineering-Project-A\\.venv\\Lib\\site-packages\\h5py\\_hl\\attrs.py:272\u001b[0m, in \u001b[0;36mAttributeManager.__contains__\u001b[1;34m(self, name)\u001b[0m\n\u001b[0;32m    269\u001b[0m \u001b[39m@with_phil\u001b[39m\n\u001b[0;32m    270\u001b[0m \u001b[39mdef\u001b[39;00m \u001b[39m__contains__\u001b[39m(\u001b[39mself\u001b[39m, name):\n\u001b[0;32m    271\u001b[0m \u001b[39m    \u001b[39m\u001b[39m\"\"\" Determine if an attribute exists, by name. \"\"\"\u001b[39;00m\n\u001b[1;32m--> 272\u001b[0m     \u001b[39mreturn\u001b[39;00m h5a\u001b[39m.\u001b[39;49mexists(\u001b[39mself\u001b[39;49m\u001b[39m.\u001b[39;49m_id, \u001b[39mself\u001b[39;49m\u001b[39m.\u001b[39;49m_e(name))\n",
      "File \u001b[1;32mh5py\\_objects.pyx:54\u001b[0m, in \u001b[0;36mh5py._objects.with_phil.wrapper\u001b[1;34m()\u001b[0m\n",
      "File \u001b[1;32mh5py\\_objects.pyx:55\u001b[0m, in \u001b[0;36mh5py._objects.with_phil.wrapper\u001b[1;34m()\u001b[0m\n",
      "File \u001b[1;32mh5py\\h5a.pyx:103\u001b[0m, in \u001b[0;36mh5py.h5a.exists\u001b[1;34m()\u001b[0m\n",
      "\u001b[1;31mRuntimeError\u001b[0m: Unable to determine if attribute exists (incorrect metadata checksum after all read attempts)"
     ]
    }
   ],
   "source": [
    "nc_file1 = \"Download Results/S5P_OFFL_L2__CH4____20230514T034638_20230514T052808_28925_03_020500_20230515T195331.nc\"\n",
    "nc_file2 = \"Download Results/S5P_OFFL_L2__CH4____20230812T035625_20230812T053754_30202_03_020500_20230813T195702.nc\"\n",
    "file_header = nc4.Dataset(nc_file1, mode='r') # Create a file header containing the nc_file's metadata in read mode\n",
    "file_header.groups[\"PRODUCT\"]\n",
    "\n",
    "f1 = fsspec.open(nc_file1).open()\n",
    "f2 = fsspec.open(nc_file2).open()\n",
    "ds1 = xr.open_dataset(f1, group=\"PRODUCT\", engine=\"h5netcdf\")\n",
    "ds2 = xr.open_dataset(f2, group=\"PRODUCT\", engine=\"h5netcdf\")\n",
    "\n",
    "ds1\n",
    "ds2"
   ]
  },
  {
   "cell_type": "code",
   "execution_count": null,
   "metadata": {},
   "outputs": [],
   "source": [
    "ch4 = file_header.groups['PRODUCT'].variables['methane_mixing_ratio'][0, :, :]\n",
    "ch4_units = file_header.groups['PRODUCT'].variables['methane_mixing_ratio'].units\n",
    "\n",
    "print(ch4)"
   ]
  },
  {
   "cell_type": "markdown",
   "metadata": {},
   "source": [
    "### 2. Plot data time series"
   ]
  },
  {
   "cell_type": "code",
   "execution_count": 20,
   "metadata": {},
   "outputs": [
    {
     "data": {
      "image/png": "[encoded data removed]",
      "text/plain": [
       "<Figure size 1000x1000 with 1 Axes>"
      ]
     },
     "metadata": {},
     "output_type": "display_data"
    }
   ],
   "source": [
    "fig, ax = plt.subplots(figsize=(10,10))\n",
    "\n"
   ]
  }
 ],
 "metadata": {
  "kernelspec": {
   "display_name": ".venv",
   "language": "python",
   "name": "python3"
  },
  "language_info": {
   "codemirror_mode": {
    "name": "ipython",
    "version": 3
   },
   "file_extension": ".py",
   "mimetype": "text/x-python",
   "name": "python",
   "nbconvert_exporter": "python",
   "pygments_lexer": "ipython3",
   "version": "3.11.3"
  },
  "orig_nbformat": 4
 },
 "nbformat": 4,
 "nbformat_minor": 2
}
