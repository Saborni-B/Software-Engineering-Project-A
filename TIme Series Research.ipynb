{
 "cells": [
  {
   "cell_type": "code",
   "execution_count": 7,
   "metadata": {},
   "outputs": [
    {
     "name": "stdout",
     "output_type": "stream",
     "text": [
      "<class 'netCDF4._netCDF4.Dataset'>\n",
      "root group (NETCDF4 data model, file format HDF5):\n",
      "    Conventions: CF-1.7\n",
      "    institution: KNMI/SRON\n",
      "    source: Sentinel 5 precursor, TROPOMI, space-borne remote sensing, L2\n",
      "    history: 2023-05-16 04:30:10 f_s5pops tropnll2dp /mnt/data1/storage_offl_l2/cache_offl_l2/WORKING-612033466/JobOrder.612033437.xml\n",
      "    summary: TROPOMI/S5P Methane 1-Orbit L2 Swath 5.5x7.0km\n",
      "    tracking_id: d54caa00-25f3-431c-b8b9-13f4f34ec317\n",
      "    id: S5P_OFFL_L2__CH4____20230514T034638_20230514T052808_28925_03_020500_20230515T195331\n",
      "    time_reference: 2023-05-14T00:00:00Z\n",
      "    time_reference_days_since_1950: 26796\n",
      "    time_reference_julian_day: 2460078.5\n",
      "    time_reference_seconds_since_1970: 1684022400\n",
      "    time_coverage_start: 2023-05-14T04:08:12Z\n",
      "    time_coverage_end: 2023-05-14T05:06:36Z\n",
      "    time_coverage_duration: PT3504.398S\n",
      "    time_coverage_resolution: PT0.840S\n",
      "    orbit: 28925\n",
      "    references: https://sentinels.copernicus.eu/web/sentinel/technical-guides/sentinel-5p/products-algorithms; http://www.tropomi.eu/data-products/methane\n",
      "    processor_version: 2.5.0\n",
      "    keywords_vocabulary: AGU index terms, http://publications.agu.org/author-resource-center/index-terms/\n",
      "    keywords: 0300 Atmospheric Composition and Structure; 0365 Troposphere, Composition and Chemistry; 0400 Biogeosciences; 0428 Carbon Cycling; 1600 Global Change\n",
      "    standard_name_vocabulary: NetCDF Climate and Forecast Metadata Conventions Standard Name Table (v29, 08 July 2015), http://cfconventions.org/standard-names.html\n",
      "    naming_authority: nl.knmi\n",
      "    cdm_data_type: Swath\n",
      "    date_created: 2023-05-15T19:53:34Z\n",
      "    creator_name: The Sentinel 5 Precursor TROPOMI Level 2 products are developed with funding from the European Space Agency (ESA), the Netherlands Space Office (NSO), the Belgian Science Policy Office, the German Aerospace Center (DLR) and the Bayerisches Staatsministerium für Wirtschaft und Medien, Energie und Technologie (StMWi).\n",
      "    creator_url: https://sentinels.copernicus.eu/web/sentinel/missions/sentinel-5p\n",
      "    creator_email: EOSupport@Copernicus.esa.int\n",
      "    project: Sentinel 5 precursor/TROPOMI\n",
      "    geospatial_lat_min: -81.64632\n",
      "    geospatial_lat_max: 89.95805\n",
      "    geospatial_lon_min: -179.99876\n",
      "    geospatial_lon_max: 179.99936\n",
      "    license: No conditions apply\n",
      "    platform: S5P\n",
      "    sensor: TROPOMI\n",
      "    spatial_resolution: 5.5x7.0 km2\n",
      "    cpp_compiler_version: g++ (GCC) 4.8.5 20150623 (Red Hat 4.8.5-11)\n",
      "    cpp_compiler_flags: -g -O2 -fPIC -std=c++11 -W -Wall -Wno-ignored-qualifiers -Wno-write-strings -Wno-unused-variable -Wno-unused-parameter -DTROPNLL2DP\n",
      "    f90_compiler_version: GNU Fortran (GCC) 4.8.5 20150623 (Red Hat 4.8.5-11)\n",
      "    f90_compiler_flags: -gdwarf-3 -O2 -fPIC -cpp -ffpe-trap=invalid -fno-range-check -frecursive -fimplicit-none -ffree-line-length-none -DTROPNLL2DP -Wuninitialized -Wtabs\n",
      "    build_date: 2023-02-02T09:03:00Z\n",
      "    revision_control_identifier: 17a60fb214c1+\n",
      "    geolocation_grid_from_band: 7\n",
      "    identifier_product_doi: 10.5270/S5P-3lcdqiv\n",
      "    identifier_product_doi_authority: http://dx.doi.org/\n",
      "    algorithm_version: 1.5.0\n",
      "    title: TROPOMI/S5P Methane 1-Orbit L2 Swath 5.5x7.0km\n",
      "    product_version: 1.5.0\n",
      "    processing_status: Nominal\n",
      "    Status_MET_2D: Nominal\n",
      "    Status_CTM_CO: Nominal\n",
      "    Status_CTMCH4: Nominal\n",
      "    Status_NPP_VIIRS: Nominal\n",
      "    dimensions(sizes): \n",
      "    variables(dimensions): \n",
      "    groups: PRODUCT, METADATA\n",
      "{}\n"
     ]
    }
   ],
   "source": [
    "import matplotlib.pyplot as plt\n",
    "import netCDF4 as nc4\n",
    "import numpy as np\n",
    "\n",
    "nc_file = \"Download Results/S5P_OFFL_L2__CH4____20230514T034638_20230514T052808_28925_03_020500_20230515T195331.nc\"\n",
    "file_header = nc4.Dataset(nc_file, mode='r') # Create a file header containing the nc_file's metadata in read mode\n",
    "\n",
    "print(file_header)"
   ]
  },
  {
   "cell_type": "code",
   "execution_count": null,
   "metadata": {},
   "outputs": [],
   "source": []
  }
 ],
 "metadata": {
  "kernelspec": {
   "display_name": ".venv",
   "language": "python",
   "name": "python3"
  },
  "language_info": {
   "codemirror_mode": {
    "name": "ipython",
    "version": 3
   },
   "file_extension": ".py",
   "mimetype": "text/x-python",
   "name": "python",
   "nbconvert_exporter": "python",
   "pygments_lexer": "ipython3",
   "version": "3.11.3"
  },
  "orig_nbformat": 4
 },
 "nbformat": 4,
 "nbformat_minor": 2
}
