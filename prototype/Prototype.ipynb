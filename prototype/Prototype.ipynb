{
 "cells": [
  {
   "cell_type": "markdown",
   "id": "189566e5-bfbf-49b6-b8ac-2e22e08b2c94",
   "metadata": {
    "tags": []
   },
   "source": [
    "## Please provide your inputs as followed:\n",
    "\n",
    "- **input_sdate**: The start date of your period of interest in the format **dd-mm-YYYY**\n",
    "- **input_edate**: The end date of your period of interestin the format **dd-mm-YYYY**\n",
    "- **geometry**: The region of interest. Please provide this in a **bounding box format** (e.g. [10, -5, 25, 20])"
   ]
  },
  {
   "cell_type": "code",
   "execution_count": null,
   "id": "3783d61f-01e2-4875-a631-17d26ec593f4",
   "metadata": {
    "tags": []
   },
   "outputs": [],
   "source": [
    "start_date = \"2023 08 20\"\n",
    "end_date = \"2023 08 25\"\n",
    "bbox = [112.70505, -44.52755, 154.38241, -11.29524]\n",
    "country = \"\""
   ]
  },
  {
   "cell_type": "markdown",
   "id": "b9ff4d30-8935-433a-a679-cabe9735d126",
   "metadata": {
    "tags": []
   },
   "source": [
    "## Library imports "
   ]
  },
  {
   "cell_type": "code",
   "execution_count": null,
   "id": "100be2d0-a15e-457f-a512-af36c146107e",
   "metadata": {
    "tags": []
   },
   "outputs": [],
   "source": [
    "%matplotlib inline\n",
    "import matplotlib.pyplot as plt\n",
    "import netCDF4 as nc4\n",
    "import xarray as xr\n",
    "import fsspec\n",
    "import numpy as np\n",
    "import xarray as xr\n",
    "import planetary_computer\n",
    "import pystac_client\n",
    "import geopandas as gpd\n",
    "import pandas as pd\n",
    "import cartopy.crs as ccrs\n",
    "import matplotlib\n",
    "import matplotlib.pyplot as plt\n",
    "from datetime import datetime, time"
   ]
  },
  {
   "cell_type": "markdown",
   "id": "d49557f2-efbb-45dd-8b47-14575ee37f6b",
   "metadata": {
    "tags": []
   },
   "source": [
    "## Starting up PySTAC client"
   ]
  },
  {
   "cell_type": "code",
   "execution_count": null,
   "id": "873fc4cf-dc86-4ec2-9965-b307be4b942d",
   "metadata": {
    "tags": []
   },
   "outputs": [],
   "source": [
    "# Initialize PySTAC client for data query\n",
    "planetary_computer.set_subscription_key(\"c27669c4bdec434d804e2bd738cb16fc\")\n",
    "catalog = pystac_client.Client.open(\n",
    "    \"https://planetarycomputer.microsoft.com/api/stac/v1\",\n",
    "    modifier=planetary_computer.sign_inplace,\n",
    ")"
   ]
  },
  {
   "cell_type": "markdown",
   "id": "b54dfcc1-5cfe-477a-9701-dcc13b99523f",
   "metadata": {
    "tags": []
   },
   "source": [
    "## User Input"
   ]
  },
  {
   "cell_type": "markdown",
   "id": "8ced209b-3a55-4382-b5fd-5cc6547d828e",
   "metadata": {
    "tags": []
   },
   "source": [
    "### Processing of user input"
   ]
  },
  {
   "cell_type": "code",
   "execution_count": null,
   "id": "4c0c41d6",
   "metadata": {},
   "outputs": [],
   "source": [
    "# Function to convert date format \n",
    "def convert_format_date(input_date):\n",
    "    correct_formats = [\"%d %m %Y\", \"%Y %m %d\", \"%d/%m/%Y\", \"%Y/%m/%d\", \"%d-%m-%Y\", \"%Y-%m-%d\"]\n",
    "    \n",
    "    for format_str in correct_formats:\n",
    "        try:\n",
    "            date_obj = datetime.strptime(input_date, format_str)\n",
    "            formatted_date = date_obj.strftime(\"%Y-%m-%d\")\n",
    "            return formatted_date\n",
    "        except ValueError: # Raised if input format is not compatible with set standard \n",
    "            pass\n",
    "    \n",
    "    raise ValueError(\"Invalid data format\")\n",
    "\n",
    "# Convert user start date format\n",
    "try:\n",
    "    start_date = convert_format_date(start_date)\n",
    "except ValueError:\n",
    "    print(\"Invalid start date format. Please check the acceptable formats\")\n",
    "            \n",
    "# Convert user end date format\n",
    "try:\n",
    "    end_date = convert_format_date(end_date)\n",
    "except ValueError:\n",
    "    print(\"Invalid end date format. Please check the acceptable formats\")\n",
    "\n",
    "date_period = start_date + \"/\" + end_date \n",
    "print(date_period)\n"
   ]
  },
  {
   "cell_type": "markdown",
   "id": "328e9890-ea3b-42a5-9ae0-0bfbcdb76917",
   "metadata": {
    "tags": []
   },
   "source": [
    "## Search for product"
   ]
  },
  {
   "cell_type": "code",
   "execution_count": null,
   "id": "09deab92-67cf-4dc8-8e1a-6347c9e25422",
   "metadata": {
    "tags": []
   },
   "outputs": [],
   "source": [
    "search = catalog.search(\n",
    "    collections=\"sentinel-5p-l2-netcdf\",\n",
    "    bbox=bbox,\n",
    "    datetime=date_period,\n",
    "    query={\"s5p:processing_mode\": {\"eq\": \"OFFL\"}, \"s5p:product_name\": {\"eq\": \"ch4\"}},\n",
    ")\n",
    "items = search.item_collection()\n",
    "\n",
    "print(len(items))"
   ]
  },
  {
   "cell_type": "markdown",
   "id": "1dd9e82c-293f-4cdb-a263-314dfdd0a57e",
   "metadata": {
    "tags": []
   },
   "source": [
    "## Process queried data into a dataset"
   ]
  },
  {
   "cell_type": "code",
   "execution_count": null,
   "id": "39b0e8e2-bf3b-4ed4-baa8-8e1f19b11ba0",
   "metadata": {
    "tags": []
   },
   "outputs": [],
   "source": [
    "item_links = [item.assets['ch4'].href for item in items]\n",
    "item_links\n",
    "\n",
    "f = fsspec.open_files(item_links)\n",
    "f = [file.open() for file in f]\n"
   ]
  },
  {
   "cell_type": "code",
   "execution_count": null,
   "id": "471a7348-4c56-4473-830f-83fec0e73a8a",
   "metadata": {
    "tags": []
   },
   "outputs": [],
   "source": [
    "ds = xr.open_mfdataset(f, group=\"PRODUCT\", engine=\"h5netcdf\", combine='by_coords') \n",
    "ds"
   ]
  },
  {
   "cell_type": "code",
   "execution_count": null,
   "id": "0b1e009d-3d51-4d4b-82a5-6f54dcbb7fbc",
   "metadata": {
    "tags": []
   },
   "outputs": [],
   "source": [
    "varname = \"methane_mixing_ratio_bias_corrected\"\n",
    "data = ds[varname][0, :, :]\n",
    "vmin, vmax = np.nanpercentile(data, [1, 99])\n",
    "\n",
    "# methane product (NaN locations are transparent)\n",
    "lon = ds[\"longitude\"].values.squeeze()\n",
    "lat = ds[\"latitude\"].values.squeeze()\n",
    "methane = ds[varname].values.squeeze()"
   ]
  },
  {
   "cell_type": "code",
   "execution_count": null,
   "id": "d1094cc2-064d-4f1f-96ba-6c560ab9a51b",
   "metadata": {
    "tags": []
   },
   "outputs": [],
   "source": [
    "varname = \"methane_mixing_ratio_bias_corrected\"\n",
    "data = ds[varname][0, :, :]\n",
    "vmin, vmax = np.nanpercentile(data, [1, 99])\n",
    "data.plot(vmin=vmin, vmax=vmax, cmap=\"Spectral\")\n",
    "\n",
    "# methane product (NaN locations are transparent)\n",
    "lon = ds[\"longitude\"].values.squeeze()\n",
    "lat = ds[\"latitude\"].values.squeeze()\n",
    "methane = data.values"
   ]
  },
  {
   "cell_type": "code",
   "execution_count": null,
   "id": "daf0c107-9643-4aa9-961e-659ce3dc51ee",
   "metadata": {
    "tags": []
   },
   "outputs": [],
   "source": [
    "methane.shape"
   ]
  },
  {
   "cell_type": "markdown",
   "id": "c55678ff-f47d-46cc-b9b0-a52e7347a374",
   "metadata": {},
   "source": [
    "## Plot Base Map & Concentration"
   ]
  },
  {
   "cell_type": "code",
   "execution_count": null,
   "id": "c7fcc37f-e488-4ba0-8a67-2142c1a5a8f2",
   "metadata": {
    "tags": []
   },
   "outputs": [],
   "source": [
    "world = gpd.read_file(gpd.datasets.get_path('naturalearth_lowres')) # Get geopandas in-built naturalearth_lowres dataset\n",
    "continent_borders = world.dissolve(by='continent')\n",
    "\n",
    "fig, ax = plt.subplots(1, 1, figsize=(12, 8), subplot_kw={'projection': ccrs.PlateCarree()})\n",
    "\n",
    "if country != \"\":  \n",
    "    specific_country = world[world['name'].str.strip() == country] \n",
    "    \n",
    "    if not specific_country.empty:\n",
    "        \n",
    "        specific_country.boundary.plot(ax=ax, linewidth=2, color='black')\n",
    "        \n",
    "      \n",
    "        plt.title(f\"Map Highlighting {country}\")\n",
    "        \n",
    "        \n",
    "        ax.set_xlim(specific_country.total_bounds[0], specific_country.total_bounds[2])\n",
    "        ax.set_ylim(specific_country.total_bounds[1], specific_country.total_bounds[3])\n",
    "    else:\n",
    "        print(f\"Country '{country}' not found in the dataset.\")\n",
    "        world.boundary.plot(ax=ax, linewidth=1, color='black')\n",
    "        plt.title(\"World Map\")\n",
    "else:\n",
    "    world.boundary.plot(ax=ax, linewidth=1, color='black')\n",
    "    plt.title(\"World Map\")\n",
    "\n",
    "    \n",
    "ax.set_title(\"\")\n",
    "ax.set_xlabel(\"Longitude\")\n",
    "ax.set_ylabel(\"Latitude\")\n",
    "\n",
    "ax.coastlines()\n",
    "ax.gridlines(crs=ccrs.PlateCarree(), draw_labels=True, alpha=0.5, linestyle=\"--\")\n",
    "ax.set_extent(bbox, crs=ccrs.PlateCarree())\n",
    "norm = matplotlib.colors.Normalize(vmin=vmin, vmax=vmax)\n",
    "colormesh = ax.pcolormesh (lon, lat, methane, cmap = \"Spectral\", norm = norm)\n",
    "fig.colorbar(colormesh, pad=0.05, shrink=0.35, label=\"methane (mol/m2)\")\n",
    "plt.show()"
   ]
  },
  {
   "cell_type": "markdown",
   "id": "eb5912da-7eab-4ba9-92d1-43712938ed27",
   "metadata": {},
   "source": [
    "## Plot Time Series"
   ]
  },
  {
   "cell_type": "code",
   "execution_count": null,
   "id": "45d26862-e66f-4875-8015-1ab004a0b789",
   "metadata": {
    "tags": []
   },
   "outputs": [],
   "source": [
    "ds[]"
   ]
  },
  {
   "cell_type": "code",
   "execution_count": null,
   "id": "c83244a6-9e92-42b9-8db2-9468481ebd2e",
   "metadata": {
    "tags": []
   },
   "outputs": [],
   "source": [
    "dsf = xr.open_mfdataset(f, group=\"PRODUCT\", engine=\"h5netcdf\", concat_dim=\"time\", combine='nested') \n",
    "dsf"
   ]
  },
  {
   "cell_type": "code",
   "execution_count": null,
   "id": "de1b01fc-0554-41bd-b664-7caa36ec4297",
   "metadata": {},
   "outputs": [],
   "source": []
  }
 ],
 "metadata": {
  "kernelspec": {
   "display_name": "Python 3 (ipykernel)",
   "language": "python",
   "name": "python3"
  },
  "language_info": {
   "codemirror_mode": {
    "name": "ipython",
    "version": 3
   },
   "file_extension": ".py",
   "mimetype": "text/x-python",
   "name": "python",
   "nbconvert_exporter": "python",
   "pygments_lexer": "ipython3",
   "version": "3.11.4"
  }
 },
 "nbformat": 4,
 "nbformat_minor": 5
}
