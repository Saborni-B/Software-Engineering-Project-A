{
 "cells": [
  {
   "cell_type": "markdown",
   "id": "189566e5-bfbf-49b6-b8ac-2e22e08b2c94",
   "metadata": {
    "tags": []
   },
   "source": [
    "## Please provide your inputs as followed:\n",
    "\n",
    "- **input_sdate**: The start date of your period of interest in the format **dd-mm-YYYY**\n",
    "- **input_edate**: The end date of your period of interestin the format **dd-mm-YYYY**\n",
    "- **geometry**: The region of interest. Please provide this in a **bounding box format** (e.g. [10, -5, 25, 20])"
   ]
  },
  {
   "cell_type": "code",
   "execution_count": null,
   "id": "3783d61f-01e2-4875-a631-17d26ec593f4",
   "metadata": {
    "tags": []
   },
   "outputs": [],
   "source": [
    "start_date = \"2023 08 20\"\n",
    "end_date = \"2023 08 25\"\n",
    "bbox = [112.70505, -44.52755, 154.38241, -11.29524]\n",
    "country = \"Australia\""
   ]
  },
  {
   "cell_type": "markdown",
   "id": "b9ff4d30-8935-433a-a679-cabe9735d126",
   "metadata": {
    "tags": []
   },
   "source": [
    "## Library imports "
   ]
  },
  {
   "cell_type": "code",
   "execution_count": null,
   "id": "100be2d0-a15e-457f-a512-af36c146107e",
   "metadata": {
    "tags": []
   },
   "outputs": [],
   "source": [
    "%matplotlib inline\n",
    "import matplotlib.pyplot as plt\n",
    "import netCDF4 as nc4\n",
    "import xarray as xr\n",
    "import fsspec\n",
    "import numpy as np\n",
    "import xarray as xr\n",
    "import planetary_computer\n",
    "import pystac_client\n",
    "import geopandas as gpd\n",
    "import pandas as pd\n",
    "import cartopy.crs as ccrs\n",
    "import matplotlib\n",
    "import matplotlib.pyplot as plt\n",
    "from datetime import datetime, time\n",
    "import json"
   ]
  },
  {
   "cell_type": "markdown",
   "id": "d49557f2-efbb-45dd-8b47-14575ee37f6b",
   "metadata": {
    "tags": []
   },
   "source": [
    "## Starting up PySTAC client"
   ]
  },
  {
   "cell_type": "code",
   "execution_count": null,
   "id": "873fc4cf-dc86-4ec2-9965-b307be4b942d",
   "metadata": {
    "tags": []
   },
   "outputs": [],
   "source": [
    "# Initialize PySTAC client for data query\n",
    "planetary_computer.set_subscription_key(\"c27669c4bdec434d804e2bd738cb16fc\")\n",
    "catalog = pystac_client.Client.open(\n",
    "    \"https://planetarycomputer.microsoft.com/api/stac/v1\",\n",
    "    modifier=planetary_computer.sign_inplace,\n",
    ")"
   ]
  },
  {
   "cell_type": "markdown",
   "id": "b54dfcc1-5cfe-477a-9701-dcc13b99523f",
   "metadata": {
    "tags": []
   },
   "source": [
    "## User Input"
   ]
  },
  {
   "cell_type": "markdown",
   "id": "8ced209b-3a55-4382-b5fd-5cc6547d828e",
   "metadata": {
    "tags": []
   },
   "source": [
    "### Processing of user input"
   ]
  },
  {
   "cell_type": "code",
   "execution_count": null,
   "id": "4c0c41d6",
   "metadata": {},
   "outputs": [],
   "source": [
    "# Function to convert date format \n",
    "def convert_format_date(input_date):\n",
    "    correct_formats = [\"%d %m %Y\", \"%Y %m %d\", \"%d/%m/%Y\", \"%Y/%m/%d\", \"%d-%m-%Y\", \"%Y-%m-%d\"]\n",
    "    \n",
    "    for format_str in correct_formats:\n",
    "        try:\n",
    "            date_obj = datetime.strptime(input_date, format_str)\n",
    "            formatted_date = date_obj.strftime(\"%Y-%m-%d\")\n",
    "            return formatted_date\n",
    "        except ValueError: # Raised if input format is not compatible with set standard \n",
    "            pass\n",
    "    \n",
    "    raise ValueError(\"Invalid data format\")\n",
    "    \n",
    "# Convert user start date format\n",
    "try:\n",
    "    start_date = convert_format_date(start_date)\n",
    "except ValueError:\n",
    "    print(\"Invalid start date format. Please check the acceptable formats\")\n",
    "            \n",
    "# Convert user end date format\n",
    "try:\n",
    "    end_date = convert_format_date(end_date)\n",
    "except ValueError:\n",
    "    print(\"Invalid end date format. Please check the acceptable formats\")\n",
    "\n",
    "date_period = start_date + \"/\" + end_date \n",
    "print(date_period)"
   ]
  },
  {
   "cell_type": "markdown",
   "id": "328e9890-ea3b-42a5-9ae0-0bfbcdb76917",
   "metadata": {
    "tags": []
   },
   "source": [
    "## Search for product"
   ]
  },
  {
   "cell_type": "markdown",
   "id": "26f9f9c1-05d8-4451-8062-2959faa7748c",
   "metadata": {
    "tags": []
   },
   "source": [
    "### Search based on country input"
   ]
  },
  {
   "cell_type": "code",
   "execution_count": null,
   "id": "8020030f-8f15-4832-af4f-6c59cbe38012",
   "metadata": {
    "tags": []
   },
   "outputs": [],
   "source": [
    "world = gpd.read_file(gpd.datasets.get_path('naturalearth_lowres')) # Get geopandas in-built naturalearth_lowres dataset\n",
    "\n",
    "# Extract coordinates of specified country and load into a JSON object\n",
    "ROI = world[world[\"name\"] == country]\n",
    "gjson = json.loads(ROI.geometry.to_json())\n",
    "coordinates = gjson[\"features\"][0][\"geometry\"]"
   ]
  },
  {
   "cell_type": "code",
   "execution_count": null,
   "id": "fe977dbb-9533-40f4-aa1f-9114b78c9415",
   "metadata": {
    "tags": []
   },
   "outputs": [],
   "source": [
    "search = catalog.search(\n",
    "    collections=\"sentinel-5p-l2-netcdf\",\n",
    "    intersects=coordinates,\n",
    "    datetime=date_period,\n",
    "    query={\"s5p:processing_mode\": {\"eq\": \"OFFL\"}, \"s5p:product_name\": {\"eq\": \"ch4\"}},\n",
    ")\n",
    "items = search.item_collection()\n",
    "\n",
    "print(len(items))"
   ]
  },
  {
   "cell_type": "markdown",
   "id": "aa6f6e28-a153-45d7-9fb4-d808e8f2544d",
   "metadata": {
    "tags": []
   },
   "source": [
    "### Search based on bbox"
   ]
  },
  {
   "cell_type": "code",
   "execution_count": null,
   "id": "c52077d3-8406-4d06-822b-baf55e1f62fa",
   "metadata": {
    "tags": []
   },
   "outputs": [],
   "source": [
    "search = catalog.search(\n",
    "    collections=\"sentinel-5p-l2-netcdf\",\n",
    "    bbox=bbox,\n",
    "    datetime=date_period,\n",
    "    query={\"s5p:processing_mode\": {\"eq\": \"OFFL\"}, \"s5p:product_name\": {\"eq\": \"ch4\"}},\n",
    ")\n",
    "items = search.item_collection()\n",
    "\n",
    "print(len(items))"
   ]
  },
  {
   "cell_type": "markdown",
   "id": "1dd9e82c-293f-4cdb-a263-314dfdd0a57e",
   "metadata": {
    "tags": []
   },
   "source": [
    "## Process queried data into a dataset"
   ]
  },
  {
   "cell_type": "code",
   "execution_count": null,
   "id": "39b0e8e2-bf3b-4ed4-baa8-8e1f19b11ba0",
   "metadata": {
    "tags": []
   },
   "outputs": [],
   "source": [
    "item_links = [item.assets['ch4'].href for item in items]\n",
    "item_links\n",
    "\n",
    "f = fsspec.open_files(item_links)\n",
    "f = [file.open() for file in f]\n"
   ]
  },
  {
   "cell_type": "code",
   "execution_count": null,
   "id": "162ebc0c-a4fb-4b1e-b74e-427eb003cd50",
   "metadata": {
    "tags": []
   },
   "outputs": [],
   "source": [
    "datasets = [xr.open_dataset(nc_file, group=\"PRODUCT\", engine=\"h5netcdf\") for nc_file in f]"
   ]
  },
  {
   "cell_type": "code",
   "execution_count": null,
   "id": "471a7348-4c56-4473-830f-83fec0e73a8a",
   "metadata": {
    "tags": []
   },
   "outputs": [],
   "source": [
    "# Initialize the map\n",
    "fig, ax = plt.subplots(1, 1, figsize=(12, 8), subplot_kw={'projection': ccrs.PlateCarree()})\n",
    "continent_borders = world.dissolve(by='continent')\n",
    "continent_borders.boundary.plot(ax=ax, linewidth=1, color='black')\n",
    "\n",
    "for item in f: # For each opened item in query\n",
    "    ds = xr.open_dataset(item, group=\"PRODUCT\", engine=\"h5netcdf\") # Create a dataset\n",
    "    \n",
    "    for time in range(ds.dims[\"time\"]): # For each time within a dataset\n",
    "        \n",
    "        # Extract the relevant data (assuming the variable name is 'methane_mixing_ratio_bias_corrected')\n",
    "        data = ds['methane_mixing_ratio_bias_corrected'][0, :, :] # \n",
    "        #print(data.values)\n",
    "        lon = ds['longitude'].values.squeeze()\n",
    "        lat = ds['latitude'].values.squeeze()\n",
    "\n",
    "        # Calculate vmin and vmax for color normalization\n",
    "        vmin, vmax = np.nanpercentile(data, [1, 99])\n",
    "\n",
    "        # Plot the data\n",
    "        norm = matplotlib.colors.Normalize(vmin=vmin, vmax=vmax)\n",
    "        colormesh = ax.pcolormesh(lon, lat, data.values, cmap=\"Spectral\", norm=norm, transform=ccrs.PlateCarree(), alpha=0.9, rasterized=True)\n",
    "        \n",
    "fig.colorbar(colormesh, pad=0.05, shrink=0.35, label=\"methane (mol/m2)\")\n",
    "\n",
    "ax.set_xlim(bbox[0], bbox[2])\n",
    "ax.set_ylim(bbox[1], bbox[3])\n",
    "\n",
    "plt.show()"
   ]
  },
  {
   "cell_type": "code",
   "execution_count": null,
   "id": "f30ec737-f2d6-4ad6-9a7f-b1700e3c162b",
   "metadata": {
    "tags": []
   },
   "outputs": [],
   "source": [
    "datasets[0].time.values[0]"
   ]
  },
  {
   "cell_type": "code",
   "execution_count": null,
   "id": "447ceb64-a0e4-4898-8050-f1ab9276564d",
   "metadata": {
    "tags": []
   },
   "outputs": [],
   "source": [
    "ds = datasets[dataset.time == np.datetime64(\"2023-08-25\") for dataset in datasets]\n",
    "xr.merge"
   ]
  },
  {
   "cell_type": "markdown",
   "id": "aa3a83ad-2158-46ee-8fcc-bb28ca491fab",
   "metadata": {
    "tags": []
   },
   "source": [
    "---\n",
    "\n",
    "## END OF WORKING PIPELINE\n",
    "\n",
    "## IGNORE BOTTOM SECTION FOR THE MOMENT\n",
    "\n",
    "---"
   ]
  },
  {
   "cell_type": "code",
   "execution_count": null,
   "id": "bf74cd7a-9f42-4130-9a94-bb4afd003338",
   "metadata": {
    "tags": []
   },
   "outputs": [],
   "source": [
    "ds = xr.open_mfdataset(f, group=\"PRODUCT\", engine=\"h5netcdf\", combine='by_coords') \n",
    "ds"
   ]
  },
  {
   "cell_type": "code",
   "execution_count": null,
   "id": "c94ff42d-ea61-4e91-bd68-a837f5e4d437",
   "metadata": {
    "tags": []
   },
   "outputs": [],
   "source": [
    "ds2 = xr.open_mfdataset(f, group=\"PRODUCT\", engine=\"h5netcdf\", concat_dim=\"t\", combine='nested') \n",
    "ds2"
   ]
  },
  {
   "cell_type": "code",
   "execution_count": null,
   "id": "2894b1d4-ccce-4d21-a66e-b493d7d79834",
   "metadata": {
    "tags": []
   },
   "outputs": [],
   "source": [
    "varname = \"methane_mixing_ratio_bias_corrected\"\n",
    "\n",
    "for time in range(ds.dims[\"time\"]):    \n",
    "    data = ds[varname][time, :, :]\n",
    "    vmin, vmax = np.nanpercentile(data, [1, 99])\n",
    "\n",
    "    # methane product (NaN locations are transparent)\n",
    "    lon = ds2[\"longitude\"][time].values.squeeze()\n",
    "    lat = ds2[\"latitude\"][time].values.squeeze()\n",
    "    methane = data.values\n",
    "    norm = matplotlib.colors.Normalize(vmin=vmin, vmax=vmax)\n",
    "    # colormesh = ax.pcolormesh(lon, lat, data.values, cmap=\"Spectral\", norm=norm, transform=ccrs.PlateCarree())\n",
    "\n",
    "    print(lon)"
   ]
  },
  {
   "cell_type": "code",
   "execution_count": null,
   "id": "96dc3fae-a452-4bca-a18c-31abe904dc6e",
   "metadata": {
    "tags": []
   },
   "outputs": [],
   "source": [
    "varname = \"methane_mixing_ratio_bias_corrected\"\n",
    "for darr_idx in range(ds2.dims[\"t\"]):\n",
    "    for time in range(ds2.dims[\"time\"]):    \n",
    "        data2 = ds2[varname][time, :, :]\n",
    "        vmin2, vmax2 = np.nanpercentile(data2, [1, 99])\n",
    "\n",
    "        # methane product (NaN locations are transparent)\n",
    "        lon2 = ds2[\"longitude\"][darr_idx][time].values.squeeze()\n",
    "        lat2 = ds2[\"latitude\"][darr_idx][time].values.squeeze()\n",
    "        methane2 = data2.values\n",
    "        norm2 = matplotlib.colors.Normalize(vmin=vmin, vmax=vmax)\n",
    "        # colormesh2 = ax.pcolormesh(lon2, lat2, data2.values, cmap=\"Spectral\", norm=norm2, transform=ccrs.PlateCarree())\n",
    "\n",
    "    print(lon2)"
   ]
  },
  {
   "cell_type": "code",
   "execution_count": null,
   "id": "9961b95c-4c09-4a71-a4a7-8d2457c10a15",
   "metadata": {
    "tags": []
   },
   "outputs": [],
   "source": [
    "varname = \"methane_mixing_ratio_bias_corrected\"\n",
    "data = ds[varname][0, :, :]\n",
    "vmin, vmax = np.nanpercentile(data, [1, 99])\n",
    "\n",
    "# methane product (NaN locations are transparent)\n",
    "lon = ds[\"longitude\"][0].values.squeeze()\n",
    "lat = ds[\"latitude\"][0].values.squeeze()\n",
    "methane = data.values\n",
    "norm = matplotlib.colors.Normalize(vmin=vmin, vmax=vmax)"
   ]
  },
  {
   "cell_type": "code",
   "execution_count": null,
   "id": "2eef18c2-fc78-485e-9d5d-240bc0e443a9",
   "metadata": {
    "tags": []
   },
   "outputs": [],
   "source": [
    "data2 = ds2[varname][0, :, :]\n",
    "vmin2, vmax2 = np.nanpercentile(data2, [1, 99])\n",
    "\n",
    "# methane product (NaN locations are transparent)\n",
    "lon2 = ds2[\"longitude\"][0].values.squeeze()\n",
    "lat2 = ds2[\"latitude\"][0].values.squeeze()\n",
    "methane2 = data2.values\n",
    "norm2 = matplotlib.colors.Normalize(vmin=vmin2, vmax=vmax2)"
   ]
  },
  {
   "cell_type": "code",
   "execution_count": null,
   "id": "191a533d-95a0-4bd0-971a-031da8f6a200",
   "metadata": {
    "tags": []
   },
   "outputs": [],
   "source": [
    "data2"
   ]
  },
  {
   "cell_type": "code",
   "execution_count": null,
   "id": "00769ab3-82fa-4991-b35b-dc05ee25dbf7",
   "metadata": {
    "tags": []
   },
   "outputs": [],
   "source": [
    "ds2[\"longitude\"][0][0].values"
   ]
  },
  {
   "cell_type": "markdown",
   "id": "c55678ff-f47d-46cc-b9b0-a52e7347a374",
   "metadata": {},
   "source": [
    "## Plot Base Map & Concentration"
   ]
  },
  {
   "cell_type": "code",
   "execution_count": null,
   "id": "c7fcc37f-e488-4ba0-8a67-2142c1a5a8f2",
   "metadata": {
    "tags": []
   },
   "outputs": [],
   "source": [
    "world = gpd.read_file(gpd.datasets.get_path('naturalearth_lowres')) # Get geopandas in-built naturalearth_lowres dataset\n",
    "continent_borders = world.dissolve(by='continent')\n",
    "\n",
    "fig, ax = plt.subplots(1, 1, figsize=(12, 8), subplot_kw={'projection': ccrs.PlateCarree()})\n",
    "\n",
    "if country != \"\":  \n",
    "    specific_country = world[world['name'].str.strip() == country] \n",
    "    \n",
    "    if not specific_country.empty:\n",
    "        \n",
    "        specific_country.boundary.plot(ax=ax, linewidth=2, color='black')\n",
    "        \n",
    "        plt.title(f\"Map Highlighting {country}\")\n",
    "        \n",
    "        ax.set_xlim(specific_country.total_bounds[0], specific_country.total_bounds[2])\n",
    "        ax.set_ylim(specific_country.total_bounds[1], specific_country.total_bounds[3])\n",
    "elif not not bbox:\n",
    "    ax.set_xlim(bbox[0], bbox[2])\n",
    "    ax.set_ylim(bbox[1], bbox[3])\n",
    "else:\n",
    "    print(f\"Country '{country}' not found in the dataset.\")\n",
    "    world.boundary.plot(ax=ax, linewidth=1, color='black')\n",
    "    plt.title(\"World Map\")\n",
    "\n",
    "ax.set_title(\"\")\n",
    "ax.set_xlabel(\"Longitude\")\n",
    "ax.set_ylabel(\"Latitude\")\n",
    "        \n",
    "for darray in range(ds2.dims[\"t\"]):\n",
    "    for time in range(ds2.dims[\"time\"]):    \n",
    "        data = ds[varname][time, :, :]\n",
    "        vmin, vmax = np.nanpercentile(data, [1, 99])\n",
    "\n",
    "        # methane product (NaN locations are transparent)\n",
    "        lon = ds[\"longitude\"][time].values.squeeze()\n",
    "        lat = ds[\"latitude\"][time].values.squeeze()\n",
    "        methane = data.values\n",
    "        norm = matplotlib.colors.Normalize(vmin=vmin, vmax=vmax)\n",
    "        \n",
    "        colormesh = ax.pcolormesh(lon, lat, data.values, cmap=\"Spectral\", norm=norm, transform=ccrs.PlateCarree())\n",
    "fig.colorbar(colormesh2, pad=0.05, shrink=0.35, label=\"methane (mol/m2)\")\n",
    "plt.show()"
   ]
  },
  {
   "cell_type": "code",
   "execution_count": null,
   "id": "9acfbe09-c963-4c36-a143-9d14870caa02",
   "metadata": {
    "tags": []
   },
   "outputs": [],
   "source": [
    "world[world[\"name\"]==\"Australia\"].boundary"
   ]
  },
  {
   "cell_type": "markdown",
   "id": "eb5912da-7eab-4ba9-92d1-43712938ed27",
   "metadata": {},
   "source": [
    "## Plot Time Series"
   ]
  }
 ],
 "metadata": {
  "kernelspec": {
   "display_name": ".venv",
   "language": "python",
   "name": ".venv"
  },
  "language_info": {
   "codemirror_mode": {
    "name": "ipython",
    "version": 3
   },
   "file_extension": ".py",
   "mimetype": "text/x-python",
   "name": "python",
   "nbconvert_exporter": "python",
   "pygments_lexer": "ipython3",
   "version": "3.11.3"
  }
 },
 "nbformat": 4,
 "nbformat_minor": 5
}
