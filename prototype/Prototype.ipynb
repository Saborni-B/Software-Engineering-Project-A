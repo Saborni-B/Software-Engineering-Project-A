{
 "cells": [
  {
   "cell_type": "markdown",
   "id": "189566e5-bfbf-49b6-b8ac-2e22e08b2c94",
   "metadata": {
    "tags": []
   },
   "source": [
    "## Please provide your inputs as followed:\n",
    "\n",
    "- **input_sdate**: The start date of your period of interest in the format **dd-mm-YYYY**\n",
    "- **input_edate**: The end date of your period of interestin the format **dd-mm-YYYY**\n",
    "- **geometry**: The region of interest. Please provide this in a **bounding box format** (e.g. [10, -5, 25, 20])"
   ]
  },
  {
   "cell_type": "code",
   "execution_count": null,
   "id": "3783d61f-01e2-4875-a631-17d26ec593f4",
   "metadata": {
    "tags": []
   },
   "outputs": [],
   "source": [
    "start_date = \"2023 08 20\"\n",
    "end_date = \"2023 08 25\"\n",
    "bbox = [112.70505, -44.52755, 154.38241, -11.29524]\n",
    "country = \"Australia\""
   ]
  },
  {
   "cell_type": "markdown",
   "id": "b9ff4d30-8935-433a-a679-cabe9735d126",
   "metadata": {
    "tags": []
   },
   "source": [
    "## Library imports "
   ]
  },
  {
   "cell_type": "code",
   "execution_count": null,
   "id": "100be2d0-a15e-457f-a512-af36c146107e",
   "metadata": {
    "tags": []
   },
   "outputs": [],
   "source": [
    "%matplotlib inline\n",
    "import matplotlib.pyplot as plt\n",
    "import netCDF4 as nc4\n",
    "import xarray as xr\n",
    "import fsspec\n",
    "import numpy as np\n",
    "import xarray as xr\n",
    "import planetary_computer\n",
    "import pystac_client\n",
    "import geopandas as gpd\n",
    "import pandas as pd\n",
    "import cartopy.crs as ccrs\n",
    "import matplotlib\n",
    "import matplotlib.pyplot as plt\n",
    "from datetime import datetime, time\n",
    "import json\n",
    "import import_ipynb"
   ]
  },
  {
   "cell_type": "markdown",
   "id": "d49557f2-efbb-45dd-8b47-14575ee37f6b",
   "metadata": {
    "tags": []
   },
   "source": [
    "## Starting up PySTAC client"
   ]
  },
  {
   "cell_type": "code",
   "execution_count": null,
   "id": "873fc4cf-dc86-4ec2-9965-b307be4b942d",
   "metadata": {
    "tags": []
   },
   "outputs": [],
   "source": [
    "# Initialize PySTAC client for data query\n",
    "planetary_computer.set_subscription_key(\"c27669c4bdec434d804e2bd738cb16fc\")\n",
    "catalog = pystac_client.Client.open(\n",
    "    \"https://planetarycomputer.microsoft.com/api/stac/v1\",\n",
    "    modifier=planetary_computer.sign_inplace,\n",
    ")"
   ]
  },
  {
   "cell_type": "code",
   "execution_count": null,
   "id": "e637e35b",
   "metadata": {},
   "outputs": [],
   "source": [
    "#The acceptable formats are dd mm YYYYY, YYYY mm dd, dd-mm-YYYY, YYYY-mm-dd, dd/mm/YYYY, YYYY/mm/dd\n",
    "start_date = \"2023 08 20\"\n",
    "end_date = \"25 08 2023\"\n",
    "region = [174.563615, -36.893762, 174.860246, -36.717901] #Auckland NZ"
   ]
  },
  {
   "cell_type": "markdown",
   "id": "b54dfcc1-5cfe-477a-9701-dcc13b99523f",
   "metadata": {
    "tags": []
   },
   "source": [
    "## User Input"
   ]
  },
  {
   "cell_type": "markdown",
   "id": "8ced209b-3a55-4382-b5fd-5cc6547d828e",
   "metadata": {
    "tags": []
   },
   "source": [
    "### Processing of user input"
   ]
  },
  {
   "cell_type": "code",
   "execution_count": null,
   "id": "4c0c41d6",
   "metadata": {},
   "outputs": [],
   "source": [
    "# Function to convert date format \n",
    "def convert_format_date(input_date):\n",
    "    correct_formats = [\"%d %m %Y\", \"%Y %m %d\", \"%d/%m/%Y\", \"%Y/%m/%d\", \"%d-%m-%Y\", \"%Y-%m-%d\"]\n",
    "    \n",
    "    for format_str in correct_formats:\n",
    "        try:\n",
    "            date_obj = datetime.strptime(input_date, format_str)\n",
    "            formatted_date = date_obj.strftime(\"%Y-%m-%d\")\n",
    "            return formatted_date\n",
    "        except ValueError: # Raised if input format is not compatible with set standard \n",
    "            pass\n",
    "    \n",
    "    raise ValueError(\"Invalid data format\")\n",
    "\n",
    "# Convert user start date format\n",
    "try:\n",
    "    start_date = convert_format_date(start_date)\n",
    "except ValueError:\n",
    "    print(\"Invalid start date format. Please check the acceptable formats\")\n",
    "            \n",
    "# Convert user end date format\n",
    "try:\n",
    "    end_date = convert_format_date(end_date)\n",
    "except ValueError:\n",
    "    print(\"Invalid end date format. Please check the acceptable formats\")\n",
    "\n",
    "date_period = start_date + \"/\" + end_date \n",
    "print(date_period)"
   ]
  },
  {
   "cell_type": "markdown",
   "id": "328e9890-ea3b-42a5-9ae0-0bfbcdb76917",
   "metadata": {
    "tags": []
   },
   "source": [
    "## Search for product"
   ]
  },
  {
   "cell_type": "code",
   "execution_count": null,
   "id": "8020030f-8f15-4832-af4f-6c59cbe38012",
   "metadata": {
    "tags": []
   },
   "outputs": [],
   "source": [
    "world = gpd.read_file(gpd.datasets.get_path('naturalearth_lowres')) # Get geopandas in-built naturalearth_lowres dataset"
   ]
  },
  {
   "cell_type": "code",
   "execution_count": null,
   "id": "ed8d4f4b",
   "metadata": {},
   "outputs": [],
   "source": [
    "# Function to search the product by bbox and country\n",
    "def search_catalog(region, date_period):\n",
    "    search_parameters = {\n",
    "        \"collections\": \"sentinel-5p-l2-netcdf\",\n",
    "        \"datetime\": date_period,\n",
    "        \"query\": {\"s5p:processing_mode\": {\"eq\": \"OFFL\"}, \"s5p:product_name\": {\"eq\": \"ch4\"}},\n",
    "    }\n",
    "   \n",
    "    #bbox input\n",
    "    if isinstance(region, list) and len(region) == 4:\n",
    "        min_long, min_lat, max_long, max_lat = region\n",
    "        #-180 to 180 for longitudes, -90 to 90 for latitudes\n",
    "        long = all(-180 <= coordinates <= 180 for coordinates in [min_long, max_long]) \n",
    "        lat = all(-90 <= coordinates <= 90 for coordinates in [min_lat, max_lat])\n",
    "        \n",
    "        if long and lat:\n",
    "            search_parameters[\"bbox\"] = region\n",
    "        elif not long:\n",
    "            raise ValueError(\"Invalid longitudes in bbox\")\n",
    "        elif not lat:\n",
    "            raise ValueError(\"Invalid latitudes in bbox\")\n",
    "        else:\n",
    "            raise ValueError(\"Invalid coordinates in bbox\")\n",
    "        \n",
    "    else:\n",
    "        # Extract the coordinates of specified country and load into a JSON object \n",
    "        ROI = world[world[\"name\"] == region]\n",
    "        gjson = json.loads(ROI.to_json())\n",
    "        coordinates = gjson[\"features\"][0][\"geometry\"][\"coordinates\"]\n",
    "        \n",
    "        if not isinstance(coordinates, list): \n",
    "            coordinates = [coordinates]    \n",
    "                         \n",
    "        #MultiPolygon is used to represent multiple polygons bbox and country     \n",
    "        search_parameters[\"intersects\"] = {\n",
    "            \"type\": \"MultiPolygon\", \n",
    "            \"coordinates\": coordinates\n",
    "        }\n",
    "        \n",
    "    search = catalog.search(**search_parameters)\n",
    "    items = search.item_collection()\n",
    "\n",
    "    return items\n",
    "\n",
    "# Use search_catalog function with a single variable \"region\" for bbox and country name\n",
    "result = search_catalog(region=region, date_period=date_period)\n",
    "\n",
    "# Print the result\n",
    "print(f\"Number of items for input: {len(result)}\")"
   ]
  },
  {
   "cell_type": "markdown",
   "id": "1dd9e82c-293f-4cdb-a263-314dfdd0a57e",
   "metadata": {
    "tags": []
   },
   "source": [
    "## Process queried data into a dataset"
   ]
  },
  {
   "cell_type": "code",
   "execution_count": null,
   "id": "39b0e8e2-bf3b-4ed4-baa8-8e1f19b11ba0",
   "metadata": {
    "tags": []
   },
   "outputs": [],
   "source": [
    "item_links = [item.assets['ch4'].href for item in result]\n",
    "item_links\n",
    "\n",
    "f = fsspec.open_files(item_links)\n",
    "f = [file.open() for file in f]\n"
   ]
  },
  {
   "cell_type": "code",
   "execution_count": null,
   "id": "162ebc0c-a4fb-4b1e-b74e-427eb003cd50",
   "metadata": {
    "tags": []
   },
   "outputs": [],
   "source": [
    "datasets = [xr.open_dataset(nc_file, group=\"PRODUCT\", engine=\"h5netcdf\") for nc_file in f]"
   ]
  },
  {
   "cell_type": "code",
   "execution_count": null,
   "id": "471a7348-4c56-4473-830f-83fec0e73a8a",
   "metadata": {
    "tags": []
   },
   "outputs": [],
   "source": [
    "# Initialize the map\n",
    "fig, ax = plt.subplots(1, 1, figsize=(12, 8), subplot_kw={'projection': ccrs.PlateCarree()})\n",
    "continent_borders = world.dissolve(by='continent')\n",
    "continent_borders.boundary.plot(ax=ax, linewidth=1, color='black')\n",
    "\n",
    "for item in f: # For each opened item in query\n",
    "    ds = xr.open_dataset(item, group=\"PRODUCT\", engine=\"h5netcdf\") # Create a dataset\n",
    "    \n",
    "    for time in range(ds.dims[\"time\"]): # For each time within a dataset\n",
    "        \n",
    "        # Extract the relevant data (assuming the variable name is 'methane_mixing_ratio_bias_corrected')\n",
    "        data = ds['methane_mixing_ratio_bias_corrected'][0, :, :] # \n",
    "        #print(data.values)\n",
    "        lon = ds['longitude'].values.squeeze()\n",
    "        lat = ds['latitude'].values.squeeze()\n",
    "\n",
    "        # Calculate vmin and vmax for color normalization\n",
    "        vmin, vmax = np.nanpercentile(data, [1, 99])\n",
    "\n",
    "        # Plot the data\n",
    "        norm = matplotlib.colors.Normalize(vmin=vmin, vmax=vmax)\n",
    "        colormesh = ax.pcolormesh(lon, lat, data.values, cmap=\"Spectral\", norm=norm, transform=ccrs.PlateCarree(), alpha=0.9, rasterized=True)\n",
    "        \n",
    "fig.colorbar(colormesh, pad=0.05, shrink=0.35, label=\"methane (mol/m2)\")\n",
    "\n",
    "ax.set_xlim(bbox[0], bbox[2])\n",
    "ax.set_ylim(bbox[1], bbox[3])\n",
    "\n",
    "plt.show()"
   ]
  }
 ],
 "metadata": {
  "kernelspec": {
   "display_name": ".venv",
   "language": "python",
   "name": ".venv"
  },
  "language_info": {
   "codemirror_mode": {
    "name": "ipython",
    "version": 3
   },
   "file_extension": ".py",
   "mimetype": "text/x-python",
   "name": "python",
   "nbconvert_exporter": "python",
   "pygments_lexer": "ipython3",
   "version": "3.11.3"
  }
 },
 "nbformat": 4,
 "nbformat_minor": 5
}
