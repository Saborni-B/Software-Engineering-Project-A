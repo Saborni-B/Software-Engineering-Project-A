{
 "cells": [
  {
   "attachments": {},
   "cell_type": "markdown",
   "metadata": {},
   "source": []
  },
  {
   "cell_type": "code",
   "execution_count": 1,
   "metadata": {},
   "outputs": [
    {
     "ename": "OSError",
     "evalue": "[Errno -51] NetCDF: Unknown file format: '/Users/ud/Downloads/S5P_OFFL_L2__CH4____20230423T033814_20230423T051945_28627_03_020500_20230424T195436.nc'",
     "output_type": "error",
     "traceback": [
      "\u001b[1;31m---------------------------------------------------------------------------\u001b[0m",
      "\u001b[1;31mOSError\u001b[0m                                   Traceback (most recent call last)",
      "Cell \u001b[1;32mIn[1], line 8\u001b[0m\n\u001b[0;32m      6\u001b[0m \u001b[39m# Assume data have been queired and downloaded\u001b[39;00m\n\u001b[0;32m      7\u001b[0m my_example_nc_file \u001b[39m=\u001b[39m \u001b[39m'\u001b[39m\u001b[39m/Users/ud/Downloads/S5P_OFFL_L2__CH4____20230423T033814_20230423T051945_28627_03_020500_20230424T195436.nc\u001b[39m\u001b[39m'\u001b[39m\n\u001b[1;32m----> 8\u001b[0m fh \u001b[39m=\u001b[39m nc4\u001b[39m.\u001b[39;49mDataset(my_example_nc_file, mode\u001b[39m=\u001b[39;49m\u001b[39m'\u001b[39;49m\u001b[39mr\u001b[39;49m\u001b[39m'\u001b[39;49m)\n\u001b[0;32m     10\u001b[0m lons \u001b[39m=\u001b[39m fh\u001b[39m.\u001b[39mgroups[\u001b[39m'\u001b[39m\u001b[39mPRODUCT\u001b[39m\u001b[39m'\u001b[39m]\u001b[39m.\u001b[39mvariables[\u001b[39m'\u001b[39m\u001b[39mlongitude\u001b[39m\u001b[39m'\u001b[39m][:][\u001b[39m0\u001b[39m, :, :]\n\u001b[0;32m     11\u001b[0m lats \u001b[39m=\u001b[39m fh\u001b[39m.\u001b[39mgroups[\u001b[39m'\u001b[39m\u001b[39mPRODUCT\u001b[39m\u001b[39m'\u001b[39m]\u001b[39m.\u001b[39mvariables[\u001b[39m'\u001b[39m\u001b[39mlatitude\u001b[39m\u001b[39m'\u001b[39m][:][\u001b[39m0\u001b[39m, :, :]\n",
      "File \u001b[1;32msrc\\netCDF4\\_netCDF4.pyx:2464\u001b[0m, in \u001b[0;36mnetCDF4._netCDF4.Dataset.__init__\u001b[1;34m()\u001b[0m\n",
      "File \u001b[1;32msrc\\netCDF4\\_netCDF4.pyx:2027\u001b[0m, in \u001b[0;36mnetCDF4._netCDF4._ensure_nc_success\u001b[1;34m()\u001b[0m\n",
      "\u001b[1;31mOSError\u001b[0m: [Errno -51] NetCDF: Unknown file format: '/Users/ud/Downloads/S5P_OFFL_L2__CH4____20230423T033814_20230423T051945_28627_03_020500_20230424T195436.nc'"
     ]
    }
   ],
   "source": [
    "import netCDF4 as nc4\n",
    "import geopandas as gpd\n",
    "import numpy as np\n",
    "import matplotlib.pyplot as plt\n",
    "\n",
    "# Assume data have been queired and downloaded\n",
    "# Open and read nc file into a nc4 dataset\n",
    "my_example_nc_file = '/Users/ud/Downloads/S5P_OFFL_L2__CH4____20230423T033814_20230423T051945_28627_03_020500_20230424T195436.nc'\n",
    "fh = nc4.Dataset(my_example_nc_file, mode='r')\n",
    "\n",
    "# Navigate to Product in the groups attribute and retrieve the longitude, latitude and methane mixing ratio\n",
    "lons = fh.groups['PRODUCT'].variables['longitude'][:][0, :, :]\n",
    "lats = fh.groups['PRODUCT'].variables['latitude'][:][0, :, :]\n",
    "ch4 = fh.groups['PRODUCT'].variables['methane_mixing_ratio'][0, :, :]\n",
    "\n",
    "###\n",
    "# Plot the Base Map\n",
    "# \n",
    "# The base map utilizes a low resolution raster of the earth obtained from:\n",
    "# https://www.naturalearthdata.com/\n",
    "# ##\n",
    "world = gpd.read_file(gpd.datasets.get_path('naturalearth_lowres')) # Open the raster file with gpd\n",
    "australia = world[world['name'] == 'Australia'] # Navigate file to obtain Australia continent\n",
    "\n",
    "australia.boundary.plot(ax=ax, linewidth=1, color='black') # Plot the base map onto the figure \n",
    "\n",
    "# Plot the methane data on the map of Australia\n",
    "ch4_units = fh.groups['PRODUCT'].variables['methane_mixing_ratio'].units # Retrieve methane concentration units from nc file\n",
    "fig, ax = plt.subplots(figsize=(10, 10)) # Create a figure with one axes\n",
    "mesh = ax.pcolormesh(lons, lats, ch4, cmap='hot', shading='auto') # Plot the concentration data set onto a color mesh (color plot with a non-rectangular grid) that plots data with inbuilt 'hot' color mapping and auto shading\n",
    "cbar = plt.colorbar(mesh, cax=ax, label=ch4_units) # Create a color bar and assign it to the concentration plot. \n",
    "\n",
    "ax.set_title('Methane Concentration in Australia')\n",
    "ax.set_xlabel('Longitude')\n",
    "ax.set_ylabel('Latitude')\n",
    "ax.set_xlim([110, 160])\n",
    "ax.set_ylim([-45, -10])\n",
    "\n",
    "plt.show() #\n"
   ]
  }
 ],
 "metadata": {
  "kernelspec": {
   "display_name": "Python 3 (ipykernel)",
   "language": "python",
   "name": "python3"
  },
  "language_info": {
   "codemirror_mode": {
    "name": "ipython",
    "version": 3
   },
   "file_extension": ".py",
   "mimetype": "text/x-python",
   "name": "python",
   "nbconvert_exporter": "python",
   "pygments_lexer": "ipython3",
   "version": "3.11.3"
  },
  "vscode": {
   "interpreter": {
    "hash": "31f2aee4e71d21fbe5cf8b01ff0e069b9275f58929596ceb00d14d90e3e16cd6"
   }
  }
 },
 "nbformat": 4,
 "nbformat_minor": 2
}
