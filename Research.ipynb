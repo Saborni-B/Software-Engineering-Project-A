{
 "cells": [
  {
   "cell_type": "code",
   "execution_count": null,
   "metadata": {},
   "outputs": [],
   "source": [
    "pip install earthengine-API"
   ]
  },
  {
   "cell_type": "code",
   "execution_count": 1,
   "metadata": {},
   "outputs": [
    {
     "data": {
      "text/html": [
       "<p>To authorize access needed by Earth Engine, open the following\n",
       "        URL in a web browser and follow the instructions:</p>\n",
       "        <p><a href=https://code.earthengine.google.com/client-auth?scopes=https%3A//www.googleapis.com/auth/earthengine%20https%3A//www.googleapis.com/auth/devstorage.full_control&request_id=pitUWDvmIHuAEOVGIsjOG4qz__wrs_Xn0EAejnT3WXA&tc=nsy13ZsP9UjG3sdkWtCk909ysHfQ0rIbrxWF4Y7gHbc&cc=Vmye8xxHCTPJp1V4JdHAXm0g4jruR8RMAEW8u9cUa-o>https://code.earthengine.google.com/client-auth?scopes=https%3A//www.googleapis.com/auth/earthengine%20https%3A//www.googleapis.com/auth/devstorage.full_control&request_id=pitUWDvmIHuAEOVGIsjOG4qz__wrs_Xn0EAejnT3WXA&tc=nsy13ZsP9UjG3sdkWtCk909ysHfQ0rIbrxWF4Y7gHbc&cc=Vmye8xxHCTPJp1V4JdHAXm0g4jruR8RMAEW8u9cUa-o</a></p>\n",
       "        <p>The authorization workflow will generate a code, which you should paste in the box below.</p>\n",
       "        "
      ],
      "text/plain": [
       "<IPython.core.display.HTML object>"
      ]
     },
     "metadata": {},
     "output_type": "display_data"
    },
    {
     "name": "stdout",
     "output_type": "stream",
     "text": [
      "\n",
      "Successfully saved authorization token.\n"
     ]
    },
    {
     "ename": "NameError",
     "evalue": "name 'folium' is not defined",
     "output_type": "error",
     "traceback": [
      "\u001b[1;31m---------------------------------------------------------------------------\u001b[0m",
      "\u001b[1;31mNameError\u001b[0m                                 Traceback (most recent call last)",
      "Cell \u001b[1;32mIn[1], line 31\u001b[0m\n\u001b[0;32m     29\u001b[0m \u001b[39m# Create a map centered around the point\u001b[39;00m\n\u001b[0;32m     30\u001b[0m map_center \u001b[39m=\u001b[39m [latitude, longitude]\n\u001b[1;32m---> 31\u001b[0m \u001b[39mmap\u001b[39m \u001b[39m=\u001b[39m folium\u001b[39m.\u001b[39mMap(location\u001b[39m=\u001b[39mmap_center, zoom_start\u001b[39m=\u001b[39m\u001b[39m10\u001b[39m)\n\u001b[0;32m     33\u001b[0m \u001b[39m# Add the Earth Engine image to the map\u001b[39;00m\n\u001b[0;32m     34\u001b[0m ee_tile_url \u001b[39m=\u001b[39m reduced_image\u001b[39m.\u001b[39mgetThumbUrl({\n\u001b[0;32m     35\u001b[0m     \u001b[39m'\u001b[39m\u001b[39mmin\u001b[39m\u001b[39m'\u001b[39m: \u001b[39m0\u001b[39m,\n\u001b[0;32m     36\u001b[0m     \u001b[39m'\u001b[39m\u001b[39mmax\u001b[39m\u001b[39m'\u001b[39m: \u001b[39m0.0002\u001b[39m,\n\u001b[0;32m     37\u001b[0m     \u001b[39m'\u001b[39m\u001b[39mdimensions\u001b[39m\u001b[39m'\u001b[39m: \u001b[39m'\u001b[39m\u001b[39m512x512\u001b[39m\u001b[39m'\u001b[39m,\n\u001b[0;32m     38\u001b[0m     \u001b[39m'\u001b[39m\u001b[39mregion\u001b[39m\u001b[39m'\u001b[39m: point\n\u001b[0;32m     39\u001b[0m })\n",
      "\u001b[1;31mNameError\u001b[0m: name 'folium' is not defined"
     ]
    }
   ],
   "source": [
    "import ee\n",
    "ee.Authenticate()\n",
    "\n",
    "# Initialize the Earth Engine Python API\n",
    "ee.Initialize()\n",
    "\n",
    "# Define the coordinates and date range\n",
    "longitude = -122.0838\n",
    "latitude = 37.4213\n",
    "start_date = '2021-07-01'\n",
    "end_date = '2021-07-30'\n",
    "\n",
    "# Create a point geometry\n",
    "point = ee.Geometry.Point(longitude, latitude)\n",
    "\n",
    "# Define the S5P data collection\n",
    "collection = (\n",
    "    ee.ImageCollection('COPERNICUS/S5P/OFFL/L3_CH4')\n",
    "    .filterBounds(point)\n",
    "    .filterDate('2021-07-01', '2021-07-30')\n",
    ")\n",
    "\n",
    "# Select the CH4 variable\n",
    "selected_collection = collection.select('CH4_column_number_density')\n",
    "\n",
    "# Reduce the collection to a single image\n",
    "reduced_image = selected_collection.mean()\n",
    "\n",
    "# Create a map centered around the point\n",
    "map_center = [latitude, longitude]\n",
    "map = folium.Map(location=map_center, zoom_start=10)\n",
    "\n",
    "# Add the Earth Engine image to the map\n",
    "ee_tile_url = reduced_image.getThumbUrl({\n",
    "    'min': 0,\n",
    "    'max': 0.0002,\n",
    "    'dimensions': '512x512',\n",
    "    'region': point\n",
    "})\n",
    "folium.TileLayer(\n",
    "    tiles=ee_tile_url,\n",
    "    attr=\"Google Earth Engine\",\n",
    "    overlay=True,\n",
    "    name='CH4 Concentration'\n",
    ").add_to(map)\n",
    "\n",
    "# Display the map\n",
    "map\n"
   ]
  },
  {
   "cell_type": "code",
   "execution_count": 2,
   "metadata": {},
   "outputs": [
    {
     "ename": "EEException",
     "evalue": "reduce.mean: Error in map(ID=20210701T000826_20210702T171003):\nImage.select: Pattern 'CH4_column_number_density' did not match any bands.",
     "output_type": "error",
     "traceback": [
      "\u001b[1;31m---------------------------------------------------------------------------\u001b[0m",
      "\u001b[1;31mHttpError\u001b[0m                                 Traceback (most recent call last)",
      "File \u001b[1;32mc:\\Users\\jenni\\anaconda3\\lib\\site-packages\\ee\\data.py:346\u001b[0m, in \u001b[0;36m_execute_cloud_call\u001b[1;34m(call, num_retries)\u001b[0m\n\u001b[0;32m    345\u001b[0m \u001b[39mtry\u001b[39;00m:\n\u001b[1;32m--> 346\u001b[0m   \u001b[39mreturn\u001b[39;00m call\u001b[39m.\u001b[39;49mexecute(num_retries\u001b[39m=\u001b[39;49mnum_retries)\n\u001b[0;32m    347\u001b[0m \u001b[39mexcept\u001b[39;00m googleapiclient\u001b[39m.\u001b[39merrors\u001b[39m.\u001b[39mHttpError \u001b[39mas\u001b[39;00m e:\n",
      "File \u001b[1;32mc:\\Users\\jenni\\anaconda3\\lib\\site-packages\\googleapiclient\\_helpers.py:130\u001b[0m, in \u001b[0;36mpositional.<locals>.positional_decorator.<locals>.positional_wrapper\u001b[1;34m(*args, **kwargs)\u001b[0m\n\u001b[0;32m    129\u001b[0m         logger\u001b[39m.\u001b[39mwarning(message)\n\u001b[1;32m--> 130\u001b[0m \u001b[39mreturn\u001b[39;00m wrapped(\u001b[39m*\u001b[39margs, \u001b[39m*\u001b[39m\u001b[39m*\u001b[39mkwargs)\n",
      "File \u001b[1;32mc:\\Users\\jenni\\anaconda3\\lib\\site-packages\\googleapiclient\\http.py:938\u001b[0m, in \u001b[0;36mHttpRequest.execute\u001b[1;34m(self, http, num_retries)\u001b[0m\n\u001b[0;32m    937\u001b[0m \u001b[39mif\u001b[39;00m resp\u001b[39m.\u001b[39mstatus \u001b[39m>\u001b[39m\u001b[39m=\u001b[39m \u001b[39m300\u001b[39m:\n\u001b[1;32m--> 938\u001b[0m     \u001b[39mraise\u001b[39;00m HttpError(resp, content, uri\u001b[39m=\u001b[39m\u001b[39mself\u001b[39m\u001b[39m.\u001b[39muri)\n\u001b[0;32m    939\u001b[0m \u001b[39mreturn\u001b[39;00m \u001b[39mself\u001b[39m\u001b[39m.\u001b[39mpostproc(resp, content)\n",
      "\u001b[1;31mHttpError\u001b[0m: <HttpError 400 when requesting https://earthengine.googleapis.com/v1alpha/projects/earthengine-legacy/thumbnails?fields=name&alt=json returned \"reduce.mean: Error in map(ID=20210701T000826_20210702T171003):\nImage.select: Pattern 'CH4_column_number_density' did not match any bands.\". Details: \"reduce.mean: Error in map(ID=20210701T000826_20210702T171003):\nImage.select: Pattern 'CH4_column_number_density' did not match any bands.\">",
      "\nDuring handling of the above exception, another exception occurred:\n",
      "\u001b[1;31mEEException\u001b[0m                               Traceback (most recent call last)",
      "Cell \u001b[1;32mIn[2], line 29\u001b[0m\n\u001b[0;32m     26\u001b[0m reduced_image \u001b[39m=\u001b[39m selected_collection\u001b[39m.\u001b[39mmean()\n\u001b[0;32m     28\u001b[0m \u001b[39m# Print the image URL\u001b[39;00m\n\u001b[1;32m---> 29\u001b[0m image_url \u001b[39m=\u001b[39m reduced_image\u001b[39m.\u001b[39;49mgetThumbUrl({\n\u001b[0;32m     30\u001b[0m     \u001b[39m'\u001b[39;49m\u001b[39mmin\u001b[39;49m\u001b[39m'\u001b[39;49m: \u001b[39m0\u001b[39;49m,\n\u001b[0;32m     31\u001b[0m     \u001b[39m'\u001b[39;49m\u001b[39mmax\u001b[39;49m\u001b[39m'\u001b[39;49m: \u001b[39m0.0002\u001b[39;49m,\n\u001b[0;32m     32\u001b[0m     \u001b[39m'\u001b[39;49m\u001b[39mdimensions\u001b[39;49m\u001b[39m'\u001b[39;49m: \u001b[39m'\u001b[39;49m\u001b[39m512x512\u001b[39;49m\u001b[39m'\u001b[39;49m,\n\u001b[0;32m     33\u001b[0m     \u001b[39m'\u001b[39;49m\u001b[39mregion\u001b[39;49m\u001b[39m'\u001b[39;49m: point\n\u001b[0;32m     34\u001b[0m })\n\u001b[0;32m     35\u001b[0m \u001b[39m# Display the image using IPython.display.Image\u001b[39;00m\n\u001b[0;32m     36\u001b[0m Image(url\u001b[39m=\u001b[39mimage_url)\n",
      "File \u001b[1;32mc:\\Users\\jenni\\anaconda3\\lib\\site-packages\\ee\\deprecation.py:32\u001b[0m, in \u001b[0;36mDeprecated.<locals>.Decorator.<locals>.Wrapper\u001b[1;34m(*args, **kwargs)\u001b[0m\n\u001b[0;32m     25\u001b[0m \u001b[39m@functools\u001b[39m\u001b[39m.\u001b[39mwraps(func)\n\u001b[0;32m     26\u001b[0m \u001b[39mdef\u001b[39;00m \u001b[39mWrapper\u001b[39m(\u001b[39m*\u001b[39margs, \u001b[39m*\u001b[39m\u001b[39m*\u001b[39mkwargs):\n\u001b[0;32m     27\u001b[0m   warnings\u001b[39m.\u001b[39mwarn_explicit(\n\u001b[0;32m     28\u001b[0m       \u001b[39m'\u001b[39m\u001b[39m%s\u001b[39;00m\u001b[39m() is deprecated: \u001b[39m\u001b[39m%s\u001b[39;00m\u001b[39m'\u001b[39m \u001b[39m%\u001b[39m (func\u001b[39m.\u001b[39m\u001b[39m__name__\u001b[39m, message),\n\u001b[0;32m     29\u001b[0m       category\u001b[39m=\u001b[39m\u001b[39mDeprecationWarning\u001b[39;00m,\n\u001b[0;32m     30\u001b[0m       filename\u001b[39m=\u001b[39mfunc\u001b[39m.\u001b[39m\u001b[39m__code__\u001b[39m\u001b[39m.\u001b[39mco_filename,\n\u001b[0;32m     31\u001b[0m       lineno\u001b[39m=\u001b[39mfunc\u001b[39m.\u001b[39m\u001b[39m__code__\u001b[39m\u001b[39m.\u001b[39mco_firstlineno \u001b[39m+\u001b[39m \u001b[39m1\u001b[39m)\n\u001b[1;32m---> 32\u001b[0m   \u001b[39mreturn\u001b[39;00m func(\u001b[39m*\u001b[39margs, \u001b[39m*\u001b[39m\u001b[39m*\u001b[39mkwargs)\n",
      "File \u001b[1;32mc:\\Users\\jenni\\anaconda3\\lib\\site-packages\\ee\\image.py:520\u001b[0m, in \u001b[0;36mImage.getThumbURL\u001b[1;34m(self, params)\u001b[0m\n\u001b[0;32m    496\u001b[0m \u001b[39m\"\"\"Get a thumbnail URL for this image.\u001b[39;00m\n\u001b[0;32m    497\u001b[0m \n\u001b[0;32m    498\u001b[0m \u001b[39mArgs:\u001b[39;00m\n\u001b[1;32m   (...)\u001b[0m\n\u001b[0;32m    515\u001b[0m \u001b[39m  EEException: If the region parameter is not an array or GeoJSON object.\u001b[39;00m\n\u001b[0;32m    516\u001b[0m \u001b[39m\"\"\"\u001b[39;00m\n\u001b[0;32m    517\u001b[0m \u001b[39m# If the Cloud API is enabled, we can do cleaner handling of the parameters.\u001b[39;00m\n\u001b[0;32m    518\u001b[0m \u001b[39m# If it isn't enabled, we have to be bug-for-bug compatible with current\u001b[39;00m\n\u001b[0;32m    519\u001b[0m \u001b[39m# behaviour.\u001b[39;00m\n\u001b[1;32m--> 520\u001b[0m \u001b[39mreturn\u001b[39;00m data\u001b[39m.\u001b[39mmakeThumbUrl(\u001b[39mself\u001b[39;49m\u001b[39m.\u001b[39;49mgetThumbId(params))\n",
      "File \u001b[1;32mc:\\Users\\jenni\\anaconda3\\lib\\site-packages\\ee\\image.py:493\u001b[0m, in \u001b[0;36mImage.getThumbId\u001b[1;34m(self, params)\u001b[0m\n\u001b[0;32m    491\u001b[0m image, params \u001b[39m=\u001b[39m image\u001b[39m.\u001b[39m_apply_visualization(params)  \u001b[39m# pylint: disable=protected-access\u001b[39;00m\n\u001b[0;32m    492\u001b[0m params[\u001b[39m'\u001b[39m\u001b[39mimage\u001b[39m\u001b[39m'\u001b[39m] \u001b[39m=\u001b[39m image\n\u001b[1;32m--> 493\u001b[0m \u001b[39mreturn\u001b[39;00m data\u001b[39m.\u001b[39;49mgetThumbId(params)\n",
      "File \u001b[1;32mc:\\Users\\jenni\\anaconda3\\lib\\site-packages\\ee\\data.py:1069\u001b[0m, in \u001b[0;36mgetThumbId\u001b[1;34m(params, thumbType)\u001b[0m\n\u001b[0;32m   1065\u001b[0m   request[\u001b[39m'\u001b[39m\u001b[39mfilenamePrefix\u001b[39m\u001b[39m'\u001b[39m] \u001b[39m=\u001b[39m params\u001b[39m.\u001b[39mget(\u001b[39m'\u001b[39m\u001b[39mname\u001b[39m\u001b[39m'\u001b[39m)\n\u001b[0;32m   1066\u001b[0m   request[\u001b[39m'\u001b[39m\u001b[39mbandIds\u001b[39m\u001b[39m'\u001b[39m] \u001b[39m=\u001b[39m _cloud_api_utils\u001b[39m.\u001b[39mconvert_to_band_list(\n\u001b[0;32m   1067\u001b[0m       params\u001b[39m.\u001b[39mget(\u001b[39m'\u001b[39m\u001b[39mbands\u001b[39m\u001b[39m'\u001b[39m)\n\u001b[0;32m   1068\u001b[0m   )\n\u001b[1;32m-> 1069\u001b[0m   result \u001b[39m=\u001b[39m _execute_cloud_call(\n\u001b[0;32m   1070\u001b[0m       _get_cloud_projects()\n\u001b[0;32m   1071\u001b[0m       \u001b[39m.\u001b[39;49mthumbnails()\n\u001b[0;32m   1072\u001b[0m       \u001b[39m.\u001b[39;49mcreate(parent\u001b[39m=\u001b[39;49m_get_projects_path(), \u001b[39m*\u001b[39;49m\u001b[39m*\u001b[39;49mqueryParams)\n\u001b[0;32m   1073\u001b[0m   )\n\u001b[0;32m   1074\u001b[0m \u001b[39mreturn\u001b[39;00m {\u001b[39m'\u001b[39m\u001b[39mthumbid\u001b[39m\u001b[39m'\u001b[39m: result[\u001b[39m'\u001b[39m\u001b[39mname\u001b[39m\u001b[39m'\u001b[39m], \u001b[39m'\u001b[39m\u001b[39mtoken\u001b[39m\u001b[39m'\u001b[39m: \u001b[39m'\u001b[39m\u001b[39m'\u001b[39m}\n",
      "File \u001b[1;32mc:\\Users\\jenni\\anaconda3\\lib\\site-packages\\ee\\data.py:348\u001b[0m, in \u001b[0;36m_execute_cloud_call\u001b[1;34m(call, num_retries)\u001b[0m\n\u001b[0;32m    346\u001b[0m   \u001b[39mreturn\u001b[39;00m call\u001b[39m.\u001b[39mexecute(num_retries\u001b[39m=\u001b[39mnum_retries)\n\u001b[0;32m    347\u001b[0m \u001b[39mexcept\u001b[39;00m googleapiclient\u001b[39m.\u001b[39merrors\u001b[39m.\u001b[39mHttpError \u001b[39mas\u001b[39;00m e:\n\u001b[1;32m--> 348\u001b[0m   \u001b[39mraise\u001b[39;00m _translate_cloud_exception(e)\n",
      "\u001b[1;31mEEException\u001b[0m: reduce.mean: Error in map(ID=20210701T000826_20210702T171003):\nImage.select: Pattern 'CH4_column_number_density' did not match any bands."
     ]
    }
   ],
   "source": [
    "import ee\n",
    "from IPython.display import Image\n",
    "# Initialize the Earth Engine Python API\n",
    "ee.Initialize()\n",
    "\n",
    "# Define the coordinates and date range\n",
    "longitude = -122.0838\n",
    "latitude = 37.4213\n",
    "start_date = '2021-07-01'\n",
    "end_date = '2021-07-30'\n",
    "\n",
    "# Create a point geometry\n",
    "point = ee.Geometry.Point(longitude, latitude)\n",
    "\n",
    "# Define the S5P data collection\n",
    "collection = (\n",
    "    ee.ImageCollection('COPERNICUS/S5P/OFFL/L3_CH4')\n",
    "    .filterBounds(point)\n",
    "    .filterDate('2021-07-01', '2021-07-30')\n",
    ")\n",
    "\n",
    "# Select the CH4 variable\n",
    "selected_collection = collection.select('CH4_column_number_density')\n",
    "\n",
    "# Reduce the collection to a single image\n",
    "reduced_image = selected_collection.mean()\n",
    "\n",
    "# Print the image URL\n",
    "image_url = reduced_image.getThumbUrl({\n",
    "    'min': 0,\n",
    "    'max': 0.0002,\n",
    "    'dimensions': '512x512',\n",
    "    'region': point\n",
    "})\n",
    "# Display the image using IPython.display.Image\n",
    "Image(url=image_url)\n",
    "\n"
   ]
  }
 ],
 "metadata": {
  "kernelspec": {
   "display_name": "base",
   "language": "python",
   "name": "python3"
  },
  "language_info": {
   "codemirror_mode": {
    "name": "ipython",
    "version": 3
   },
   "file_extension": ".py",
   "mimetype": "text/x-python",
   "name": "python",
   "nbconvert_exporter": "python",
   "pygments_lexer": "ipython3",
   "version": "3.10.9"
  },
  "orig_nbformat": 4
 },
 "nbformat": 4,
 "nbformat_minor": 2
}
