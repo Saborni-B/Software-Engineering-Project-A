{
 "cells": [
  {
   "cell_type": "code",
   "execution_count": null,
   "metadata": {},
   "outputs": [],
   "source": [
    "def add(x, y):\n",
    "    #Add function\n",
    "    return x + y"
   ]
  },
  {
   "cell_type": "code",
   "execution_count": null,
   "metadata": {},
   "outputs": [],
   "source": [
    "import unittest\n",
    "import calc\n",
    "\n",
    "class TestCalc(unittest.TestCase):\n",
    "    def test_add(self):\n",
    "        result = calc.add(10, 5)\n",
    "        self.assertEqual(result, 15)"
   ]
  }
 ],
 "metadata": {
  "language_info": {
   "name": "python"
  },
  "orig_nbformat": 4
 },
 "nbformat": 4,
 "nbformat_minor": 2
}
