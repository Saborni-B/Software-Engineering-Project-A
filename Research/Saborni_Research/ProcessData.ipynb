{
 "cells": [
  {
   "cell_type": "code",
   "execution_count": null,
   "metadata": {},
   "outputs": [],
   "source": [
    "item_links = [item.assets['ch4'].href for item in items]\n",
    "item_links\n",
    "\n",
    "f = fsspec.open_files(item_links)\n",
    "f = [file.open() for file in f]\n",
    "\n",
    "ds = xr.open_mfdataset(f, group=\"PRODUCT\", engine=\"h5netcdf\", concat_dim='t', combine='nested') \n",
    "ds\n",
    "\n",
    "varname = \"methane_mixing_ratio_bias_corrected\"\n",
    "data = ds[varname][0, :, :]\n",
    "vmin, vmax = np.nanpercentile(data, [1, 99])\n",
    "\n",
    "# methane product (NaN locations are transparent)\n",
    "lon = ds[\"longitude\"].values.squeeze()\n",
    "lat = ds[\"latitude\"].values.squeeze()\n",
    "methane = ds[varname].values\n",
    "\n",
    "#data.plot(vmin=vmin, vmax=vmax, cmap=\"Spectral\");\n",
    "\n"
   ]
  }
 ],
 "metadata": {
  "language_info": {
   "name": "python"
  },
  "orig_nbformat": 4
 },
 "nbformat": 4,
 "nbformat_minor": 2
}
