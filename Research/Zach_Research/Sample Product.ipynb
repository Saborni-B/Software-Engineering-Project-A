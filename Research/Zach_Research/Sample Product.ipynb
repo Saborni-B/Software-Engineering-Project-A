{
 "cells": [
  {
   "attachments": {},
   "cell_type": "markdown",
   "metadata": {},
   "source": [
    "User Input\n",
    "\n",
    "- Location \n",
    "    - Long\n",
    "    - Lat\n",
    "    \n",
    "- Time Period\n",
    "    - yyyyMMdd"
   ]
  },
  {
   "cell_type": "code",
   "execution_count": 1,
   "metadata": {},
   "outputs": [
    {
     "name": "stdout",
     "output_type": "stream",
     "text": [
      "\n",
      "    \n",
      "    \n",
      "If you would like to  \n"
     ]
    }
   ],
   "source": [
    "from IPython.display import clear_output\n",
    "\n",
    "class UserMenu:\n",
    "    \"\"\"\n",
    "    User menu interface for providing input.\n",
    "    \"\"\"\n",
    "    menu =\"\"\"\n",
    "    \n",
    "    \"\"\"\n",
    "\n",
    "    print(menu)\n",
    "    \n",
    "    print(\"If you would like to  \")\n",
    "\n",
    "    location = input(\"Please \")\n",
    "\n",
    "    time_period = input()\n",
    "\n",
    "    "
   ]
  },
  {
   "cell_type": "code",
   "execution_count": null,
   "metadata": {},
   "outputs": [
    {
     "ename": "NameError",
     "evalue": "name 'UserMenu' is not defined",
     "output_type": "error",
     "traceback": [
      "\u001b[1;31m---------------------------------------------------------------------------\u001b[0m",
      "\u001b[1;31mNameError\u001b[0m                                 Traceback (most recent call last)",
      "Cell \u001b[1;32mIn[1], line 1\u001b[0m\n\u001b[1;32m----> 1\u001b[0m menu \u001b[39m=\u001b[39m UserMenu()\n\u001b[0;32m      2\u001b[0m \u001b[39mprint\u001b[39m(menu)\n",
      "\u001b[1;31mNameError\u001b[0m: name 'UserMenu' is not defined"
     ]
    }
   ],
   "source": [
    "menu = UserMenu()\n",
    "print(menu)"
   ]
  }
 ],
 "metadata": {
  "kernelspec": {
   "display_name": "Python 3",
   "language": "python",
   "name": "python3"
  },
  "language_info": {
   "codemirror_mode": {
    "name": "ipython",
    "version": 3
   },
   "file_extension": ".py",
   "mimetype": "text/x-python",
   "name": "python",
   "nbconvert_exporter": "python",
   "pygments_lexer": "ipython3",
   "version": "3.11.3"
  },
  "orig_nbformat": 4
 },
 "nbformat": 4,
 "nbformat_minor": 2
}
