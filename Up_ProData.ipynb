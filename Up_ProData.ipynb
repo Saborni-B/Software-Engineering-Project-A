{
 "cells": [
  {
   "cell_type": "code",
   "execution_count": null,
   "metadata": {},
   "outputs": [],
   "source": [
    "\n",
    "input_sdate = \"2023 08 20\"\n",
    "input_edate = \"2023 08 25\"\n",
    "geometry = [112.70505, -44.52755, 154.38241, -11.29524]"
   ]
  },
  {
   "cell_type": "code",
   "execution_count": null,
   "metadata": {},
   "outputs": [],
   "source": [
    "\n",
    "%matplotlib inline\n",
    "import matplotlib.pyplot as plt\n",
    "import netCDF4 as nc4\n",
    "import xarray as xr\n",
    "import fsspec\n",
    "import numpy as np\n",
    "import xarray as xr\n",
    "import planetary_computer\n",
    "import pystac_client\n",
    "import geopandas as gpd\n",
    "import pandas as pd\n",
    "import cartopy.crs as ccrs\n",
    "import matplotlib\n",
    "import matplotlib.pyplot as plt\n",
    "from datetime import datetime, time"
   ]
  },
  {
   "cell_type": "code",
   "execution_count": null,
   "metadata": {},
   "outputs": [],
   "source": [
    "# Initialize PySTAC client for data query\n",
    "planetary_computer.set_subscription_key(\"c27669c4bdec434d804e2bd738cb16fc\")\n",
    "catalog = pystac_client.Client.open(\n",
    "    \"https://planetarycomputer.microsoft.com/api/stac/v1\",\n",
    "    modifier=planetary_computer.sign_inplace,\n",
    ")"
   ]
  },
  {
   "cell_type": "code",
   "execution_count": null,
   "metadata": {},
   "outputs": [],
   "source": [
    "# Function to convert date format \n",
    "def convert_format_date(input_date):\n",
    "    date_obj = datetime.strptime(input_date, \"%Y %m %d\")\n",
    "    formatted_date = date_obj.strftime(\"%Y-%m-%d\")\n",
    "    return formatted_date\n",
    "\n",
    "# Convert user start date format\n",
    "input_sdate = convert_format_date(input_sdate)\n",
    "\n",
    "# Convert user end date format\n",
    "input_edate = convert_format_date(input_edate)\n",
    "\n",
    "date_period = input_sdate + \"/\" + input_edate \n",
    "date_period"
   ]
  },
  {
   "cell_type": "code",
   "execution_count": null,
   "metadata": {},
   "outputs": [],
   "source": [
    "search = catalog.search(\n",
    "    collections=\"sentinel-5p-l2-netcdf\",\n",
    "    bbox = geometry,\n",
    "    datetime=input_sdate + \"/\" + input_edate,\n",
    "    query={\"s5p:processing_mode\": {\"eq\": \"OFFL\"}, \"s5p:product_name\": {\"eq\": \"ch4\"}},\n",
    ")\n",
    "items = search.item_collection()\n",
    "\n",
    "print(len(items))"
   ]
  },
  {
   "cell_type": "code",
   "execution_count": null,
   "metadata": {},
   "outputs": [],
   "source": [
    "#f1 = fsspec.open(items[0].assets['ch4'].href).open()\n",
    "#f1\n",
    "item_links = [item.assets['ch4'].href for item in items]\n",
    "item_links\n",
    "\n",
    "f = fsspec.open_files(item_links)\n",
    "f = [file.open() for file in f]\n",
    "\n",
    "ds = xr.open_mfdataset(f, group=\"PRODUCT\", engine=\"h5netcdf\", concat_dim='t', combine='nested') \n",
    "ds\n"
   ]
  },
  {
   "cell_type": "code",
   "execution_count": null,
   "metadata": {},
   "outputs": [],
   "source": [
    "varname = \"methane_mixing_ratio_bias_corrected\"\n",
    "data = ds[varname]\n",
    "#print(data.shape)\n",
    "vmin, vmax = np.nanpercentile(data, [1, 99])\n",
    "#data.plot()\n",
    "# methane product (NaN locations are transparent)\n",
    "lon = ds[\"longitude\"].values.squeeze()\n",
    "lat = ds[\"latitude\"].values.squeeze()\n",
    "methane = data.values\n",
    "#print(lon)"
   ]
  },
  {
   "cell_type": "code",
   "execution_count": null,
   "metadata": {},
   "outputs": [],
   "source": [
    "sliced_lat = lat[0, 0, :, :]\n",
    "#print(sliced_lat)\n",
    "sliced_lon = lon[0, 0, :, :]\n",
    "#print(sliced_lon)\n",
    "sliced_methane = methane[0, 0, :, :]\n",
    "#sliced_lat[np.isnan(sliced_lat)] = 0\n",
    "#sliced_lon[np.isnan(sliced_lon)] = 0\n",
    "\n",
    "\n",
    "#print(\"Shape of lat :\", sliced_lat.shape)\n",
    "#print(\"Shape of lon:\", sliced_lon.shape)\n",
    "#print(\"shape of methane: \", sliced_methane.shape)\n",
    "\n",
    "\n",
    "\n",
    "\n",
    "print(\"NaN in lon:\", np.isnan(sliced_lon).any())\n",
    "print(\"NaN in lat:\", np.isnan(sliced_lat).any())\n",
    "print(\"NaN in methane:\", np.isnan(sliced_methane).any())"
   ]
  },
  {
   "cell_type": "code",
   "execution_count": null,
   "metadata": {},
   "outputs": [],
   "source": [
    "world = gpd.read_file(gpd.datasets.get_path('naturalearth_lowres')) # Get geopandas in-built naturalearth_lowres dataset\n",
    "continent_borders = world.dissolve(by='continent')\n",
    "\n",
    "fig, ax = plt.subplots(1, 1, figsize=(12, 8), subplot_kw={'projection': ccrs.PlateCarree()})\n",
    "\n",
    "continent_borders.boundary.plot(ax=ax, linewidth=1, color='black')\n",
    "\n",
    "ax.set_title(\"\")\n",
    "ax.set_xlabel(\"Longitude\")\n",
    "ax.set_ylabel(\"Latitude\")\n",
    "\n",
    "\n",
    "\n",
    "\n",
    "ax.coastlines()\n",
    "ax.gridlines(crs=ccrs.PlateCarree(), draw_labels=True, alpha=0.5, linestyle=\"--\")\n",
    "ax.set_extent(geometry, crs=ccrs.PlateCarree())\n",
    "norm = matplotlib.colors.Normalize(vmin=vmin, vmax=vmax)\n",
    "colormesh = ax.pcolormesh (sliced_lat, sliced_lon, sliced_methane, cmap = \"Spectral\", norm = norm)\n",
    "fig.colorbar(colormesh, pad=0.05, shrink=0.35, label=\"methane (mol/m2)\")\n",
    "plt.show()"
   ]
  }
 ],
 "metadata": {
  "language_info": {
   "name": "python"
  },
  "orig_nbformat": 4
 },
 "nbformat": 4,
 "nbformat_minor": 2
}
