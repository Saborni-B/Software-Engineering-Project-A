{
 "cells": [
  {
   "cell_type": "markdown",
   "metadata": {},
   "source": [
    "### Search_product (country name and bbox)"
   ]
  },
  {
   "cell_type": "code",
   "execution_count": null,
   "metadata": {},
   "outputs": [],
   "source": [
    "# Get geopandas in-built naturalearth_lowres dataset\n",
    "world = gpd.read_file(gpd.datasets.get_path('naturalearth_lowres'))\n",
    "\n",
    "# Function to search the product by bbox and country\n",
    "def search_catalog(Region, date_period):\n",
    "    search_parameters = {\n",
    "        \"collections\": \"sentinel-5p-l2-netcdf\",\n",
    "        \"datetime\": date_period,\n",
    "        \"query\": {\"s5p:processing_mode\": {\"eq\": \"OFFL\"}, \"s5p:product_name\": {\"eq\": \"ch4\"}},\n",
    "    }\n",
    "   \n",
    "    #bbox input\n",
    "    if isinstance(Region, list) and len(Region) == 4:\n",
    "        min_long, min_lat, max_long, max_lat = Region\n",
    "        #-180 to 180 for longitudes, -90 to 90 for latitudes\n",
    "        long = all(-180 <= coordinates <= 180 for coordinates in [min_long, max_long]) \n",
    "        lat = all(-90 <= coordinates <= 90 for coordinates in [min_lat, max_lat])\n",
    "        \n",
    "        if long and lat:\n",
    "            search_parameters[\"bbox\"] = Region\n",
    "        elif not long:\n",
    "            raise ValueError(\"Invalid longitudes in bbox\")\n",
    "        elif not lat:\n",
    "            raise ValueError(\"Invalid latitudes in bbox\")\n",
    "        else:\n",
    "            raise ValueError(\"Invalid coordinates in bbox\")\n",
    "        \n",
    "    else:\n",
    "        # Extract the coordinates of specified country and load into a JSON object \n",
    "        ROI = world[world[\"name\"] == Region]\n",
    "        gjson = json.loads(ROI.to_json())\n",
    "        coordinates = gjson[\"features\"][0][\"geometry\"][\"coordinates\"]\n",
    "        \n",
    "        if not isinstance(coordinates, list): \n",
    "            coordinates = [coordinates]    \n",
    "                         \n",
    "        #MultiPolygon is used to represent multiple polygons bbox and country     \n",
    "        search_parameters[\"intersects\"] = {\n",
    "            \"type\": \"MultiPolygon\", \n",
    "            \"coordinates\": coordinates\n",
    "        }\n",
    "        \n",
    "    search = catalog.search(**search_parameters)\n",
    "    items = search.item_collection()\n",
    "\n",
    "    return items\n",
    "\n",
    "# Use search_catalog function with a single variable \"Region\" for bbox and country name\n",
    "result = search_catalog(Region=Region, date_period=date_period)\n",
    "\n",
    "# Print the result\n",
    "print(f\"Number of items for input: {len(result)}\")"
   ]
  }
 ],
 "metadata": {
  "language_info": {
   "name": "python"
  }
 },
 "nbformat": 4,
 "nbformat_minor": 2
}
