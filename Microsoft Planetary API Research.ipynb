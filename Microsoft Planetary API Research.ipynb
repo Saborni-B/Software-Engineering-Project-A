{
 "cells": [
  {
   "cell_type": "code",
   "execution_count": 26,
   "metadata": {},
   "outputs": [],
   "source": [
    "import cartopy.crs as ccrs\n",
    "import fsspec\n",
    "import matplotlib\n",
    "import matplotlib.pyplot as plt\n",
    "import numpy as np\n",
    "import planetary_computer\n",
    "import pystac_client\n",
    "import xarray as xr"
   ]
  },
  {
   "cell_type": "code",
   "execution_count": 27,
   "metadata": {},
   "outputs": [],
   "source": [
    "catalog = pystac_client.Client.open(\n",
    "    \"https://planetarycomputer.microsoft.com/api/stac/v1\",\n",
    "    modifier=planetary_computer.sign_inplace,\n",
    ")"
   ]
  },
  {
   "cell_type": "code",
   "execution_count": 28,
   "metadata": {},
   "outputs": [
    {
     "name": "stdout",
     "output_type": "stream",
     "text": [
      "Found 2 items:\n",
      "https://sentinel5euwest.blob.core.windows.net/sentinel-5p/TROPOMI/L2__CH4___/2023/04/03/S5P_OFFL_L2__CH4____20230403T063304_20230403T081434_28345_03_020500_20230404T225423/S5P_OFFL_L2__CH4____20230403T063304_20230403T081434_28345_03_020500_20230404T225423.nc?st=2023-09-02T07%3A24%3A32Z&se=2023-09-04T07%3A24%3A32Z&sp=rl&sv=2021-06-08&sr=c&skoid=c85c15d6-d1ae-42d4-af60-e2ca0f81359b&sktid=72f988bf-86f1-41af-91ab-2d7cd011db47&skt=2023-09-03T07%3A24%3A31Z&ske=2023-09-10T07%3A24%3A31Z&sks=b&skv=2021-06-08&sig=qsv1oNGgdzU3CFRer5i0oXBiFzcuNIl1u3ptVCmO3sM%3D\n"
     ]
    }
   ],
   "source": [
    "longitude = 79.109\n",
    "latitude = 22.746\n",
    "\n",
    "geometry = {\n",
    "    \"type\": \"Point\",\n",
    "    \"coordinates\": [longitude, latitude],\n",
    "}\n",
    "\n",
    "search = catalog.search(\n",
    "    collections=\"sentinel-5p-l2-netcdf\",\n",
    "    intersects=geometry,\n",
    "    datetime=\"2023-04-02/2023-04-03\",\n",
    "    query={\"s5p:processing_mode\": {\"eq\": \"OFFL\"}, \"s5p:product_name\": {\"eq\": \"ch4\"}},\n",
    ")\n",
    "items = list(search.items())\n",
    "\n",
    "print(f\"Found {len(items)} items:\")\n",
    "print(items[0].assets['ch4'].href)"
   ]
  },
  {
   "cell_type": "code",
   "execution_count": 30,
   "metadata": {},
   "outputs": [],
   "source": [
    "f = fsspec.open(items[0].assets[\"ch4\"].href).open()\n",
    "ds = xr.open_dataset(f, group=\"PRODUCT\", engine=\"h5netcdf\")\n",
    "ds"
   ]
  }
 ],
 "metadata": {
  "kernelspec": {
   "display_name": ".venv",
   "language": "python",
   "name": "python3"
  },
  "language_info": {
   "codemirror_mode": {
    "name": "ipython",
    "version": 3
   },
   "file_extension": ".py",
   "mimetype": "text/x-python",
   "name": "python",
   "nbconvert_exporter": "python",
   "pygments_lexer": "ipython3",
   "version": "3.11.3"
  },
  "orig_nbformat": 4
 },
 "nbformat": 4,
 "nbformat_minor": 2
}
