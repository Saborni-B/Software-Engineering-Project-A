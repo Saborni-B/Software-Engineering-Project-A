{
 "cells": [
  {
   "cell_type": "code",
   "execution_count": 17,
   "metadata": {},
   "outputs": [
    {
     "data": {
      "text/html": [
       "<p>To authorize access needed by Earth Engine, open the following\n",
       "        URL in a web browser and follow the instructions:</p>\n",
       "        <p><a href=https://code.earthengine.google.com/client-auth?scopes=https%3A//www.googleapis.com/auth/earthengine%20https%3A//www.googleapis.com/auth/devstorage.full_control&request_id=fj_nnaqW_m9622G4QEfWpCWCjMfQDPrv6ouJRYiM9TQ&tc=T9wARBwUvuUuAqIdtqPYfCtlpMwy_3DXPnKR5eCaE0A&cc=SIKJT7Bmzv8jZHu1khkHjQnZfE2KLIfI40LReoJ_jK8>https://code.earthengine.google.com/client-auth?scopes=https%3A//www.googleapis.com/auth/earthengine%20https%3A//www.googleapis.com/auth/devstorage.full_control&request_id=fj_nnaqW_m9622G4QEfWpCWCjMfQDPrv6ouJRYiM9TQ&tc=T9wARBwUvuUuAqIdtqPYfCtlpMwy_3DXPnKR5eCaE0A&cc=SIKJT7Bmzv8jZHu1khkHjQnZfE2KLIfI40LReoJ_jK8</a></p>\n",
       "        <p>The authorization workflow will generate a code, which you should paste in the box below.</p>\n",
       "        "
      ],
      "text/plain": [
       "<IPython.core.display.HTML object>"
      ]
     },
     "metadata": {},
     "output_type": "display_data"
    },
    {
     "name": "stdout",
     "output_type": "stream",
     "text": [
      "\n",
      "Successfully saved authorization token.\n"
     ]
    },
    {
     "data": {
      "application/vnd.jupyter.widget-view+json": {
       "model_id": "1208177da07644bcbd0072444c449c47",
       "version_major": 2,
       "version_minor": 0
      },
      "text/plain": [
       "Map(center=[-26.9, 124.24], controls=(WidgetControl(options=['position', 'transparent_bg'], widget=HBox(childr…"
      ]
     },
     "execution_count": 17,
     "metadata": {},
     "output_type": "execute_result"
    }
   ],
   "source": [
    "import geemap\n",
    "import ee\n",
    "\n",
    "ee.Authenticate()\n",
    "ee.Initialize()\n",
    "australia = geemap.Map(center=(-26.9, 124.24), zoom=4.7)\n",
    "australia"
   ]
  },
  {
   "cell_type": "code",
   "execution_count": 18,
   "metadata": {},
   "outputs": [],
   "source": [
    "ch4 = ee.ImageCollection('COPERNICUS/S5P/OFFL/L3_CH4') .select('CH4_column_volume_mixing_ratio_dry_air') .filterDate('2019-06-01', '2019-07-16')\n",
    "\n",
    "viz = {\n",
    "  'min': 1750,\n",
    "  'max': 1850,\n",
    "  'opacity': 0.5,\n",
    "  'palette': ['black']\n",
    "};\n",
    "\n",
    "australia.addLayer(ch4.mean(), viz, 'S5P CH4')"
   ]
  },
  {
   "cell_type": "code",
   "execution_count": 19,
   "metadata": {},
   "outputs": [
    {
     "name": "stdout",
     "output_type": "stream",
     "text": [
      "Mean Methane Concentration: <bound method Image.getInfo of <ee.image.Image object at 0x11f8482e0>>\n",
      "Median Methane Concentration: {'type': 'Image', 'bands': [{'id': 'CH4_column_volume_mixing_ratio_dry_air', 'data_type': {'type': 'PixelType', 'precision': 'double'}, 'crs': 'EPSG:4326', 'crs_transform': [1, 0, 0, 0, 1, 0]}]}\n",
      "Mode Methane Concentration: {'type': 'Image', 'bands': [{'id': 'CH4_column_volume_mixing_ratio_dry_air_mode', 'data_type': {'type': 'PixelType', 'precision': 'double'}, 'crs': 'EPSG:4326', 'crs_transform': [1, 0, 0, 0, 1, 0]}]}\n",
      "Highest Methane Concentration: {'type': 'Image', 'bands': [{'id': 'CH4_column_volume_mixing_ratio_dry_air', 'data_type': {'type': 'PixelType', 'precision': 'double'}, 'crs': 'EPSG:4326', 'crs_transform': [1, 0, 0, 0, 1, 0]}]}\n"
     ]
    }
   ],
   "source": [
    "mean_methane = ch4.mean()\n",
    "median_methane = ch4.median()\n",
    "highest_methane = ch4.max()\n",
    "\n",
    "# Display the calculated statistics\n",
    "print(\"Mean Methane Concentration:\", mean_methane.getInfo)\n",
    "print(\"Median Methane Concentration:\", median_methane.getInfo())\n",
    "\n",
    "print(\"Highest Methane Concentration:\", highest_methane.getInfo())\n"
   ]
  },
  {
   "cell_type": "code",
   "execution_count": 20,
   "metadata": {},
   "outputs": [
    {
     "data": {
      "application/vnd.jupyter.widget-view+json": {
       "model_id": "1208177da07644bcbd0072444c449c47",
       "version_major": 2,
       "version_minor": 0
      },
      "text/plain": [
       "Map(bottom=5032.0, center=[-26.9, 124.24], controls=(WidgetControl(options=['position', 'transparent_bg'], wid…"
      ]
     },
     "execution_count": 20,
     "metadata": {},
     "output_type": "execute_result"
    }
   ],
   "source": [
    "buffer_size = 20000\n",
    "kernel = ee.Kernel.circle(radius=buffer_size, units='meters')\n",
    "mean_within_buffer = ch4.mean().reduceNeighborhood(\n",
    "    reducer=ee.Reducer.mean(),\n",
    "    kernel=kernel\n",
    ")\n",
    "threshold = 1850\n",
    "anomaly_image = mean_within_buffer.gt(threshold)\n",
    "australia.addLayer(anomaly_image.updateMask(anomaly_image), {'palette': 'red'}, 'Methane Anomalies')\n",
    "australia.centerObject(anomaly_image)\n",
    "australia"
   ]
  },
  {
   "cell_type": "code",
   "execution_count": null,
   "metadata": {},
   "outputs": [],
   "source": []
  }
 ],
 "metadata": {
  "kernelspec": {
   "display_name": "Python 3",
   "language": "python",
   "name": "python3"
  },
  "language_info": {
   "codemirror_mode": {
    "name": "ipython",
    "version": 3
   },
   "file_extension": ".py",
   "mimetype": "text/x-python",
   "name": "python",
   "nbconvert_exporter": "python",
   "pygments_lexer": "ipython3",
   "version": "3.9.6"
  },
  "orig_nbformat": 4
 },
 "nbformat": 4,
 "nbformat_minor": 2
}
