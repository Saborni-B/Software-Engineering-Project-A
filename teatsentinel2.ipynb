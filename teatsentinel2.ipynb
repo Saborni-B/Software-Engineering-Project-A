{
 "cells": [
  {
   "attachments": {},
   "cell_type": "markdown",
   "metadata": {},
   "source": []
  },
  {
   "cell_type": "code",
   "execution_count": null,
   "metadata": {},
   "outputs": [],
   "source": [
    "Sentinel 2 data Test 1"
   ]
  },
  {
   "cell_type": "code",
   "execution_count": 3,
   "metadata": {},
   "outputs": [
    {
     "ename": "InvalidKeyError",
     "evalue": "Invalid key (S2MSI2A) to access Products",
     "output_type": "error",
     "traceback": [
      "\u001b[1;31m---------------------------------------------------------------------------\u001b[0m",
      "\u001b[1;31mHTTPError\u001b[0m                                 Traceback (most recent call last)",
      "File \u001b[1;32mc:\\Users\\jenni\\anaconda3\\lib\\site-packages\\sentinelsat\\sentinel.py:1023\u001b[0m, in \u001b[0;36mSentinelAPI._check_scihub_response\u001b[1;34m(response, test_json, query_string)\u001b[0m\n\u001b[0;32m   1022\u001b[0m \u001b[39mtry\u001b[39;00m:\n\u001b[1;32m-> 1023\u001b[0m     response\u001b[39m.\u001b[39;49mraise_for_status()\n\u001b[0;32m   1024\u001b[0m     \u001b[39mif\u001b[39;00m test_json:\n",
      "File \u001b[1;32mc:\\Users\\jenni\\anaconda3\\lib\\site-packages\\requests\\models.py:1021\u001b[0m, in \u001b[0;36mResponse.raise_for_status\u001b[1;34m(self)\u001b[0m\n\u001b[0;32m   1020\u001b[0m \u001b[39mif\u001b[39;00m http_error_msg:\n\u001b[1;32m-> 1021\u001b[0m     \u001b[39mraise\u001b[39;00m HTTPError(http_error_msg, response\u001b[39m=\u001b[39m\u001b[39mself\u001b[39m)\n",
      "\u001b[1;31mHTTPError\u001b[0m: 404 Client Error:  for url: https://apihub.copernicus.eu/apihub/odata/v1/Products('S2MSI2A')?$format=json",
      "\nDuring handling of the above exception, another exception occurred:\n",
      "\u001b[1;31mInvalidKeyError\u001b[0m                           Traceback (most recent call last)",
      "Cell \u001b[1;32mIn[3], line 11\u001b[0m\n\u001b[0;32m      7\u001b[0m api \u001b[39m=\u001b[39m SentinelAPI(\u001b[39m\"\u001b[39m\u001b[39mhmlai\u001b[39m\u001b[39m\"\u001b[39m, \u001b[39m\"\u001b[39m\u001b[39mJD09240310.lhm\u001b[39m\u001b[39m\"\u001b[39m, \u001b[39m'\u001b[39m\u001b[39mhttps://apihub.copernicus.eu/apihub\u001b[39m\u001b[39m'\u001b[39m)\n\u001b[0;32m     10\u001b[0m \u001b[39m# download single scene by known product id\u001b[39;00m\n\u001b[1;32m---> 11\u001b[0m api\u001b[39m.\u001b[39;49mdownload(\u001b[39m\"\u001b[39;49m\u001b[39mS2MSI2A\u001b[39;49m\u001b[39m\"\u001b[39;49m)\n\u001b[0;32m     13\u001b[0m \u001b[39m# search by polygon, time, and SciHub query keywords\u001b[39;00m\n\u001b[0;32m     14\u001b[0m footprint \u001b[39m=\u001b[39m geojson_to_wkt(read_geojson(\u001b[39m'\u001b[39m\u001b[39m/path/to/map.geojson\u001b[39m\u001b[39m'\u001b[39m))\n",
      "File \u001b[1;32mc:\\Users\\jenni\\anaconda3\\lib\\site-packages\\sentinelsat\\sentinel.py:596\u001b[0m, in \u001b[0;36mSentinelAPI.download\u001b[1;34m(self, id, directory_path, checksum, nodefilter)\u001b[0m\n\u001b[0;32m    594\u001b[0m downloader\u001b[39m.\u001b[39mnode_filter \u001b[39m=\u001b[39m nodefilter\n\u001b[0;32m    595\u001b[0m downloader\u001b[39m.\u001b[39mverify_checksum \u001b[39m=\u001b[39m checksum\n\u001b[1;32m--> 596\u001b[0m \u001b[39mreturn\u001b[39;00m downloader\u001b[39m.\u001b[39;49mdownload(\u001b[39mid\u001b[39;49m, directory_path)\n",
      "File \u001b[1;32mc:\\Users\\jenni\\anaconda3\\lib\\site-packages\\sentinelsat\\download.py:135\u001b[0m, in \u001b[0;36mDownloader.download\u001b[1;34m(self, id, directory, stop_event)\u001b[0m\n\u001b[0;32m    132\u001b[0m \u001b[39mif\u001b[39;00m \u001b[39mself\u001b[39m\u001b[39m.\u001b[39mnode_filter:\n\u001b[0;32m    133\u001b[0m     \u001b[39mreturn\u001b[39;00m \u001b[39mself\u001b[39m\u001b[39m.\u001b[39m_download_with_node_filter(\u001b[39mid\u001b[39m, directory, stop_event)\n\u001b[1;32m--> 135\u001b[0m product_info \u001b[39m=\u001b[39m \u001b[39mself\u001b[39;49m\u001b[39m.\u001b[39;49mapi\u001b[39m.\u001b[39;49mget_product_odata(\u001b[39mid\u001b[39;49m)\n\u001b[0;32m    136\u001b[0m filename \u001b[39m=\u001b[39m \u001b[39mself\u001b[39m\u001b[39m.\u001b[39mapi\u001b[39m.\u001b[39m_get_filename(product_info)\n\u001b[0;32m    137\u001b[0m path \u001b[39m=\u001b[39m Path(directory) \u001b[39m/\u001b[39m filename\n",
      "File \u001b[1;32mc:\\Users\\jenni\\anaconda3\\lib\\site-packages\\sentinelsat\\sentinel.py:511\u001b[0m, in \u001b[0;36mSentinelAPI.get_product_odata\u001b[1;34m(self, id, full)\u001b[0m\n\u001b[0;32m    509\u001b[0m \u001b[39mwith\u001b[39;00m \u001b[39mself\u001b[39m\u001b[39m.\u001b[39mdl_limit_semaphore:\n\u001b[0;32m    510\u001b[0m     response \u001b[39m=\u001b[39m \u001b[39mself\u001b[39m\u001b[39m.\u001b[39msession\u001b[39m.\u001b[39mget(url)\n\u001b[1;32m--> 511\u001b[0m \u001b[39mself\u001b[39;49m\u001b[39m.\u001b[39;49m_check_scihub_response(response)\n\u001b[0;32m    512\u001b[0m values \u001b[39m=\u001b[39m _parse_odata_response(response\u001b[39m.\u001b[39mjson()[\u001b[39m\"\u001b[39m\u001b[39md\u001b[39m\u001b[39m\"\u001b[39m])\n\u001b[0;32m    513\u001b[0m \u001b[39mif\u001b[39;00m values[\u001b[39m\"\u001b[39m\u001b[39mtitle\u001b[39m\u001b[39m\"\u001b[39m]\u001b[39m.\u001b[39mstartswith(\u001b[39m\"\u001b[39m\u001b[39mS3\u001b[39m\u001b[39m\"\u001b[39m):\n",
      "File \u001b[1;32mc:\\Users\\jenni\\anaconda3\\lib\\site-packages\\sentinelsat\\sentinel.py:1066\u001b[0m, in \u001b[0;36mSentinelAPI._check_scihub_response\u001b[1;34m(response, test_json, query_string)\u001b[0m\n\u001b[0;32m   1064\u001b[0m \u001b[39melif\u001b[39;00m \u001b[39m\"\u001b[39m\u001b[39mInvalid key\u001b[39m\u001b[39m\"\u001b[39m \u001b[39min\u001b[39;00m msg:\n\u001b[0;32m   1065\u001b[0m     msg \u001b[39m=\u001b[39m msg\u001b[39m.\u001b[39msplit(\u001b[39m\"\u001b[39m\u001b[39m : \u001b[39m\u001b[39m\"\u001b[39m, \u001b[39m1\u001b[39m)[\u001b[39m-\u001b[39m\u001b[39m1\u001b[39m]\n\u001b[1;32m-> 1066\u001b[0m     \u001b[39mraise\u001b[39;00m InvalidKeyError(msg, response)\n\u001b[0;32m   1067\u001b[0m \u001b[39melif\u001b[39;00m \u001b[39m500\u001b[39m \u001b[39m<\u001b[39m\u001b[39m=\u001b[39m response\u001b[39m.\u001b[39mstatus_code \u001b[39m<\u001b[39m \u001b[39m600\u001b[39m \u001b[39mor\u001b[39;00m msg:\n\u001b[0;32m   1068\u001b[0m     \u001b[39m# 5xx: Server Error\u001b[39;00m\n\u001b[0;32m   1069\u001b[0m     \u001b[39mraise\u001b[39;00m ServerError(msg, response)\n",
      "\u001b[1;31mInvalidKeyError\u001b[0m: Invalid key (S2MSI2A) to access Products"
     ]
    }
   ],
   "source": [
    "# connect to the API\n",
    "from sentinelsat import SentinelAPI, read_geojson, geojson_to_wkt\n",
    "from datetime import date\n",
    "\n",
    "#user name, password & api url\n",
    "\n",
    "api = SentinelAPI(\"hmlai\", \"JD09240310.lhm\", 'https://apihub.copernicus.eu/apihub')\n",
    "\n",
    "\n",
    "# download single scene by known product id\n",
    "api.download(\"S2MSI2A\")\n",
    "\n",
    "# search by polygon, time, and SciHub query keywords\n",
    "footprint = geojson_to_wkt(read_geojson('/path/to/map.geojson'))\n",
    "products = api.query(footprint,\n",
    "                     date=('20230530', date(2023, 5, 30)),\n",
    "                     platformname='Sentinel-2',\n",
    "                     cloudcoverpercentage=(0, 30))\n",
    "\n",
    "# download all results from the search\n",
    "api.download_all(products)\n",
    "\n",
    "# convert to Pandas DataFrame\n",
    "products_df = api.to_dataframe(products)\n",
    "\n",
    "# GeoJSON FeatureCollection containing footprints and metadata of the scenes\n",
    "api.to_geojson(products)\n",
    "\n",
    "# GeoPandas GeoDataFrame with the metadata of the scenes and the footprints as geometries\n",
    "api.to_geodataframe(products)\n",
    "\n",
    "# Get basic information about the product: its title, file size, MD5 sum, date, footprint and\n",
    "# its download url\n",
    "api.get_product_odata(\"S2MSI2A\")\n",
    "\n",
    "# Get the product's full metadata available on the server\n",
    "api.get_product_odata(\"S2MSI2A\", full=True)"
   ]
  },
  {
   "cell_type": "code",
   "execution_count": null,
   "metadata": {},
   "outputs": [],
   "source": [
    "# connect to the API\n",
    "from sentinelsat import SentinelAPI, read_geojson, geojson_to_wkt\n",
    "from datetime import date\n",
    "\n",
    "api = SentinelAPI(\"hmlai\", \"JD09240310.lhm\", 'https://apihub.copernicus.eu/apihub', show_progressbars= True, timeout = 60)\n",
    "\n",
    "# search by polygon, time, and SciHub query keywords\n",
    "footprint = geojson_to_wkt(read_geojson('map.geojson'))\n",
    "products = api.query(footprint,\n",
    "                     date=('20230530', date(2023, 5, 30)),\n",
    "                     platformname='Sentinel-2')\n",
    "\n",
    "# convert to Pandas DataFrame\n",
    "products_df = api.to_dataframe(products)\n",
    "\n",
    "# sort and limit to first 5 sorted products\n",
    "products_df_sorted = products_df.sort_values(['cloudcoverpercentage', 'ingestiondate'], ascending=[True, True])\n",
    "products_df_sorted = products_df_sorted.head(5)\n",
    "\n",
    "# download sorted and reduced products\n",
    "api.download_all(products_df_sorted.index)"
   ]
  }
 ],
 "metadata": {
  "kernelspec": {
   "display_name": "base",
   "language": "python",
   "name": "python3"
  },
  "language_info": {
   "codemirror_mode": {
    "name": "ipython",
    "version": 3
   },
   "file_extension": ".py",
   "mimetype": "text/x-python",
   "name": "python",
   "nbconvert_exporter": "python",
   "pygments_lexer": "ipython3",
   "version": "3.10.9"
  },
  "orig_nbformat": 4
 },
 "nbformat": 4,
 "nbformat_minor": 2
}
