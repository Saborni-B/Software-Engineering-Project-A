{
 "cells": [
  {
   "cell_type": "markdown",
   "metadata": {},
   "source": []
  },
  {
   "cell_type": "code",
   "execution_count": 12,
   "metadata": {},
   "outputs": [],
   "source": []
  },
  {
   "cell_type": "markdown",
   "metadata": {},
   "source": [
    "The data format of the sentinel 5p is NetCDF4. The file has two types group in which the group PORDUCT contains the info about lat, lon and methane mixing ratio(bias corrected)\n",
    "\n",
    "methane_mixing_ratio: This is likely the actual measurement of methane concentration in the atmosphere at the specified location and time.\n",
    "\n",
    "vs.\n",
    "\n",
    "methane_mixing_ratio_bias_corrected: This represent a version of the methane mixing ratio that has been corrected for biases or errors, providing a more accurate representation of the true value.\n",
    "\n",
    "\n",
    "naturalearth_lowres: This website has all the info about the geogrphical data of the whole world. The user input needs to be matched with the lat/long/name of this website\n",
    "\n"
   ]
  },
  {
   "cell_type": "code",
   "execution_count": 5,
   "metadata": {},
   "outputs": [
    {
     "name": "stdout",
     "output_type": "stream",
     "text": [
      "<class 'netCDF4._netCDF4.Dataset'>\n",
      "root group (NETCDF4 data model, file format HDF5):\n",
      "    Conventions: CF-1.7\n",
      "    institution: KNMI/SRON\n",
      "    source: Sentinel 5 precursor, TROPOMI, space-borne remote sensing, L2\n",
      "    history: 2023-05-16 04:30:10 f_s5pops tropnll2dp /mnt/data1/storage_offl_l2/cache_offl_l2/WORKING-612033466/JobOrder.612033437.xml\n",
      "    summary: TROPOMI/S5P Methane 1-Orbit L2 Swath 5.5x7.0km\n",
      "    tracking_id: d54caa00-25f3-431c-b8b9-13f4f34ec317\n",
      "    id: S5P_OFFL_L2__CH4____20230514T034638_20230514T052808_28925_03_020500_20230515T195331\n",
      "    time_reference: 2023-05-14T00:00:00Z\n",
      "    time_reference_days_since_1950: 26796\n",
      "    time_reference_julian_day: 2460078.5\n",
      "    time_reference_seconds_since_1970: 1684022400\n",
      "    time_coverage_start: 2023-05-14T04:08:12Z\n",
      "    time_coverage_end: 2023-05-14T05:06:36Z\n",
      "    time_coverage_duration: PT3504.398S\n",
      "    time_coverage_resolution: PT0.840S\n",
      "    orbit: 28925\n",
      "    references: https://sentinels.copernicus.eu/web/sentinel/technical-guides/sentinel-5p/products-algorithms; http://www.tropomi.eu/data-products/methane\n",
      "    processor_version: 2.5.0\n",
      "    keywords_vocabulary: AGU index terms, http://publications.agu.org/author-resource-center/index-terms/\n",
      "    keywords: 0300 Atmospheric Composition and Structure; 0365 Troposphere, Composition and Chemistry; 0400 Biogeosciences; 0428 Carbon Cycling; 1600 Global Change\n",
      "    standard_name_vocabulary: NetCDF Climate and Forecast Metadata Conventions Standard Name Table (v29, 08 July 2015), http://cfconventions.org/standard-names.html\n",
      "    naming_authority: nl.knmi\n",
      "    cdm_data_type: Swath\n",
      "    date_created: 2023-05-15T19:53:34Z\n",
      "    creator_name: The Sentinel 5 Precursor TROPOMI Level 2 products are developed with funding from the European Space Agency (ESA), the Netherlands Space Office (NSO), the Belgian Science Policy Office, the German Aerospace Center (DLR) and the Bayerisches Staatsministerium für Wirtschaft und Medien, Energie und Technologie (StMWi).\n",
      "    creator_url: https://sentinels.copernicus.eu/web/sentinel/missions/sentinel-5p\n",
      "    creator_email: EOSupport@Copernicus.esa.int\n",
      "    project: Sentinel 5 precursor/TROPOMI\n",
      "    geospatial_lat_min: -81.64632\n",
      "    geospatial_lat_max: 89.95805\n",
      "    geospatial_lon_min: -179.99876\n",
      "    geospatial_lon_max: 179.99936\n",
      "    license: No conditions apply\n",
      "    platform: S5P\n",
      "    sensor: TROPOMI\n",
      "    spatial_resolution: 5.5x7.0 km2\n",
      "    cpp_compiler_version: g++ (GCC) 4.8.5 20150623 (Red Hat 4.8.5-11)\n",
      "    cpp_compiler_flags: -g -O2 -fPIC -std=c++11 -W -Wall -Wno-ignored-qualifiers -Wno-write-strings -Wno-unused-variable -Wno-unused-parameter -DTROPNLL2DP\n",
      "    f90_compiler_version: GNU Fortran (GCC) 4.8.5 20150623 (Red Hat 4.8.5-11)\n",
      "    f90_compiler_flags: -gdwarf-3 -O2 -fPIC -cpp -ffpe-trap=invalid -fno-range-check -frecursive -fimplicit-none -ffree-line-length-none -DTROPNLL2DP -Wuninitialized -Wtabs\n",
      "    build_date: 2023-02-02T09:03:00Z\n",
      "    revision_control_identifier: 17a60fb214c1+\n",
      "    geolocation_grid_from_band: 7\n",
      "    identifier_product_doi: 10.5270/S5P-3lcdqiv\n",
      "    identifier_product_doi_authority: http://dx.doi.org/\n",
      "    algorithm_version: 1.5.0\n",
      "    title: TROPOMI/S5P Methane 1-Orbit L2 Swath 5.5x7.0km\n",
      "    product_version: 1.5.0\n",
      "    processing_status: Nominal\n",
      "    Status_MET_2D: Nominal\n",
      "    Status_CTM_CO: Nominal\n",
      "    Status_CTMCH4: Nominal\n",
      "    Status_NPP_VIIRS: Nominal\n",
      "    dimensions(sizes): \n",
      "    variables(dimensions): \n",
      "    groups: PRODUCT, METADATA\n"
     ]
    }
   ],
   "source": [
    "import netCDF4 as nc4\n",
    "import geopandas as gpd\n",
    "import numpy as np\n",
    "import matplotlib.pyplot as plt\n",
    "\n",
    "\n",
    "\n",
    "#country_name = input(\"Enter the name of a country: \")\n",
    "\n",
    "# Load the NetCDF dataset\n",
    "Dataset = nc4.Dataset(r\"C:\\Users\\User\\Downloads\\S5P_OFFL_L2__CH4____20230514T034638_20230514T052808_28925_03_020500_20230515T195331.nc\")\n",
    "\n",
    "print(Dataset)\n",
    "\n",
    "\n",
    "\n"
   ]
  },
  {
   "cell_type": "code",
   "execution_count": 6,
   "metadata": {},
   "outputs": [
    {
     "name": "stdout",
     "output_type": "stream",
     "text": [
      "{'PRODUCT': <class 'netCDF4._netCDF4.Group'>\n",
      "group /PRODUCT:\n",
      "    dimensions(sizes): scanline(4173), ground_pixel(215), corner(4), time(1), layer(12), level(13)\n",
      "    variables(dimensions): int32 scanline(scanline), int32 ground_pixel(ground_pixel), int32 time(time), int32 corner(corner), int32 layer(layer), int32 level(level), int32 delta_time(time, scanline), <class 'str'> time_utc(time, scanline), uint8 qa_value(time, scanline, ground_pixel), float32 latitude(time, scanline, ground_pixel), float32 longitude(time, scanline, ground_pixel), float32 methane_mixing_ratio(time, scanline, ground_pixel), float32 methane_mixing_ratio_precision(time, scanline, ground_pixel), float32 methane_mixing_ratio_bias_corrected(time, scanline, ground_pixel)\n",
      "    groups: SUPPORT_DATA, 'METADATA': <class 'netCDF4._netCDF4.Group'>\n",
      "group /METADATA:\n",
      "    dimensions(sizes): \n",
      "    variables(dimensions): \n",
      "    groups: QA_STATISTICS, ALGORITHM_SETTINGS, GRANULE_DESCRIPTION, ISO_METADATA, EOP_METADATA, ESA_METADATA}\n"
     ]
    }
   ],
   "source": [
    "print(Dataset.groups)"
   ]
  },
  {
   "cell_type": "code",
   "execution_count": 7,
   "metadata": {},
   "outputs": [
    {
     "data": {
      "text/plain": [
       "dict_keys(['scanline', 'ground_pixel', 'time', 'corner', 'layer', 'level', 'delta_time', 'time_utc', 'qa_value', 'latitude', 'longitude', 'methane_mixing_ratio', 'methane_mixing_ratio_precision', 'methane_mixing_ratio_bias_corrected'])"
      ]
     },
     "execution_count": 7,
     "metadata": {},
     "output_type": "execute_result"
    }
   ],
   "source": [
    "Dataset.groups['PRODUCT'].variables.keys()"
   ]
  },
  {
   "cell_type": "code",
   "execution_count": 8,
   "metadata": {},
   "outputs": [
    {
     "name": "stderr",
     "output_type": "stream",
     "text": [
      "C:\\Users\\User\\AppData\\Local\\Temp\\ipykernel_8588\\960280503.py:1: FutureWarning: The geopandas.dataset module is deprecated and will be removed in GeoPandas 1.0. You can get the original 'naturalearth_lowres' data from https://www.naturalearthdata.com/downloads/110m-cultural-vectors/.\n",
      "  world = gpd.read_file(gpd.datasets.get_path('naturalearth_lowres'))\n"
     ]
    },
    {
     "name": "stdout",
     "output_type": "stream",
     "text": [
      "         pop_est      continent                      name iso_a3  gdp_md_est   \n",
      "0       889953.0        Oceania                      Fiji    FJI        5496  \\\n",
      "1     58005463.0         Africa                  Tanzania    TZA       63177   \n",
      "2       603253.0         Africa                 W. Sahara    ESH         907   \n",
      "3     37589262.0  North America                    Canada    CAN     1736425   \n",
      "4    328239523.0  North America  United States of America    USA    21433226   \n",
      "..           ...            ...                       ...    ...         ...   \n",
      "172    6944975.0         Europe                    Serbia    SRB       51475   \n",
      "173     622137.0         Europe                Montenegro    MNE        5542   \n",
      "174    1794248.0         Europe                    Kosovo    -99        7926   \n",
      "175    1394973.0  North America       Trinidad and Tobago    TTO       24269   \n",
      "176   11062113.0         Africa                  S. Sudan    SSD       11998   \n",
      "\n",
      "                                              geometry  \n",
      "0    MULTIPOLYGON (((180.00000 -16.06713, 180.00000...  \n",
      "1    POLYGON ((33.90371 -0.95000, 34.07262 -1.05982...  \n",
      "2    POLYGON ((-8.66559 27.65643, -8.66512 27.58948...  \n",
      "3    MULTIPOLYGON (((-122.84000 49.00000, -122.9742...  \n",
      "4    MULTIPOLYGON (((-122.84000 49.00000, -120.0000...  \n",
      "..                                                 ...  \n",
      "172  POLYGON ((18.82982 45.90887, 18.82984 45.90888...  \n",
      "173  POLYGON ((20.07070 42.58863, 19.80161 42.50009...  \n",
      "174  POLYGON ((20.59025 41.85541, 20.52295 42.21787...  \n",
      "175  POLYGON ((-61.68000 10.76000, -61.10500 10.890...  \n",
      "176  POLYGON ((30.83385 3.50917, 29.95350 4.17370, ...  \n",
      "\n",
      "[177 rows x 6 columns]\n"
     ]
    }
   ],
   "source": [
    "world = gpd.read_file(gpd.datasets.get_path('naturalearth_lowres'))\n",
    "print(world)"
   ]
  },
  {
   "cell_type": "code",
   "execution_count": 24,
   "metadata": {},
   "outputs": [
    {
     "name": "stdout",
     "output_type": "stream",
     "text": [
      "[[-81.32951  -81.41167  -81.47737  ... -68.160934 -67.89871  -67.6216  ]\n",
      " [-81.28681  -81.36812  -81.433075 ... -68.14187  -67.87999  -67.60322 ]\n",
      " [-81.24404  -81.32451  -81.388725 ... -68.122734 -67.86119  -67.58477 ]\n",
      " ...\n",
      " [ 48.83609   48.95623   49.068466 ...  55.574165  55.631607  55.68979 ]\n",
      " [ 48.793053  48.913006  49.025063 ...  55.525955  55.58347   55.64173 ]\n",
      " [ 48.75002   48.86978   48.981663 ...  55.47783   55.53541   55.593754]]\n",
      "[[ 114.13488   116.37989   118.54212  ... -151.60896  -151.17607\n",
      "  -150.73065 ]\n",
      " [ 114.26701   116.50226   118.6545   ... -151.73373  -151.29976\n",
      "  -150.8532  ]\n",
      " [ 114.39763   116.62317   118.7655   ... -151.85826  -151.42322\n",
      "  -150.97551 ]\n",
      " ...\n",
      " [ -23.663729  -24.13542   -24.584703 ...  -60.65067   -61.164352\n",
      "   -61.705837]\n",
      " [ -23.70316   -24.17455   -24.623543 ...  -60.652412  -61.16543\n",
      "   -61.70621 ]\n",
      " [ -23.742666  -24.213749  -24.662443 ...  -60.654327  -61.16669\n",
      "   -61.70678 ]]\n",
      "[[-- -- -- ... -- -- --]\n",
      " [-- -- -- ... -- -- --]\n",
      " [-- -- -- ... -- -- --]\n",
      " ...\n",
      " [-- -- -- ... -- -- --]\n",
      " [-- -- -- ... -- -- --]\n",
      " [-- -- -- ... -- -- --]]\n",
      "[[ 114.13488  116.37989  118.54212  120.62315  122.62481  124.54915\n",
      "   126.39841  128.175    129.88144  131.52034  133.09435  134.60612\n",
      "   136.05836  137.45366  138.79462  140.08374  141.3235   142.51625\n",
      "   143.66426  144.76971  145.8347   146.86124  147.8512   148.8064\n",
      "   149.72856  150.61932  151.48021  152.31271  153.1182   153.89798\n",
      "   154.65329  155.38531  156.09517  156.78387  157.45245  158.1018\n",
      "   158.73286  159.34642  159.9433   160.52423  161.08994  161.64108\n",
      "   162.1783   162.70221  163.21336  163.71233  164.19958  164.67566\n",
      "   165.14098  165.59601  166.04115  166.4768   166.90337  167.32118\n",
      "   167.73059  168.13191  168.52548  168.91159  169.2905   169.6625\n",
      "   170.02785  170.38678  170.73953  171.08635  171.42741  171.76297\n",
      "   172.09319  172.41824  172.73836  173.0537   173.3644   173.67064\n",
      "   173.9726   174.27039  174.56415  174.85405  175.1402   175.42273\n",
      "   175.70177  175.97743  176.24983  176.51906  176.78526  177.04851\n",
      "   177.3089   177.56654  177.82153  178.07394  178.32388  178.57141\n",
      "   178.81664  179.05962  179.30043  179.53917  179.7759  -179.98933\n",
      "  -179.75644 -179.52534 -179.29599 -179.06833 -178.84227 -178.61777\n",
      "  -178.39478 -178.17322 -177.95303 -177.73419 -177.51662 -177.30028\n",
      "  -177.0851  -176.87103 -176.65804 -176.44608 -176.23506 -176.025\n",
      "  -175.8158  -175.60742 -175.39984 -175.193   -174.98685 -174.78134\n",
      "  -174.57646 -174.37215 -174.16835 -173.96503 -173.76215 -173.55968\n",
      "  -173.35756 -173.15575 -172.95422 -172.75293 -172.55182 -172.35088\n",
      "  -172.15004 -171.94928 -171.74855 -171.54782 -171.34705 -171.14618\n",
      "  -170.94518 -170.744   -170.54263 -170.341   -170.13908 -169.93684\n",
      "  -169.7342  -169.53117 -169.32767 -169.12366 -168.9191  -168.71396\n",
      "  -168.50818 -168.30173 -168.09454 -167.88658 -167.67781 -167.46817\n",
      "  -167.25761 -167.0461  -166.83357 -166.61998 -166.40526 -166.18938\n",
      "  -165.97227 -165.75389 -165.53416 -165.31305 -165.09048 -164.8664\n",
      "  -164.64073 -164.41344 -164.18443 -163.95364 -163.72102 -163.48648\n",
      "  -163.24994 -163.01135 -162.7706  -162.52763 -162.28236 -162.03468\n",
      "  -161.78453 -161.53178 -161.27637 -161.01817 -160.75708 -160.49301\n",
      "  -160.22583 -159.95541 -159.68164 -159.40439 -159.1235  -158.83887\n",
      "  -158.55031 -158.25766 -157.96077 -157.65945 -157.35352 -157.04276\n",
      "  -156.72696 -156.40591 -156.07935 -155.74701 -155.40862 -155.06387\n",
      "  -154.71243 -154.35394 -153.98802 -153.61423 -153.2321  -152.84113\n",
      "  -152.44072 -152.03023 -151.60896 -151.17607 -150.73065]]\n",
      "[[-81.32951  -81.41167  -81.47737  -81.52865  -81.56726  -81.59472\n",
      "  -81.61234  -81.6213   -81.6226   -81.617134 -81.605705 -81.589005\n",
      "  -81.56764  -81.54217  -81.51308  -81.48078  -81.44567  -81.40809\n",
      "  -81.36834  -81.326675 -81.283356 -81.23858  -81.19254  -81.14542\n",
      "  -81.09734  -81.04847  -80.99891  -80.94876  -80.89814  -80.847115\n",
      "  -80.79577  -80.74417  -80.692375 -80.64044  -80.58841  -80.53632\n",
      "  -80.48423  -80.43215  -80.38013  -80.32817  -80.276306 -80.22456\n",
      "  -80.17295  -80.12148  -80.070175 -80.01904  -79.96809  -79.91731\n",
      "  -79.86674  -79.81636  -79.76618  -79.71621  -79.66644  -79.61689\n",
      "  -79.567535 -79.518394 -79.46946  -79.42072  -79.37219  -79.32387\n",
      "  -79.275734 -79.2278   -79.180046 -79.132484 -79.08511  -79.03791\n",
      "  -78.99088  -78.94402  -78.89733  -78.8508   -78.80441  -78.75818\n",
      "  -78.71209  -78.66614  -78.620316 -78.574615 -78.52904  -78.483574\n",
      "  -78.43822  -78.39297  -78.34781  -78.302734 -78.25775  -78.21284\n",
      "  -78.168    -78.12323  -78.078514 -78.03385  -77.989235 -77.94466\n",
      "  -77.90011  -77.85559  -77.81109  -77.7666   -77.72212  -77.677635\n",
      "  -77.63315  -77.588646 -77.54412  -77.49957  -77.454994 -77.41036\n",
      "  -77.36569  -77.32097  -77.27618  -77.231316 -77.18638  -77.14136\n",
      "  -77.09625  -77.05104  -77.00572  -76.96029  -76.91474  -76.86906\n",
      "  -76.82324  -76.777275 -76.731155 -76.684875 -76.63842  -76.59179\n",
      "  -76.544975 -76.497955 -76.45073  -76.40329  -76.35563  -76.30773\n",
      "  -76.25959  -76.21119  -76.16252  -76.11359  -76.06436  -76.01484\n",
      "  -75.965004 -75.91485  -75.864365 -75.81353  -75.762344 -75.710785\n",
      "  -75.658844 -75.6065   -75.55375  -75.50057  -75.44695  -75.392876\n",
      "  -75.338326 -75.28329  -75.22774  -75.17167  -75.11506  -75.057884\n",
      "  -75.00013  -74.94178  -74.882805 -74.82318  -74.76289  -74.70192\n",
      "  -74.64023  -74.577805 -74.51461  -74.45062  -74.38581  -74.32015\n",
      "  -74.25361  -74.18615  -74.117744 -74.048355 -73.97794  -73.90648\n",
      "  -73.83391  -73.76019  -73.685295 -73.60916  -73.53175  -73.453\n",
      "  -73.37287  -73.29129  -73.208206 -73.12356  -73.03727  -72.94928\n",
      "  -72.85951  -72.76789  -72.674324 -72.57873  -72.48101  -72.381065\n",
      "  -72.2788   -72.17409  -72.06681  -71.95685  -71.844055 -71.72829\n",
      "  -71.60938  -71.48718  -71.36149  -71.23212  -71.09885  -70.96145\n",
      "  -70.81967  -70.673256 -70.52189  -70.365265 -70.20302  -70.03476\n",
      "  -69.86007  -69.67847  -69.48943  -69.29239  -69.08667  -68.87155\n",
      "  -68.6462   -68.40969  -68.160934 -67.89871  -67.6216  ]]\n"
     ]
    }
   ],
   "source": [
    "lons = Dataset.groups['PRODUCT'].variables['longitude'][:][0, :, :]\n",
    "lats = Dataset.groups['PRODUCT'].variables['latitude'][:][0, :, :]\n",
    "methane = Dataset.groups['PRODUCT'].variables['methane_mixing_ratio_bias_corrected'][0, :, :]\n",
    "\n",
    "print(lats)\n",
    "print(lons)\n",
    "print(methane)\n",
    "\n",
    "subset_lons=lons[0:1]\n",
    "subset_lats=lats[0:1]\n",
    "\n",
    "print(subset_lons)\n",
    "\n",
    "print(subset_lats) #???"
   ]
  },
  {
   "cell_type": "code",
   "execution_count": 25,
   "metadata": {},
   "outputs": [
    {
     "name": "stdout",
     "output_type": "stream",
     "text": [
      "[[-81.32951  -81.41167  -81.47737  ... -68.160934 -67.89871  -67.6216  ]\n",
      " [-81.28681  -81.36812  -81.433075 ... -68.14187  -67.87999  -67.60322 ]\n",
      " [-81.24404  -81.32451  -81.388725 ... -68.122734 -67.86119  -67.58477 ]\n",
      " ...\n",
      " [ 48.83609   48.95623   49.068466 ...  55.574165  55.631607  55.68979 ]\n",
      " [ 48.793053  48.913006  49.025063 ...  55.525955  55.58347   55.64173 ]\n",
      " [ 48.75002   48.86978   48.981663 ...  55.47783   55.53541   55.593754]]\n",
      "[[ 114.13488   116.37989   118.54212  ... -151.60896  -151.17607\n",
      "  -150.73065 ]\n",
      " [ 114.26701   116.50226   118.6545   ... -151.73373  -151.29976\n",
      "  -150.8532  ]\n",
      " [ 114.39763   116.62317   118.7655   ... -151.85826  -151.42322\n",
      "  -150.97551 ]\n",
      " ...\n",
      " [ -23.663729  -24.13542   -24.584703 ...  -60.65067   -61.164352\n",
      "   -61.705837]\n",
      " [ -23.70316   -24.17455   -24.623543 ...  -60.652412  -61.16543\n",
      "   -61.70621 ]\n",
      " [ -23.742666  -24.213749  -24.662443 ...  -60.654327  -61.16669\n",
      "   -61.70678 ]]\n",
      "[[-- -- -- ... -- -- --]\n",
      " [-- -- -- ... -- -- --]\n",
      " [-- -- -- ... -- -- --]\n",
      " ...\n",
      " [-- -- -- ... -- -- --]\n",
      " [-- -- -- ... -- -- --]\n",
      " [-- -- -- ... -- -- --]]\n",
      "896763\n",
      "720056\n",
      "Methane concentration not found for the provided lat and lon.\n"
     ]
    }
   ],
   "source": [
    "\n",
    "\n",
    "lons = Dataset.groups['PRODUCT'].variables['longitude'][:][0, :, :]\n",
    "lats = Dataset.groups['PRODUCT'].variables['latitude'][:][0, :, :]\n",
    "methane = Dataset.groups['PRODUCT'].variables['methane_mixing_ratio_bias_corrected'][0, :, :]\n",
    "\n",
    "print(lats)\n",
    "print(lons)\n",
    "print(methane)\n",
    "\n",
    "\n",
    "lat = 55.631607\n",
    "lon =55.68979\n",
    "\n",
    "\n",
    "\n",
    "\n",
    "#gets the index of the lat and lon which have the minimum difference with the provided lat an lon\n",
    "\n",
    "lat_idx = np.abs(lats - lat).argmin()   # calculates the difference of each value in the lats array and the provided lat and gets the absolute difference values array. \n",
    "lon_idx = np.abs(lons - lon).argmin()  #In its simplest use, the argmin function returns the index of the minimum value of a Numpy array.In other words, it finds the index of the value in the lats array that is closest to the user-provided lat.\n",
    "\n",
    "print(lat_idx)\n",
    "print(lon_idx)\n",
    "\n",
    "# checks if the index is within the array\n",
    "if lat_idx < len(lats) and lon_idx < len(lons):  #len(lat) grabs the total number values in the array\n",
    "    methane_concentration = methane[lat_idx, lon_idx]\n",
    "    print(f\"Methane Concentration at Lat {lat}, Lon {lon}: {methane_concentration}\")\n",
    "else:\n",
    "    print(\"Methane concentration not found for the provided lat and lon.\")\n",
    "\n",
    "\n",
    "\n"
   ]
  },
  {
   "cell_type": "code",
   "execution_count": 34,
   "metadata": {},
   "outputs": [
    {
     "name": "stderr",
     "output_type": "stream",
     "text": [
      "C:\\Users\\User\\AppData\\Local\\Temp\\ipykernel_15964\\4016996582.py:17: UserWarning: The input coordinates to pcolormesh are interpreted as cell centers, but are not monotonically increasing or decreasing. This may lead to incorrectly calculated cell edges, in which case, please supply explicit cell edges to pcolormesh.\n",
      "  mesh = ax.pcolormesh(lons, lats, methane, cmap='hot', shading='auto')\n"
     ]
    },
    {
     "data": {
      "image/png": "[encoded data removed]",
      "text/plain": [
       "<Figure size 1000x1000 with 2 Axes>"
      ]
     },
     "metadata": {},
     "output_type": "display_data"
    }
   ],
   "source": [
    "# Get user input for the country name\n",
    "country_name = input(\"Enter the name of a country: \")\n",
    "\n",
    "# Try to match the country name in the world DataFrame\n",
    "matched_country = world[world['name'] == country_name]\n",
    "\n",
    "# Check if a match is found\n",
    "if not matched_country.empty:\n",
    "    # Extract latitude, longitude, and methane mixing ratio data from the Dataset\n",
    "    lons = Dataset.groups['PRODUCT'].variables['longitude'][0, :, :]\n",
    "    lats = Dataset.groups['PRODUCT'].variables['latitude'][0, :, :]\n",
    "    methane = Dataset.groups['PRODUCT'].variables['methane_mixing_ratio_bias_corrected'][0, :, :]\n",
    "\n",
    "    # Plot the map\n",
    "    fig, ax = plt.subplots(figsize=(10, 10))\n",
    "    matched_country.boundary.plot(ax=ax, linewidth=1, color='black')\n",
    "    mesh = ax.pcolormesh(lons, lats, methane, cmap='hot', shading='auto')\n",
    "    cbar = plt.colorbar(mesh, ax=ax, label='Methane Mixing Ratio')\n",
    "    ax.set_title(f'Methane Mixing Ratio in {country_name}')\n",
    "    ax.set_xlabel('Longitude')\n",
    "    ax.set_ylabel('Latitude')\n",
    "    plt.show()\n",
    "else:\n",
    "    print(\"Country not found.\")\n",
    "\n",
    "\n",
    "\n",
    "\n",
    "\n"
   ]
  }
 ],
 "metadata": {
  "kernelspec": {
   "display_name": "Python 3",
   "language": "python",
   "name": "python3"
  },
  "language_info": {
   "codemirror_mode": {
    "name": "ipython",
    "version": 3
   },
   "file_extension": ".py",
   "mimetype": "text/x-python",
   "name": "python",
   "nbconvert_exporter": "python",
   "pygments_lexer": "ipython3",
   "version": "3.10.11"
  },
  "orig_nbformat": 4
 },
 "nbformat": 4,
 "nbformat_minor": 2
}
