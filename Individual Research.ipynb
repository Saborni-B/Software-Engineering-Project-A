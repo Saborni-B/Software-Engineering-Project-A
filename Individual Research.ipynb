{
 "cells": [
  {
   "attachments": {},
   "cell_type": "markdown",
   "metadata": {},
   "source": [
    "### Retrieving data\n",
    "\n",
    "***Result:*** \n",
    "The chosen [data](https://s5phub.copernicus.eu/dhus/odata/v1/Products('93ea5d16-84dc-4d42-bd77-9fa7120376e4')/$value) was narrowed down with search query \n",
    "\n",
    "***TODO:*** \n",
    "Determine the appropriate keyword arguments necessary for querying based on user input"
   ]
  },
  {
   "cell_type": "code",
   "execution_count": 34,
   "metadata": {},
   "outputs": [
    {
     "name": "stdout",
     "output_type": "stream",
     "text": [
      "d5301239-5c22-4c97-a06d-bbac865fb092\n"
     ]
    }
   ],
   "source": [
    "# connect to the API\n",
    "from sentinelsat import SentinelAPI, read_geojson, geojson_to_wkt\n",
    "from datetime import date\n",
    "\n",
    "\"\"\"\n",
    "username & pwd: \"s5pguest\"\n",
    "api_url = \"https://s5phub.copernicus.eu/dhus\"\n",
    "\n",
    "show_progressbars & timeout is optional\n",
    "\"\"\"\n",
    "api = SentinelAPI(\"s5pguest\", \"s5pguest\", \"https://s5phub.copernicus.eu/dhus\", show_progressbars=True,timeout=60)\n",
    "\n",
    "# Search product ID using OpenSearch\n",
    "data_date = date=(date(2023, 5, 7), date(2023, 5, 9))\n",
    "product_type = \"L2__CH4___\"\n",
    "kw = {\n",
    "    'orbitnumber': 28826\n",
    "}\n",
    "\n",
    "result = api.query(date=data_date, producttype=product_type, **kw) # important: producttype='L2__CH4___'\n",
    "\n",
    "for line in result:\n",
    "    print (line)"
   ]
  },
  {
   "attachments": {},
   "cell_type": "markdown",
   "metadata": {},
   "source": [
    "---\n",
    "### Retrieving data (2nd round)\n",
    "\n",
    "Necessary keyword arguments: {}\n",
    "\n",
    "***Result:*** \n",
    "The chosen [data](https://s5phub.copernicus.eu/dhus/odata/v1/Products('93ea5d16-84dc-4d42-bd77-9fa7120376e4')/$value) was narrowed down with search query "
   ]
  },
  {
   "cell_type": "code",
   "execution_count": null,
   "metadata": {},
   "outputs": [],
   "source": []
  },
  {
   "attachments": {},
   "cell_type": "markdown",
   "metadata": {},
   "source": [
    "---\n",
    "## Following beginnner's guide for sentinel sentinel hub\n",
    "\n",
    "### **NOTE: this code won't be used as copernicus open data hub and sentinelsat python library will be used as per client's suggestion**"
   ]
  },
  {
   "cell_type": "code",
   "execution_count": null,
   "metadata": {},
   "outputs": [
    {
     "ename": "ModuleNotFoundError",
     "evalue": "No module named 'oauthlib'",
     "output_type": "error",
     "traceback": [
      "\u001b[1;31m---------------------------------------------------------------------------\u001b[0m",
      "\u001b[1;31mModuleNotFoundError\u001b[0m                       Traceback (most recent call last)",
      "Cell \u001b[1;32mIn[1], line 1\u001b[0m\n\u001b[1;32m----> 1\u001b[0m \u001b[39mfrom\u001b[39;00m \u001b[39moauthlib\u001b[39;00m\u001b[39m.\u001b[39;00m\u001b[39moauth2\u001b[39;00m \u001b[39mimport\u001b[39;00m BackendApplicationClient\n\u001b[0;32m      2\u001b[0m \u001b[39mfrom\u001b[39;00m \u001b[39mrequests_oauthlib\u001b[39;00m \u001b[39mimport\u001b[39;00m OAuth2Session\n\u001b[0;32m      3\u001b[0m \u001b[39mfrom\u001b[39;00m \u001b[39mPIL\u001b[39;00m \u001b[39mimport\u001b[39;00m Image\n",
      "\u001b[1;31mModuleNotFoundError\u001b[0m: No module named 'oauthlib'"
     ]
    }
   ],
   "source": [
    "from oauthlib.oauth2 import BackendApplicationClient\n",
    "from requests_oauthlib import OAuth2Session\n",
    "from PIL import Image\n",
    "import io\n",
    "import numpy as np\n",
    "import matplotlib.pyplot as plt\n",
    "\n",
    "CLIENT_ID = \"3a8e596f-4e0d-47b5-8497-0f19cebc482f\"\n",
    "CLIENT_SECRET = \"Fr2zIcdT%!Agy!?>j&K+#CZz,V]iq^Mj*sAyaQnE\"\n",
    "\n",
    "# set up credentials\n",
    "client = BackendApplicationClient(client_id=CLIENT_ID)\n",
    "oauth = OAuth2Session(client=client)\n",
    "\n",
    "# get an authentication token\n",
    "token = oauth.fetch_token(token_url='https://services.sentinel-hub.com/oauth/token',\n",
    "                          client_id=CLIENT_ID, client_secret=CLIENT_SECRET)\n",
    "\n",
    "bbox = [-87.72171, 17.11848, -87.342682, 17.481674]\n",
    "start_date = \"2020-06-01\"\n",
    "end_date = \"2020-08-31\"\n",
    "collection_id = \"sentinel-2-l2a\"\n",
    "\n",
    "evalscript = \"\"\"\n",
    "//VERSION=3\n",
    "function setup() {\n",
    "  return {\n",
    "    input: [\"B02\", \"B03\", \"B04\"],\n",
    "    output: { \n",
    "      bands: 3, \n",
    "      sampleType: \"AUTO\" // default value - scales the output values from [0,1] to [0,255].\n",
    "    }\n",
    "  }\n",
    "}\n",
    "\n",
    "function evaluatePixel(sample) {\n",
    "  return [2.5 * sample.B04, 2.5 * sample.B03, 2.5 * sample.B02]\n",
    "}\n",
    "\"\"\"\n",
    "\n",
    "json_request = {\n",
    "    'input': {\n",
    "        'bounds': {\n",
    "            'bbox': bbox,\n",
    "            'properties': {\n",
    "                'crs': 'http://www.opengis.net/def/crs/OGC/1.3/CRS84'\n",
    "            }\n",
    "        },\n",
    "        'data': [\n",
    "            {\n",
    "                'type': 'S2L2A',\n",
    "                'dataFilter': {\n",
    "                    'timeRange': {\n",
    "                        'from': f'{start_date}T00:00:00Z',\n",
    "                        'to': f'{end_date}T23:59:59Z'\n",
    "                    },\n",
    "                    'mosaickingOrder': 'leastCC',\n",
    "                },\n",
    "            }\n",
    "        ]\n",
    "    },\n",
    "    'output': {\n",
    "        'width': 1024,\n",
    "        'height': 1024,\n",
    "        'responses': [\n",
    "            {\n",
    "                'identifier': 'default',\n",
    "                'format': {\n",
    "                    'type': 'image/jpeg',\n",
    "                }\n",
    "            }\n",
    "        ]\n",
    "    },\n",
    "\"evalscript\": evalscript\n",
    "}\n",
    "\n",
    "# Set the request url and headers\n",
    "url_request = 'https://services.sentinel-hub.com/api/v1/process'\n",
    "headers_request = {\n",
    "    \"Authorization\" : \"Bearer %s\" %token['access_token']\n",
    "}\n",
    "\n",
    "#Send the request\n",
    "response = oauth.request(\n",
    "    \"POST\", url_request, headers=headers_request, json = json_request\n",
    ")\n",
    "\n",
    "# read the image as numpy array\n",
    "image_arr = np.array(Image.open(io.BytesIO(response.content)))\n",
    "\n",
    "# plot the image for visualization\n",
    "plt.figure(figsize=(16,16))\n",
    "plt.axis('off')\n",
    "plt.tight_layout()\n",
    "plt.imshow(image_arr)"
   ]
  },
  {
   "cell_type": "code",
   "execution_count": null,
   "metadata": {},
   "outputs": [],
   "source": []
  }
 ],
 "metadata": {
  "kernelspec": {
   "display_name": "Python 3",
   "language": "python",
   "name": "python3"
  },
  "language_info": {
   "codemirror_mode": {
    "name": "ipython",
    "version": 3
   },
   "file_extension": ".py",
   "mimetype": "text/x-python",
   "name": "python",
   "nbconvert_exporter": "python",
   "pygments_lexer": "ipython3",
   "version": "3.11.2"
  },
  "orig_nbformat": 4
 },
 "nbformat": 4,
 "nbformat_minor": 2
}
