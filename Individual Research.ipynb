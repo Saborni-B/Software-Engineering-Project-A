{
 "cells": [
  {
   "attachments": {},
   "cell_type": "markdown",
   "metadata": {},
   "source": [
    "### Generating Sentinel-2 Data\n",
    "\n",
    "To produce images of the following locations:\n",
    "- Swinburne Uni\n",
    "- Melbourne CBD\n",
    "- Phillip Island\n",
    "---"
   ]
  },
  {
   "attachments": {},
   "cell_type": "markdown",
   "metadata": {},
   "source": [
    "#### Steps to produce images\n",
    "1. Determine coordinates or multipolygon of above locations\n",
    "2. Determine RGB bands for visualising a clear image \n",
    "3. Query image\n",
    "---"
   ]
  },
  {
   "attachments": {},
   "cell_type": "markdown",
   "metadata": {},
   "source": [
    "#### Step 1 - Determine coordinates or multipolygon of above locations\n",
    "---"
   ]
  },
  {
   "cell_type": "code",
   "execution_count": null,
   "metadata": {},
   "outputs": [],
   "source": [
    "# connect to the API\n",
    "from sentinelsat import SentinelAPI, read_geojson, geojson_to_wkt\n",
    "from datetime import date\n",
    "\n",
    "\"\"\"\n",
    "username: \"zach789\"\n",
    "pwd: \"cKw!v9wKijgw57Q\"\n",
    "api_url = \"https://apihub.copernicus.eu/apihub\"\n",
    "\n",
    "show_progressbars & timeout is optional\n",
    "\"\"\"\n",
    "api = SentinelAPI(\"zach789\", \"cKw!v9wKijgw57Q\", \"https://apihub.copernicus.eu/apihub\", show_progressbars=True, timeout=60)\n",
    "\n",
    "# Search product ID using OpenSearch\n",
    "data_date = date=(date(2020, 5, 7), date(2023, 5, 20))\n",
    "product_type = \"L2__CH4___\"\n",
    "kw = {\n",
    "    \"platformname\": \"Sentinel-2\"\n",
    "}\n",
    "\n",
    "# Query data\n",
    "result = api.query(date=data_date, producttype=product_type, **kw) # important: producttype='L2__CH4___'\n",
    "\n",
    "\n",
    "# Testing with result's structure\n",
    "# print(result) # (product ID, product attribute) ordered dictionary value\n",
    "\n"
   ]
  },
  {
   "attachments": {},
   "cell_type": "markdown",
   "metadata": {},
   "source": [
    "---\n",
    "### Retrieving data\n",
    "The cell below is to explore how to search and download a particular product. The [product](https://s5phub.copernicus.eu/dhus/odata/v1/Products('93ea5d16-84dc-4d42-bd77-9fa7120376e4')/$value) is one of many S5P datasets in the [S5P Pre-Ops Data Hub](https://s5phub.copernicus.eu/dhus/#/home).\n",
    "\n",
    "The attributes of the product are picked to test out the funcitonality of the sentinelsat library and OpenSearch API\n",
    "\n",
    "***Result:*** \n",
    "The [product](https://s5phub.copernicus.eu/dhus/odata/v1/Products('93ea5d16-84dc-4d42-bd77-9fa7120376e4')/$value) was narrowed down and found with search query \n",
    "\n",
    "***TODO:*** \n",
    "Determine the appropriate keyword arguments necessary for querying based on user input"
   ]
  },
  {
   "cell_type": "code",
   "execution_count": null,
   "metadata": {},
   "outputs": [],
   "source": [
    "# connect to the API\n",
    "from sentinelsat import SentinelAPI, read_geojson, geojson_to_wkt\n",
    "from datetime import date\n",
    "\n",
    "\"\"\"\n",
    "username & pwd: \"s5pguest\"\n",
    "api_url = \"https://s5phub.copernicus.eu/dhus\"\n",
    "\n",
    "show_progressbars & timeout is optional\n",
    "\"\"\"\n",
    "api = SentinelAPI(\"s5pguest\", \"s5pguest\", \"https://s5phub.copernicus.eu/dhus\", show_progressbars=True,timeout=60)\n",
    "\n",
    "# Search product ID using OpenSearch\n",
    "data_date = date=(date(2020, 5, 7), date(2023, 5, 20))\n",
    "product_type = \"L2__CH4___\"\n",
    "kw = {\n",
    "    \"orbitnumber\": 28925\n",
    "}\n",
    "\n",
    "# Query data\n",
    "result = api.query(date=data_date, producttype=product_type, **kw) # important: producttype='L2__CH4___'\n",
    "\n",
    "\n",
    "# Testing with result's structure\n",
    "# print(result) # (product ID, product attribute) ordered dictionary value\n",
    "\n"
   ]
  },
  {
   "cell_type": "code",
   "execution_count": null,
   "metadata": {},
   "outputs": [],
   "source": [
    "# Get product id\n",
    "# For easy access to the ordered dictionary value, use next(iter(result)) where \n",
    "# iter is an iterator and next returns the next value in the iterator\n",
    "result_iter = next(iter(result))\n",
    "product_id = result_iter\n",
    "\n",
    "# for attribute in result[product_id]:\n",
    "#     print(attribute)\n",
    "\n",
    "# download data\n",
    "# download_dir = 'C:\\Users\\Joshua\\OneDrive - Swinburne University\\Swinburne\\SWE40001\\Software-Engineering-Project-A\\Download Results'\n",
    "# api.download(product_id, download_dir)"
   ]
  },
  {
   "attachments": {},
   "cell_type": "markdown",
   "metadata": {},
   "source": [
    "### Test conversion to dataframe, geodataframe and geojson as well as plot"
   ]
  },
  {
   "cell_type": "code",
   "execution_count": null,
   "metadata": {},
   "outputs": [],
   "source": [
    "# Not used atm\n",
    "import geopandas as gpd\n",
    "import numpy as np\n",
    "\n",
    "result_df = api.to_dataframe(result)\n",
    "result_geojson = api.to_geojson(result)\n",
    "result_gdf = api.to_geodataframe(result)\n",
    "\n",
    "# Establish legend keywords for legend details\n",
    "legend_keyw = {\"label\": \"Methane concentration data for orbit 28925\", \"orientation\": \"vertical\"}\n",
    "\n",
    "# Checking the types of metadata stored in the result\n",
    "# print(result_gdf.head())\n",
    "\n",
    "# Plot the data\n",
    "print(result_gdf.plot(legend=True, legend_kwds=legend_keyw))\n",
    "\n"
   ]
  }
 ],
 "metadata": {
  "kernelspec": {
   "display_name": "Python 3",
   "language": "python",
   "name": "python3"
  },
  "language_info": {
   "codemirror_mode": {
    "name": "ipython",
    "version": 3
   },
   "file_extension": ".py",
   "mimetype": "text/x-python",
   "name": "python",
   "nbconvert_exporter": "python",
   "pygments_lexer": "ipython3",
   "version": "3.11.2"
  },
  "orig_nbformat": 4
 },
 "nbformat": 4,
 "nbformat_minor": 2
}
