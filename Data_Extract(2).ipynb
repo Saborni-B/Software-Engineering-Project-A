{
 "cells": [
  {
   "cell_type": "code",
   "execution_count": 1,
   "metadata": {},
   "outputs": [
    {
     "ename": "ModuleNotFoundError",
     "evalue": "No module named 'pandas'",
     "output_type": "error",
     "traceback": [
      "\u001b[1;31m---------------------------------------------------------------------------\u001b[0m",
      "\u001b[1;31mModuleNotFoundError\u001b[0m                       Traceback (most recent call last)",
      "Cell \u001b[1;32mIn[1], line 2\u001b[0m\n\u001b[0;32m      1\u001b[0m \u001b[39mimport\u001b[39;00m \u001b[39mrequests\u001b[39;00m\n\u001b[1;32m----> 2\u001b[0m \u001b[39mimport\u001b[39;00m \u001b[39mpandas\u001b[39;00m \u001b[39mas\u001b[39;00m \u001b[39mpd\u001b[39;00m\n\u001b[0;32m      4\u001b[0m \u001b[39m# Specify the URL endpoint for the Copernicus Open Access Hub API\u001b[39;00m\n\u001b[0;32m      5\u001b[0m url \u001b[39m=\u001b[39m \u001b[39m\"\u001b[39m\u001b[39mhttps://scihub.copernicus.eu/dhus/api/stub/products\u001b[39m\u001b[39m\"\u001b[39m\n",
      "\u001b[1;31mModuleNotFoundError\u001b[0m: No module named 'pandas'"
     ]
    }
   ],
   "source": [
    "import requests\n",
    "import pandas as pd\n",
    "\n",
    "# Specify the URL endpoint for the Copernicus Open Access Hub API\n",
    "url = \"https://scihub.copernicus.eu/dhus/api/stub/products\"\n",
    "\n",
    "# Set your Copernicus Open Access Hub username and password\n",
    "username = \"s5pguest\"\n",
    "password = \"s5pguest\"\n",
    "\n",
    "# Define the search parameters for methane data\n",
    "search_params = {\n",
    "    \"q\": \"producttype:S5P_L2__CH4___\",\n",
    "    \"start\": 0,\n",
    "    \"rows\": 100,\n",
    "    \"format\": \"json\"\n",
    "}\n",
    "\n",
    "# Send an HTTP GET request to retrieve the metadata of methane products\n",
    "response = requests.get(url, auth=(\"s5pguest\", \"s5pguest\"), params=search_params)\n",
    "\n",
    "# Check if the request was successful\n",
    "if response.status_code == 200:\n",
    "    # Extract the JSON data from the response\n",
    "    data = response.json()\n",
    "\n",
    "    # Extract relevant information from the JSON data and create a DataFrame\n",
    "    products = data[\"products\"]\n",
    "    df = pd.DataFrame(products)\n",
    "    \n",
    "    # Extract the download URLs for methane products\n",
    "    download_urls = df[\"link\"].apply(lambda x: x[0][\"href\"])\n",
    "    \n",
    "    # Loop through the download URLs and download the data\n",
    "    for download_url in download_urls:\n",
    "        # Send an HTTP GET request to download the data file\n",
    "        download_response = requests.get(download_url, auth=(\"s5pguest\", \"s5pguest\"))\n",
    "        \n",
    "        # Check if the download request was successful\n",
    "        if download_response.status_code == 200:\n",
    "            # Save the downloaded file\n",
    "            file_name = download_url.split(\"/\")[-1]\n",
    "            with open(file_name, \"wb\") as f:\n",
    "                f.write(download_response.content)\n",
    "                \n",
    "            print(f\"Downloaded: {file_name}\")\n",
    "        else:\n",
    "            print(f\"Failed to download: {download_url}\")\n",
    "else:\n",
    "    print(\"Failed to retrieve methane data metadata.\")\n"
   ]
  }
 ],
 "metadata": {
  "kernelspec": {
   "display_name": "Python 3",
   "language": "python",
   "name": "python3"
  },
  "language_info": {
   "codemirror_mode": {
    "name": "ipython",
    "version": 3
   },
   "file_extension": ".py",
   "mimetype": "text/x-python",
   "name": "python",
   "nbconvert_exporter": "python",
   "pygments_lexer": "ipython3",
   "version": "3.11.2"
  },
  "orig_nbformat": 4
 },
 "nbformat": 4,
 "nbformat_minor": 2
}
