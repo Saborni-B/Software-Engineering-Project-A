{
 "cells": [
  {
   "cell_type": "code",
   "execution_count": null,
   "metadata": {},
   "outputs": [],
   "source": [
    "import geopandas\n",
    "from geodatasets import get_path\n",
    "\n",
    "#Reading files\n",
    "path_to_data = \"C:\\Users\\jenni\\Desktop\\Study\\2023\\sem1\\Software Engineering project A\\Coding\\Panda\\STE_2021_AUST_SHP_GDA2020\"\n",
    "gdf = geopandas.read_file(path_to_data)\n",
    "\n",
    "gdf "
   ]
  }
 ],
 "metadata": {
  "language_info": {
   "name": "python"
  },
  "orig_nbformat": 4
 },
 "nbformat": 4,
 "nbformat_minor": 2
}
