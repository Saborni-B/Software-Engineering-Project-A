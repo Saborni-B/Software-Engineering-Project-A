{
 "cells": [
  {
   "cell_type": "code",
   "execution_count": null,
   "metadata": {},
   "outputs": [],
   "source": [
    "#longitude = 79.109\n",
    "#latitude = 22.746\n",
    "#geometry = [-37.822978, 145.037186, -37.821866, 145.038841]\n",
    "\n",
    "#GeoJSON - East Melbourne (square)\n",
    "geometry = {\n",
    "    \"type\": \"Polygon\",\n",
    "    \"coordinates\": [    \\\n",
    "        [\n",
    "            [-37.7528,145.096],\n",
    "            [-37.75415,144.85276],\n",
    "            [-37.92253,144.84092],\n",
    "            [-37.92551,145.09532],\n",
    "            [-37.7528,145.096],\n",
    "        ]\n",
    "    ],\n",
    "}\n"
   ]
  },
  {
   "cell_type": "code",
   "execution_count": null,
   "metadata": {},
   "outputs": [],
   "source": [
    "#The acceptable formats are dd mm YYYYY, YYYY mm dd, dd-mm-YYYY, YYYY-mm-dd, dd/mm/YYYY, YYYY/mm/dd\n",
    "input_sdate = \"20/Aug/2023\"\n",
    "#input_sdate = \"20/08/2023\"\n",
    "input_edate = \"Hello\"\n",
    "#input_edate = \"2023-08-25\""
   ]
  },
  {
   "cell_type": "code",
   "execution_count": null,
   "metadata": {},
   "outputs": [],
   "source": [
    "# Function to convert date format \n",
    "def convert_format_date(input_date):\n",
    "    correct_formats = [\"%d %m %Y\", \"%Y %m %d\", \"%d/%m/%Y\", \"%Y/%m/%d\", \"%d-%m-%Y\", \"%Y-%m-%d\"]\n",
    "    \n",
    "    for format_str in correct_formats:\n",
    "        try:\n",
    "            date_obj = datetime.strptime(input_date, format_str)\n",
    "            formatted_date = date_obj.strftime(\"%Y-%m-%d\")\n",
    "            return formatted_date\n",
    "        except ValueError:\n",
    "            pass\n",
    "    \n",
    "    raise ValueError(\"Invalid data format\")\n",
    "\n",
    "# Convert user start date format\n",
    "try:\n",
    "    input_sdate = convert_format_date(input_sdate)\n",
    "except ValueError:\n",
    "    print(\"Invalid start date format. Please check the acceptable formats\")\n",
    "            \n",
    "# Convert user end date format\n",
    "try:\n",
    "    input_edate = convert_format_date(input_edate)\n",
    "except ValueError:\n",
    "    print(\"Invalid end date format. Please check the acceptable formats\")\n",
    "\n",
    "date_period = input_sdate + \"/\" + input_edate \n",
    "print(date_period)\n"
   ]
  }
 ],
 "metadata": {
  "kernelspec": {
   "display_name": "Python 3 (ipykernel)",
   "language": "python",
   "name": "python3"
  },
  "language_info": {
   "codemirror_mode": {
    "name": "ipython",
    "version": 3
   },
   "file_extension": ".py",
   "mimetype": "text/x-python",
   "name": "python",
   "nbconvert_exporter": "python",
   "pygments_lexer": "ipython3",
   "version": "3.10.9"
  },
  "orig_nbformat": 4
 },
 "nbformat": 4,
 "nbformat_minor": 2
}
