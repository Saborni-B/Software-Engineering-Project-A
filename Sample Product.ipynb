{
 "cells": [
  {
   "attachments": {},
   "cell_type": "markdown",
   "metadata": {},
   "source": [
    "User Input\n",
    "\n",
    "- Location \n",
    "    - Long\n",
    "    - Lat\n",
    "    \n",
    "- Time Period\n",
    "    - yyyyMMdd"
   ]
  },
  {
   "cell_type": "code",
   "execution_count": null,
   "metadata": {},
   "outputs": [],
   "source": [
    "from IPython.display import clear_output\n",
    "\n",
    "class UserMenu:\n",
    "    \"\"\"\n",
    "    User menu interface for providing input.\n",
    "    \"\"\"\n",
    "    menu =\"\"\"\n",
    "    \n",
    "    \"\"\"\n",
    "\n",
    "    print(\"If you would like to  \")\n",
    "\n",
    "    location = input(\"Please \")\n",
    "\n",
    "    time_period = input()"
   ]
  }
 ],
 "metadata": {
  "kernelspec": {
   "display_name": "Python 3",
   "language": "python",
   "name": "python3"
  },
  "language_info": {
   "name": "python",
   "version": "3.11.2"
  },
  "orig_nbformat": 4
 },
 "nbformat": 4,
 "nbformat_minor": 2
}
