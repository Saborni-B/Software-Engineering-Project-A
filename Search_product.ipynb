{
 "cells": [
  {
   "cell_type": "markdown",
   "metadata": {},
   "source": [
    "## Search for product"
   ]
  },
  {
   "cell_type": "code",
   "execution_count": null,
   "metadata": {},
   "outputs": [],
   "source": [
    "%matplotlib inline\n",
    "import matplotlib.pyplot as plt\n",
    "import netCDF4 as nc4\n",
    "import xarray as xr\n",
    "import fsspec\n",
    "import numpy as np\n",
    "import xarray as xr\n",
    "import planetary_computer\n",
    "import pystac_client\n",
    "import geopandas as gpd\n",
    "import pandas as pd\n",
    "import cartopy.crs as ccrs\n",
    "import matplotlib\n",
    "import matplotlib.pyplot as plt\n",
    "from datetime import datetime, time\n",
    "import json"
   ]
  },
  {
   "cell_type": "code",
   "execution_count": 28,
   "metadata": {},
   "outputs": [],
   "source": [
    "# Initialize PySTAC client for data query\n",
    "planetary_computer.set_subscription_key(\"c27669c4bdec434d804e2bd738cb16fc\")\n",
    "catalog = pystac_client.Client.open(\n",
    "    \"https://planetarycomputer.microsoft.com/api/stac/v1\",\n",
    "    modifier=planetary_computer.sign_inplace,\n",
    ")"
   ]
  },
  {
   "cell_type": "code",
   "execution_count": 39,
   "metadata": {},
   "outputs": [],
   "source": [
    "#The acceptable formats are dd mm YYYYY, YYYY mm dd, dd-mm-YYYY, YYYY-mm-dd, dd/mm/YYYY, YYYY/mm/dd\n",
    "start_date = \"2023 08 20\"\n",
    "end_date = \"25 08 2023\"\n",
    "\n",
    "#Insert bbox or country name\n",
    "#Region = \"New Zealand\"\n",
    "#Region = \"Australia\"\n",
    "Region = [174.563615, -36.893762, 174.860246, -36.717901] #Auckland NZ\n",
    "#Region = [-180, -90, 180, 90]"
   ]
  },
  {
   "cell_type": "markdown",
   "metadata": {},
   "source": [
    "Date"
   ]
  },
  {
   "cell_type": "code",
   "execution_count": 26,
   "metadata": {},
   "outputs": [
    {
     "name": "stdout",
     "output_type": "stream",
     "text": [
      "2023-08-20/2023-08-25\n"
     ]
    }
   ],
   "source": [
    "# Function to convert date format \n",
    "def convert_format_date(input_date):\n",
    "    correct_formats = [\"%d %m %Y\", \"%Y %m %d\", \"%d/%m/%Y\", \"%Y/%m/%d\", \"%d-%m-%Y\", \"%Y-%m-%d\"]\n",
    "    \n",
    "    for format_str in correct_formats:\n",
    "        try:\n",
    "            date_obj = datetime.strptime(input_date, format_str)\n",
    "            formatted_date = date_obj.strftime(\"%Y-%m-%d\")\n",
    "            return formatted_date\n",
    "        except ValueError: # Raised if input format is not compatible with set standard \n",
    "            pass\n",
    "    \n",
    "    raise ValueError(\"Invalid data format\")\n",
    "\n",
    "# Convert user start date format\n",
    "try:\n",
    "    start_date = convert_format_date(start_date)\n",
    "except ValueError:\n",
    "    print(\"Invalid start date format. Please check the acceptable formats\")\n",
    "            \n",
    "# Convert user end date format\n",
    "try:\n",
    "    end_date = convert_format_date(end_date)\n",
    "except ValueError:\n",
    "    print(\"Invalid end date format. Please check the acceptable formats\")\n",
    "\n",
    "date_period = start_date + \"/\" + end_date \n",
    "print(date_period)"
   ]
  },
  {
   "cell_type": "code",
   "execution_count": 40,
   "metadata": {},
   "outputs": [
    {
     "name": "stderr",
     "output_type": "stream",
     "text": [
      "C:\\Users\\jenni\\AppData\\Local\\Temp\\ipykernel_26720\\766764763.py:2: FutureWarning: The geopandas.dataset module is deprecated and will be removed in GeoPandas 1.0. You can get the original 'naturalearth_lowres' data from https://www.naturalearthdata.com/downloads/110m-cultural-vectors/.\n",
      "  world = gpd.read_file(gpd.datasets.get_path('naturalearth_lowres'))\n"
     ]
    },
    {
     "name": "stdout",
     "output_type": "stream",
     "text": [
      "Number of items for input: 8\n"
     ]
    }
   ],
   "source": [
    "# Get geopandas in-built naturalearth_lowres dataset\n",
    "world = gpd.read_file(gpd.datasets.get_path('naturalearth_lowres'))\n",
    "\n",
    "# Function to search the product by bbox and country\n",
    "def search_catalog(Region, date_period):\n",
    "    search_params = {\n",
    "        \"collections\": \"sentinel-5p-l2-netcdf\",\n",
    "        \"datetime\": date_period,\n",
    "        \"query\": {\"s5p:processing_mode\": {\"eq\": \"OFFL\"}, \"s5p:product_name\": {\"eq\": \"ch4\"}},\n",
    "    }\n",
    "\n",
    "    #bbox input\n",
    "    if isinstance(Region, list) and len(Region) == 4:\n",
    "        #-180 to 180 for longitudes, -90 to 90 for latitudes\n",
    "        if all(-180 <= coordinates <= 180 for coordinates in [Region[0], Region[2]]) and all(-90 <= coordinates <= 90 for coordinates in [Region[1],Region[3]]):\n",
    "            search_params[\"bbox\"] = Region\n",
    "        else:\n",
    "            raise ValueError(\"Invalid coordinates in bbox\")\n",
    "        \n",
    "    else:\n",
    "        # country input\n",
    "        # Extract coordinates of specified country and load into a JSON object\n",
    "        ROI = world[world[\"name\"] == Region]\n",
    "        gjson = json.loads(ROI.to_json())\n",
    "        # Create a MultiPolygon GeoJSON structure\n",
    "        coordinates = gjson[\"features\"][0][\"geometry\"][\"coordinates\"]\n",
    "        if gjson[\"features\"][0][\"geometry\"][\"type\"] == \"Polygon\": \n",
    "            coordinates = [coordinates]  \n",
    "            # Convert to MultiPolygon\n",
    "        search_params[\"intersects\"] = {\n",
    "            \"type\": \"MultiPolygon\", \n",
    "            \"coordinates\": coordinates,\n",
    "        }\n",
    "\n",
    "    search = catalog.search(**search_params)\n",
    "    item = search.item_collection()\n",
    "\n",
    "    return item\n",
    "\n",
    "# Use search_catalog function with a single variable \"Image\" for both bbox and country\n",
    "result = search_catalog(Region=Region, date_period=date_period)\n",
    "\n",
    "# Print the result\n",
    "print(f\"Number of items for input: {len(result)}\")"
   ]
  }
 ],
 "metadata": {
  "kernelspec": {
   "display_name": "base",
   "language": "python",
   "name": "python3"
  },
  "language_info": {
   "codemirror_mode": {
    "name": "ipython",
    "version": 3
   },
   "file_extension": ".py",
   "mimetype": "text/x-python",
   "name": "python",
   "nbconvert_exporter": "python",
   "pygments_lexer": "ipython3",
   "version": "3.10.9"
  }
 },
 "nbformat": 4,
 "nbformat_minor": 2
}
