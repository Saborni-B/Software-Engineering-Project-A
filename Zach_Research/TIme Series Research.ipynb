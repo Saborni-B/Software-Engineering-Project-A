{
 "cells": [
  {
   "cell_type": "markdown",
   "metadata": {},
   "source": [
    "### Time Series \n",
    "\n",
    "Goal:\n",
    "- Plot the changes of methane concentration over a period of time for a given area (ROI)\n",
    "\n",
    "Variables to be used: \n",
    "- **Methane (CH4) Concentration Data**: The concentration data that is collected by the Sentinel-5P satellite and hosted by Microsoft Planetary Computer\n",
    "- **Date period**: Date period as specified by the user (Minimum one day)\n",
    "\n",
    "---"
   ]
  },
  {
   "cell_type": "markdown",
   "metadata": {},
   "source": [
    "### Setting up environment"
   ]
  },
  {
   "cell_type": "code",
   "execution_count": null,
   "metadata": {},
   "outputs": [],
   "source": [
    "import matplotlib.pyplot as plt\n",
    "import netCDF4 as nc4\n",
    "import xarray as xr\n",
    "import fsspec\n",
    "import numpy as np\n",
    "import xarray as xr\n",
    "import planetary_computer\n",
    "import pystac_client\n",
    "import geopandas as gpd\n",
    "import pandas as pd"
   ]
  },
  {
   "cell_type": "code",
   "execution_count": null,
   "metadata": {},
   "outputs": [],
   "source": [
    "# Initialize PySTAC client for data query\n",
    "planetary_computer.set_subscription_key(\"c27669c4bdec434d804e2bd738cb16fc\")\n",
    "catalog = pystac_client.Client.open(\n",
    "    \"https://planetarycomputer.microsoft.com/api/stac/v1\",\n",
    "    modifier=planetary_computer.sign_inplace,\n",
    ")"
   ]
  },
  {
   "cell_type": "markdown",
   "metadata": {},
   "source": [
    "---\n",
    "\n",
    "### Determining appropriate data to display"
   ]
  },
  {
   "cell_type": "markdown",
   "metadata": {},
   "source": [
    "Characteristics of the plot:\n",
    "1. Each point of data is the total average concentration of the ROI per interval\n",
    "2. The ROI is constant\n",
    "\n",
    "---\n",
    "\n",
    "To get the total average concentration of the ROI per interval, it will need to:\n",
    "1. Select all relevant datasets within an interval \n",
    "2. Calculate the average concentration for each datasets\n",
    "3. Calculate the total average concentration for all datasets by averaging all concentration values out\n",
    "\n",
    "---"
   ]
  },
  {
   "cell_type": "markdown",
   "metadata": {},
   "source": [
    "#### Query data\n",
    "\n",
    "For the following code, we will query data with the following properties:\n",
    "\n",
    "1. Bounding Box (bbox):[112.70505, -44.52755, 154.38241, -11.29524] (Australia)\n",
    "2. Collections: Sentinel 5P Level 2A\n",
    "3. Date time: 01/08/2023 - 01/09/2023\n",
    "4. S5P Processing Mode: Offline\n",
    "5. S5P Product Name: ch4 (Methane)"
   ]
  },
  {
   "cell_type": "code",
   "execution_count": null,
   "metadata": {},
   "outputs": [],
   "source": [
    "aus_bbox = [112.70505, -44.52755, 154.38241, -11.29524]\n",
    "\n",
    "search = catalog.search(\n",
    "    collections=\"sentinel-5p-l2-netcdf\",\n",
    "    bbox = aus_bbox,\n",
    "    datetime=\"2023-08-01/2023-09-01\",\n",
    "    query={\"s5p:processing_mode\": {\"eq\": \"OFFL\"}, \"s5p:product_name\": {\"eq\": \"ch4\"}},\n",
    ")\n",
    "items = search.item_collection()\n",
    "\n",
    "print(len(items))"
   ]
  },
  {
   "cell_type": "markdown",
   "metadata": {},
   "source": [
    "#### Select all relevant datasets within an interval "
   ]
  },
  {
   "cell_type": "code",
   "execution_count": null,
   "metadata": {},
   "outputs": [],
   "source": [
    "item_links = [item.assets['ch4'].href for item in items]\n",
    "item_links\n",
    "\n",
    "f = fsspec.open_files(item_links)\n",
    "f = [file.open() for file in f]\n"
   ]
  },
  {
   "cell_type": "code",
   "execution_count": null,
   "metadata": {},
   "outputs": [],
   "source": [
    "ds = xr.open_mfdataset(f, group=\"PRODUCT\", engine=\"h5netcdf\", concat_dim='t', combine='nested') \n",
    "ds"
   ]
  },
  {
   "cell_type": "markdown",
   "metadata": {},
   "source": [
    "#### Calculate average concentration per datasets"
   ]
  },
  {
   "cell_type": "code",
   "execution_count": null,
   "metadata": {},
   "outputs": [],
   "source": [
    "ds[\"methane_mixing_ratio_bias_corrected\"].plot()"
   ]
  },
  {
   "cell_type": "code",
   "execution_count": null,
   "metadata": {},
   "outputs": [],
   "source": [
    "# Create a scatterplot with color mapping\n",
    "plt.figure(figsize=(15, 15))\n",
    "plt.scatter(\n",
    "    lon,\n",
    "    lat,\n",
    "    c=combined_methane_data,\n",
    "    cmap=\"viridis\",\n",
    "    vmin=vmin,\n",
    "    vmax=vmax,marker=\".\",\n",
    "    s=1,\n",
    ")\n",
    "\n",
    "plt.title(\"Methane Concentration Scatterplot\")\n",
    "plt.xlabel(\"Longitude\")\n",
    "plt.ylabel(\"Latitude\")\n",
    "plt.grid(True)\n",
    "plt.show()\n"
   ]
  },
  {
   "cell_type": "markdown",
   "metadata": {},
   "source": [
    "#### Calculate total average concentration "
   ]
  },
  {
   "cell_type": "code",
   "execution_count": null,
   "metadata": {},
   "outputs": [],
   "source": []
  },
  {
   "cell_type": "markdown",
   "metadata": {},
   "source": [
    "### 1. Set up variables"
   ]
  },
  {
   "cell_type": "markdown",
   "metadata": {},
   "source": [
    "|Date Period\n",
    "---\n",
    "\n",
    "**Data type**: String\n",
    "\n",
    "**Format**: \"dd/mm/yyyy\""
   ]
  },
  {
   "cell_type": "code",
   "execution_count": null,
   "metadata": {},
   "outputs": [],
   "source": [
    "date_start = \"\"\n",
    "date_end = \"\""
   ]
  },
  {
   "cell_type": "markdown",
   "metadata": {},
   "source": [
    "|Methane Concentration Data\n",
    "---\n",
    "\n"
   ]
  },
  {
   "cell_type": "code",
   "execution_count": null,
   "metadata": {},
   "outputs": [],
   "source": [
    "nc_file1 = \"Download Results\\S5P_OFFL_L2__CH4____20230403T063304_20230403T081434_28345_03_020500_20230404T225423.nc\"\n",
    "nc_file2 = \"Download Results\\S5P_OFFL_L2__CH4____20230514T034638_20230514T052808_28925_03_020500_20230515T195331.nc\"\n",
    "file_header = nc4.Dataset(nc_file1, mode='r') # Create a file header containing the nc_file's metadata in read mode\n",
    "file_header.groups[\"PRODUCT\"]\n",
    "\n",
    "f1 = fsspec.open(nc_file1).open()\n",
    "f2 = fsspec.open(nc_file2).open()\n",
    "ds1 = xr.open_dataset(f1, group=\"PRODUCT\", engine=\"h5netcdf\")\n",
    "ds2 = xr.open_dataset(f2, group=\"PRODUCT\", engine=\"h5netcdf\")\n",
    "\n",
    "ds1\n",
    "ds2"
   ]
  },
  {
   "cell_type": "markdown",
   "metadata": {},
   "source": [
    "### 2. Plot data time series"
   ]
  },
  {
   "cell_type": "code",
   "execution_count": null,
   "metadata": {},
   "outputs": [],
   "source": [
    "\n"
   ]
  }
 ],
 "metadata": {
  "kernelspec": {
   "display_name": "Python 3 (ipykernel)",
   "language": "python",
   "name": "python3"
  },
  "language_info": {
   "codemirror_mode": {
    "name": "ipython",
    "version": 3
   },
   "file_extension": ".py",
   "mimetype": "text/x-python",
   "name": "python",
   "nbconvert_exporter": "python",
   "pygments_lexer": "ipython3",
   "version": "3.11.4"
  },
  "orig_nbformat": 4
 },
 "nbformat": 4,
 "nbformat_minor": 2
}
