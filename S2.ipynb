{
 "cells": [
  {
   "attachments": {},
   "cell_type": "markdown",
   "metadata": {},
   "source": [
    "Sentinel 2 data "
   ]
  },
  {
   "cell_type": "code",
   "execution_count": null,
   "metadata": {},
   "outputs": [],
   "source": [
    "pip install ee"
   ]
  },
  {
   "cell_type": "code",
   "execution_count": null,
   "metadata": {},
   "outputs": [],
   "source": [
    "pip install geemap"
   ]
  },
  {
   "cell_type": "code",
   "execution_count": null,
   "metadata": {},
   "outputs": [],
   "source": [
    "import ee\n",
    "ee.Authenticate()\n",
    "ee.Initialize()\n",
    "print(ee.Image(\"NASA/NASADEM_HGT/001\").get(\"title\").getInfo())"
   ]
  },
  {
   "cell_type": "code",
   "execution_count": 21,
   "metadata": {},
   "outputs": [],
   "source": [
    "import geemap"
   ]
  },
  {
   "cell_type": "code",
   "execution_count": 22,
   "metadata": {},
   "outputs": [
    {
     "data": {
      "text/html": [
       "<p>To authorize access needed by Earth Engine, open the following\n",
       "        URL in a web browser and follow the instructions:</p>\n",
       "        <p><a href=https://code.earthengine.google.com/client-auth?scopes=https%3A//www.googleapis.com/auth/earthengine%20https%3A//www.googleapis.com/auth/devstorage.full_control&request_id=biNbvL90gCGFBBFwMvoG7Ii5QEHXxIQaK_WKDcCdoPU&tc=debrwX2D7aObrEhoceyz1smOwKUu-HcPFBAP4-gUVgk&cc=Yji4XW5rAIfQjtRYa3gSpuRYCu8Fk7SofkoIm8NLjKA>https://code.earthengine.google.com/client-auth?scopes=https%3A//www.googleapis.com/auth/earthengine%20https%3A//www.googleapis.com/auth/devstorage.full_control&request_id=biNbvL90gCGFBBFwMvoG7Ii5QEHXxIQaK_WKDcCdoPU&tc=debrwX2D7aObrEhoceyz1smOwKUu-HcPFBAP4-gUVgk&cc=Yji4XW5rAIfQjtRYa3gSpuRYCu8Fk7SofkoIm8NLjKA</a></p>\n",
       "        <p>The authorization workflow will generate a code, which you should paste in the box below.</p>\n",
       "        "
      ],
      "text/plain": [
       "<IPython.core.display.HTML object>"
      ]
     },
     "metadata": {},
     "output_type": "display_data"
    }
   ],
   "source": [
    "Map=geemap.Map()\n",
    "Map"
   ]
  },
  {
   "cell_type": "code",
   "execution_count": 10,
   "metadata": {},
   "outputs": [
    {
     "name": "stdout",
     "output_type": "stream",
     "text": [
      "OrderedDict()\n"
     ]
    }
   ],
   "source": [
    "#connect to the Sentinel API\n",
    "from sentinelsat import SentinelAPI, read_geojson, geojson_to_wkt\n",
    "from datetime import date\n",
    "\n",
    "#user name, password & api url\n",
    "api = SentinelAPI(\"hmlai\", \"JD09240310.lhm\", 'https://apihub.copernicus.eu/apihub', show_progressbars= True, timeout = 60)\n",
    "\n",
    "#Search product Id\n",
    "data_date = date=('20230530', date(2023, 5, 30))\n",
    "product_type = \"S2MSI2A\"\n",
    "kw = {\n",
    "    #\"platformname\": \"Sentinel-2\"\n",
    "    \"orbitnumber\": 41441\n",
    "}\n",
    "\n",
    "#Query s2 data\n",
    "result = api.query(date=data_date, producttype=product_type, **kw)\n",
    "\n",
    "#Testing \n",
    "print(result)"
   ]
  },
  {
   "cell_type": "code",
   "execution_count": 14,
   "metadata": {},
   "outputs": [
    {
     "ename": "StopIteration",
     "evalue": "",
     "output_type": "error",
     "traceback": [
      "\u001b[1;31m---------------------------------------------------------------------------\u001b[0m",
      "\u001b[1;31mStopIteration\u001b[0m                             Traceback (most recent call last)",
      "Cell \u001b[1;32mIn[14], line 4\u001b[0m\n\u001b[0;32m      1\u001b[0m \u001b[39m# Get product id\u001b[39;00m\n\u001b[0;32m      2\u001b[0m \u001b[39m# For easy access to the ordered dictionary value, use next(iter(result)) where \u001b[39;00m\n\u001b[0;32m      3\u001b[0m \u001b[39m# iter is an iterator and next returns the next value in the iterator\u001b[39;00m\n\u001b[1;32m----> 4\u001b[0m result_iter \u001b[39m=\u001b[39m \u001b[39mnext\u001b[39;49m(\u001b[39miter\u001b[39;49m(result))\n\u001b[0;32m      5\u001b[0m product_id \u001b[39m=\u001b[39m result_iter\n",
      "\u001b[1;31mStopIteration\u001b[0m: "
     ]
    }
   ],
   "source": [
    "# Get product id\n",
    "# For easy access to the ordered dictionary value, use next(iter(result)) where \n",
    "# iter is an iterator and next returns the next value in the iterator\n",
    "result_iter = next(iter(result))\n",
    "product_id = result_iter\n",
    "\n",
    "# for attribute in result[product_id]:\n",
    "#     print(attribute)\n",
    "\n",
    "# download data\n",
    "#download_dir = \"C:\\\\Users\\\\jenni\\\\Desktop\\\\Study\\\\2023\\\\sem1\\\\Software Engineering project A\\\\Coding\"\n",
    "#api.download(product_id, download_dir)"
   ]
  },
  {
   "cell_type": "code",
   "execution_count": null,
   "metadata": {},
   "outputs": [],
   "source": [
    "import geopandas as gpd\n",
    "import numpy as np\n",
    "\n"
   ]
  }
 ],
 "metadata": {
  "kernelspec": {
   "display_name": "base",
   "language": "python",
   "name": "python3"
  },
  "language_info": {
   "codemirror_mode": {
    "name": "ipython",
    "version": 3
   },
   "file_extension": ".py",
   "mimetype": "text/x-python",
   "name": "python",
   "nbconvert_exporter": "python",
   "pygments_lexer": "ipython3",
   "version": "3.10.9"
  },
  "orig_nbformat": 4
 },
 "nbformat": 4,
 "nbformat_minor": 2
}
