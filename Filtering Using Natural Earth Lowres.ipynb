{
 "cells": [
  {
   "cell_type": "code",
   "execution_count": null,
   "metadata": {},
   "outputs": [],
   "source": []
  },
  {
   "cell_type": "markdown",
   "metadata": {},
   "source": [
    "reading the file"
   ]
  },
  {
   "cell_type": "code",
   "execution_count": 3,
   "metadata": {},
   "outputs": [],
   "source": [
    "import netCDF4 as nc4\n",
    "import geopandas as gpd\n",
    "import numpy as np\n",
    "import matplotlib.pyplot as plt\n",
    "from shapely.geometry import Point  \n",
    "\n",
    "\n",
    "# Load the NetCDF dataset\n",
    "Dataset = nc4.Dataset(r\"C:\\Users\\User\\Downloads\\S5P_OFFL_L2__CH4____20230514T034638_20230514T052808_28925_03_020500_20230515T195331.nc\")\n",
    "\n",
    "#print(Dataset)\n"
   ]
  },
  {
   "cell_type": "markdown",
   "metadata": {},
   "source": [
    "checks if the user provided lats and lons are in the natural earth lowres dataset or not"
   ]
  },
  {
   "cell_type": "code",
   "execution_count": 4,
   "metadata": {},
   "outputs": [
    {
     "name": "stderr",
     "output_type": "stream",
     "text": [
      "C:\\Users\\User\\AppData\\Local\\Temp\\ipykernel_13696\\4290075581.py:4: FutureWarning: The geopandas.dataset module is deprecated and will be removed in GeoPandas 1.0. You can get the original 'naturalearth_lowres' data from https://www.naturalearthdata.com/downloads/110m-cultural-vectors/.\n",
      "  world = gpd.read_file(gpd.datasets.get_path('naturalearth_lowres'))\n"
     ]
    },
    {
     "name": "stdout",
     "output_type": "stream",
     "text": [
      "Closest Country to Lat -25.73, Lon 134.5: Australia\n"
     ]
    },
    {
     "name": "stderr",
     "output_type": "stream",
     "text": [
      "C:\\Users\\User\\AppData\\Local\\Temp\\ipykernel_13696\\4290075581.py:7: UserWarning: Geometry is in a geographic CRS. Results from 'centroid' are likely incorrect. Use 'GeoSeries.to_crs()' to re-project geometries to a projected CRS before this operation.\n",
      "\n",
      "  world['distance'] = world['geometry'].centroid.distance(Point(lon, lat))\n",
      "C:\\Users\\User\\AppData\\Local\\Temp\\ipykernel_13696\\4290075581.py:7: UserWarning: Geometry is in a geographic CRS. Results from 'distance' are likely incorrect. Use 'GeoSeries.to_crs()' to re-project geometries to a projected CRS before this operation.\n",
      "\n",
      "  world['distance'] = world['geometry'].centroid.distance(Point(lon, lat))\n"
     ]
    }
   ],
   "source": [
    "lati= -25.73\n",
    "long= 134.5\n",
    "\n",
    "world = gpd.read_file(gpd.datasets.get_path('naturalearth_lowres'))\n",
    "def find_closest_country(lat, lon):\n",
    "    # Calculate the distances between the target coordinates and the centroids of all countries\n",
    "    world['distance'] = world['geometry'].centroid.distance(Point(lon, lat))\n",
    "    \n",
    "    # Find the country with the minimum distance\n",
    "    closest_country = world.iloc[world['distance'].idxmin()]\n",
    "    \n",
    "    return closest_country\n",
    "\n",
    "closest_country = find_closest_country(lati, long)\n",
    "\n",
    "# Access the name of the closest country\n",
    "closest_country_name = closest_country['name']\n",
    "print(f\"Closest Country to Lat {lati}, Lon {long}: {closest_country_name}\")\n",
    "\n"
   ]
  },
  {
   "cell_type": "code",
   "execution_count": null,
   "metadata": {},
   "outputs": [],
   "source": []
  },
  {
   "cell_type": "markdown",
   "metadata": {},
   "source": [
    "if the user provided lats and lons are in the lowres dataset then it grabs the methane concentration from the netcdf4 file "
   ]
  },
  {
   "cell_type": "code",
   "execution_count": 5,
   "metadata": {},
   "outputs": [
    {
     "name": "stdout",
     "output_type": "stream",
     "text": [
      "Methane concentration not found for the provided lat and lon.\n"
     ]
    }
   ],
   "source": [
    "lons = Dataset.groups['PRODUCT'].variables['longitude'][:][0, :, :]\n",
    "lats = Dataset.groups['PRODUCT'].variables['latitude'][:][0, :, :]\n",
    "methane = Dataset.groups['PRODUCT'].variables['methane_mixing_ratio_bias_corrected'][0, :, :]\n",
    "\n",
    "if closest_country_name:\n",
    "    \n",
    "#gets the index of the lat and lon which have the minimum difference with the provided lat an lon\n",
    "\n",
    "     lat_idx = np.abs(lons - long).argmin()  # calculates the difference of each value in the lats array and the provided lat and gets the absolute difference values array. \n",
    "     lon_idx = np.abs(lons - long).argmin()  #In its simplest use, the argmin function returns the index of the minimum value of a Numpy array.In other words, it finds the index of the value in the lats array that is closest to the user-provided lat.\n",
    "\n",
    "\n",
    "# checks if the index is within the array\n",
    "\n",
    "if closest_country_name:\n",
    "    # Your code for extracting methane concentration using lat_idx and lon_idx\n",
    "    # This code assumes you have already loaded your NetCDF4 file and have lat, lon, and methane variables defined.\n",
    "    lat_idx = np.abs(lats - lati).argmin()\n",
    "    lon_idx = np.abs(lons - long).argmin()\n",
    "\n",
    "    if lat_idx < len(lats) and lon_idx < len(lons):\n",
    "        methane_concentration = methane[lat_idx, lon_idx]\n",
    "        print(f\"Methane Concentration at Lat {lati}, Lon {long}: {methane_concentration}\")\n",
    "    else:\n",
    "        print(\"Methane concentration not found for the provided lat and lon.\")\n",
    "else:\n",
    "    print(\"No matching country found in the Natural Earth dataset.\")\n",
    "\n",
    "\n"
   ]
  }
 ],
 "metadata": {
  "kernelspec": {
   "display_name": "Python 3",
   "language": "python",
   "name": "python3"
  },
  "language_info": {
   "codemirror_mode": {
    "name": "ipython",
    "version": 3
   },
   "file_extension": ".py",
   "mimetype": "text/x-python",
   "name": "python",
   "nbconvert_exporter": "python",
   "pygments_lexer": "ipython3",
   "version": "3.10.11"
  },
  "orig_nbformat": 4
 },
 "nbformat": 4,
 "nbformat_minor": 2
}
