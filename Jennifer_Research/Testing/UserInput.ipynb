{
 "cells": [
  {
   "cell_type": "markdown",
   "metadata": {},
   "source": [
    "## Unit Test Sample"
   ]
  },
  {
   "cell_type": "code",
   "execution_count": 2,
   "metadata": {},
   "outputs": [],
   "source": [
    "import unittest"
   ]
  },
  {
   "cell_type": "code",
   "execution_count": null,
   "metadata": {},
   "outputs": [],
   "source": [
    "class Calculator:\n",
    "    def __init__(self):\n",
    "        pass\n",
    "\n",
    "    def add(self, a, b):\n",
    "        return a + b\n",
    "\n",
    "    def sub(self, a, b):\n",
    "        return a - b"
   ]
  },
  {
   "cell_type": "code",
   "execution_count": null,
   "metadata": {},
   "outputs": [],
   "source": [
    "class TestCalculator(unittest.TestCase):\n",
    "  \n",
    "    def test_add(self):\n",
    "        '''Test case function for addition'''\n",
    "        self.calc = Calculator()\n",
    "        result = self.calc.add(4, 7)\n",
    "        expected = 11\n",
    "        self.assertEqual(result, expected)\n",
    "        \n",
    "    @unittest.skip('Some reason')\n",
    "    def test_sub(self):\n",
    "        '''Test case function for subtraction'''\n",
    "        self.calc = Calculator()\n",
    "        result = self.calc.sub(10, 5)\n",
    "        expected = 5\n",
    "        self.assertEqual(result, expected)\n",
    "        \n"
   ]
  },
  {
   "cell_type": "code",
   "execution_count": null,
   "metadata": {},
   "outputs": [],
   "source": [
    "unittest.main(argv=[''], verbosity=2, exit=False)"
   ]
  },
  {
   "cell_type": "markdown",
   "metadata": {},
   "source": [
    "## Date user input \n",
    "## Unit test"
   ]
  },
  {
   "cell_type": "code",
   "execution_count": 2,
   "metadata": {},
   "outputs": [],
   "source": [
    "#The acceptable formats are dd mm YYYYY, YYYY mm dd, dd-mm-YYYY, YYYY-mm-dd, dd/mm/YYYY, YYYY/mm/dd\n",
    "input_sdate = \"20/08/2023\"\n",
    "#input_sdate = \"20/08/2023\"\n",
    "#input_edate = \"Hello\"\n",
    "input_edate = \"2023-08-25\""
   ]
  },
  {
   "cell_type": "code",
   "execution_count": 5,
   "metadata": {},
   "outputs": [
    {
     "name": "stdout",
     "output_type": "stream",
     "text": [
      "2023-08-20/2023-08-25\n"
     ]
    }
   ],
   "source": [
    "# Function to convert date format \n",
    "def convert_format_date(input_date):\n",
    "    correct_formats = [\"%d %m %Y\", \"%Y %m %d\", \"%d/%m/%Y\", \"%Y/%m/%d\", \"%d-%m-%Y\", \"%Y-%m-%d\"]\n",
    "    \n",
    "    for format_str in correct_formats:\n",
    "        try:\n",
    "            date_obj = datetime.strptime(input_date, format_str)\n",
    "            formatted_date = date_obj.strftime(\"%Y-%m-%d\")\n",
    "            return formatted_date\n",
    "        except ValueError:\n",
    "            pass\n",
    "    \n",
    "    raise ValueError(\"Invalid data format\")\n",
    "\n",
    "# Convert user start date format\n",
    "try:\n",
    "    input_sdate = convert_format_date(input_sdate)\n",
    "except ValueError:\n",
    "    print(\"Invalid start date format. Please check the acceptable formats\")\n",
    "            \n",
    "# Convert user end date format\n",
    "try:\n",
    "    input_edate = convert_format_date(input_edate)\n",
    "except ValueError:\n",
    "    print(\"Invalid end date format. Please check the acceptable formats\")\n",
    "\n",
    "date_period = input_sdate + \"/\" + input_edate \n",
    "print(date_period)\n"
   ]
  },
  {
   "cell_type": "code",
   "execution_count": 4,
   "metadata": {},
   "outputs": [],
   "source": [
    "import unittest\n",
    "from datetime import datetime"
   ]
  },
  {
   "cell_type": "code",
   "execution_count": 6,
   "metadata": {},
   "outputs": [],
   "source": [
    "class TestConvertFormatDate(unittest.TestCase):\n",
    "\n",
    "    #Valid date formats\n",
    "    def test_date_components(self):\n",
    "        self.assertEqual(convert_format_date(\"2021 12 31\"), \"2021-12-31\")\n",
    "        self.assertEqual(convert_format_date(\"31 12 2021\"), \"2021-12-31\")\n",
    "        self.assertEqual(convert_format_date(\"31/12/2021\"), \"2021-12-31\")\n",
    "        self.assertEqual(convert_format_date(\"2021/12/31\"), \"2021-12-31\")\n",
    "        self.assertEqual(convert_format_date(\"2021-12-31\"), \"2021-12-31\")\n",
    "        self.assertEqual(convert_format_date(\"31-12-2021\"), \"2021-12-31\")\n",
    "\n",
    "    #Valid date format with different delimiter\n",
    "    def test_converted_format(self):\n",
    "        self.assertEqual(convert_format_date(\"31 12 2021\"), \"2021-12-31\")\n",
    "\n",
    "    #Valid date variations\n",
    "    def test_invalid_date_variation(self):\n",
    "        # Two-digit year format\n",
    "        with self.assertRaises(ValueError):\n",
    "            convert_format_date(\"31-12-21\")  \n",
    "        with self.assertRaises(ValueError):\n",
    "            convert_format_date(\"21-12-31\") \n",
    "        with self.assertRaises(ValueError):\n",
    "            convert_format_date(\"31 12 99\")  \n",
    "        with self.assertRaises(ValueError):\n",
    "            convert_format_date(\"12/31/21\")  \n",
    "        with self.assertRaises(ValueError):\n",
    "            convert_format_date(\"31/12/99\")  \n",
    "        with self.assertRaises(ValueError):\n",
    "            convert_format_date(\"12 31 21\")  \n",
    "        with self.assertRaises(ValueError):\n",
    "            convert_format_date(\"21 31 12\")  \n",
    "            \n",
    "    #Invalid date components        \n",
    "    def test_invalid_date_components(self):\n",
    "            # Invalid month (13)\n",
    "        with self.assertRaises(ValueError):\n",
    "            convert_format_date(\"2021 13 01\")  \n",
    "            # Invalid day for February\n",
    "        with self.assertRaises(ValueError):\n",
    "            convert_format_date(\"2021 02 31\")  \n",
    "            # Invalid month (00)\n",
    "        with self.assertRaises(ValueError):\n",
    "            convert_format_date(\"2021 00 01\") \n",
    "            # Invalid day (32)\n",
    "        with self.assertRaises(ValueError):\n",
    "            convert_format_date(\"2021 01 32\")  \n",
    "            # Invalid month and day (00)  \n",
    "        with self.assertRaises(ValueError):\n",
    "            convert_format_date(\"2021 00 00\")       \n",
    "            # Invalid day for September\n",
    "        with self.assertRaises(ValueError):\n",
    "            convert_format_date(\"2021 09 31\")  \n",
    "            \n",
    "    #Non standard delimiters        \n",
    "    def test_non_standard_delimiters(self):\n",
    "        with self.assertRaises(ValueError):\n",
    "            convert_format_date(\"2021.12.31\")  \n",
    "        with self.assertRaises(ValueError):\n",
    "            convert_format_date(\"2021 12-31\") \n",
    "    \n",
    "    # Date with text\n",
    "    def test_date_with_text(self):\n",
    "        with self.assertRaises(ValueError):\n",
    "            convert_format_date(\"2021-12-31 ABC\")  \n",
    "    \n",
    "    #Empty input\n",
    "    def test_empty_string_input(self):\n",
    "        with self.assertRaises(ValueError):\n",
    "            convert_format_date(\"\")\n",
    "\n",
    "    #Non date input\n",
    "    def test_non_date_input(self):\n",
    "        with self.assertRaises(ValueError):\n",
    "            convert_format_date(\"This is not a date\")\n",
    "            \n",
    "    #Single digit month and day        \n",
    "    def test_single_digit_month_day(self):\n",
    "        self.assertEqual(convert_format_date(\"5 9 2022\"), \"2022-09-05\")\n",
    "\n",
    "    #Different correct formats\n",
    "    def test_different_approved_formats(self):\n",
    "        self.assertEqual(convert_format_date(\"31/12/2021\"), \"2021-12-31\")\n",
    "        self.assertEqual(convert_format_date(\"2022-12-31\"), \"2022-12-31\")\n",
    "        self.assertEqual(convert_format_date(\"05-07-2021\"), \"2021-07-05\")\n",
    "        self.assertEqual(convert_format_date(\"2022/02/15\"), \"2022-02-15\")\n",
    "        self.assertEqual(convert_format_date(\"2022 09 01\"), \"2022-09-01\")\n",
    "        \n",
    "    #Date boundary \n",
    "    def test_boundary_values(self):\n",
    "        # Test with earliest and latest valid dates\n",
    "        self.assertEqual(convert_format_date(\"0001 01 01\"), \"0001-01-01\")\n",
    "        self.assertEqual(convert_format_date(\"9999 12 31\"), \"9999-12-31\")"
   ]
  },
  {
   "cell_type": "code",
   "execution_count": 7,
   "metadata": {},
   "outputs": [
    {
     "name": "stderr",
     "output_type": "stream",
     "text": [
      "test_boundary_values (__main__.TestConvertFormatDate) ... ok\n",
      "test_converted_format (__main__.TestConvertFormatDate) ... ok\n",
      "test_date_components (__main__.TestConvertFormatDate) ... ok\n",
      "test_date_with_text (__main__.TestConvertFormatDate) ... ok\n",
      "test_different_approved_formats (__main__.TestConvertFormatDate) ... ok\n",
      "test_empty_string_input (__main__.TestConvertFormatDate) ... ok\n",
      "test_invalid_date_components (__main__.TestConvertFormatDate) ... ok\n",
      "test_invalid_date_variation (__main__.TestConvertFormatDate) ... ok\n",
      "test_non_date_input (__main__.TestConvertFormatDate) ... ok\n",
      "test_non_standard_delimiters (__main__.TestConvertFormatDate) ... ok\n",
      "test_single_digit_month_day (__main__.TestConvertFormatDate) ... ok\n",
      "\n",
      "----------------------------------------------------------------------\n",
      "Ran 11 tests in 0.029s\n",
      "\n",
      "OK\n"
     ]
    },
    {
     "data": {
      "text/plain": [
       "<unittest.main.TestProgram at 0x167d2e68730>"
      ]
     },
     "execution_count": 7,
     "metadata": {},
     "output_type": "execute_result"
    }
   ],
   "source": [
    "unittest.main(argv=[''], verbosity=2, exit=False)"
   ]
  }
 ],
 "metadata": {
  "kernelspec": {
   "display_name": "Python 3 (ipykernel)",
   "language": "python",
   "name": "python3"
  },
  "language_info": {
   "codemirror_mode": {
    "name": "ipython",
    "version": 3
   },
   "file_extension": ".py",
   "mimetype": "text/x-python",
   "name": "python",
   "nbconvert_exporter": "python",
   "pygments_lexer": "ipython3",
   "version": "3.10.9"
  },
  "orig_nbformat": 4
 },
 "nbformat": 4,
 "nbformat_minor": 2
}
