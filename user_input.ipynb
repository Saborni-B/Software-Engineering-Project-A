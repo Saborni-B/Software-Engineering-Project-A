{
 "cells": [
  {
   "cell_type": "code",
   "execution_count": null,
   "metadata": {},
   "outputs": [],
   "source": [
    "%run user_input.ipynb"
   ]
  },
  {
   "cell_type": "code",
   "execution_count": null,
   "metadata": {},
   "outputs": [],
   "source": [
    "def add(x, y):\n",
    "    return x + y\n",
    "\n",
    "#connect \n",
    "!python \"unit_test_folder/Test_datetime.py\"\n",
    "print(\"completed unit test inside the notebook\")"
   ]
  },
  {
   "cell_type": "markdown",
   "metadata": {},
   "source": [
    "## User Input"
   ]
  },
  {
   "cell_type": "markdown",
   "metadata": {},
   "source": [
    "### Gather User Input\n",
    "\n",
    "Assumptions:\n",
    "1. User can input coordinates that respresent a region of interest ROI\n",
    "2. User can input names for common locations (countries, cities, states etc)\n",
    "3. The shape of the user input will be a four sided polygon (for now do not worry about multisided polygons)"
   ]
  },
  {
   "cell_type": "markdown",
   "metadata": {},
   "source": [
    "Libraries"
   ]
  },
  {
   "cell_type": "code",
   "execution_count": null,
   "metadata": {},
   "outputs": [],
   "source": [
    "import matplotlib.pyplot as plt\n",
    "import netCDF4 as nc4\n",
    "import xarray as xr\n",
    "import fsspec\n",
    "import numpy as np\n",
    "import xarray as xr\n",
    "import planetary_computer\n",
    "import pystac_client\n",
    "import geopandas as gpd\n",
    "import pandas as pd\n",
    "import cartopy.crs as ccrs\n",
    "import matplotlib\n",
    "import matplotlib.pyplot as plt\n",
    "from datetime import datetime, time"
   ]
  },
  {
   "cell_type": "code",
   "execution_count": null,
   "metadata": {},
   "outputs": [],
   "source": [
    "planetary_computer.set_subscription_key(\"c27669c4bdec434d804e2bd738cb16fc\")\n",
    "catalog = pystac_client.Client.open(\n",
    "    \"https://planetarycomputer.microsoft.com/api/stac/v1\",\n",
    "    modifier=planetary_computer.sign_inplace,\n",
    ")\n",
    "print(catalog)"
   ]
  },
  {
   "cell_type": "markdown",
   "metadata": {},
   "source": [
    "GeoJSON "
   ]
  },
  {
   "cell_type": "code",
   "execution_count": null,
   "metadata": {},
   "outputs": [],
   "source": [
    "#longitude = 79.109\n",
    "#latitude = 22.746\n",
    "\n",
    "#GeoJSON - East Melbourne (square)\n",
    "geometry = {\n",
    "    \"type\": \"Polygon\",\n",
    "    \"coordinates\": [    \\\n",
    "        [\n",
    "            [-37.7528,145.096],\n",
    "            [-37.75415,144.85276],\n",
    "            [-37.92253,144.84092],\n",
    "            [-37.92551,145.09532],\n",
    "            [-37.7528,145.096],\n",
    "        ]\n",
    "    ],\n",
    "}\n"
   ]
  },
  {
   "cell_type": "code",
   "execution_count": null,
   "metadata": {},
   "outputs": [],
   "source": [
    "import json\n",
    "from turfpy.measurement import bbox_polygon, bbox\n",
    "from geojson import Polygon\n",
    "\n",
    "#Bounding box - Swinburne University Hawthorn campus (square)\n",
    "#minLat: -37.822978\n",
    "#minLon: 145.037186\n",
    "#maxLat: -37.821866\n",
    "#maxLon: 145.038841\n",
    "bbox = [-37.822978, 145.037186, -37.821866, 145.038841]\n",
    "print(json.dumps(bbox_polygon(bbox), indent=2, sort_keys=True))#json.dumps() function will convert a subset of Python objects into a json string.\n"
   ]
  },
  {
   "cell_type": "markdown",
   "metadata": {},
   "source": [
    "Date and Time"
   ]
  },
  {
   "cell_type": "code",
   "execution_count": null,
   "metadata": {},
   "outputs": [],
   "source": [
    "from datetime import datetime, time\n",
    "\n",
    "# Function to convert date format \n",
    "def convert_format_date(input_date, input_format, output_format):\n",
    "    date_obj = datetime.strptime(input_date, input_format)\n",
    "    formatted_date = date_obj.strftime(output_format)\n",
    "    return formatted_date\n",
    "\n",
    "# User Input Date and time\n",
    "user_start_date = \"01 09 2023\"\n",
    "user_end_date = \"01-September-2023\"\n",
    "\n",
    "user_start_time = time(14,30,0)\n",
    "user_end_time = time(15,00,0)\n",
    "\n",
    "# Define input and output date formats\n",
    "input_format = \"%d %m %Y\"\n",
    "output_format = \"%d/%m/%Y\"\n",
    "\n",
    "# Convert user start date format\n",
    "user_start_date1 = convert_format_date(user_start_date, input_format, output_format)\n",
    "print(user_start_date1)\n",
    "\n",
    "# Convert user end date format\n",
    "input_format = \"%d-%B-%Y\" #%B Month as locale's full name, %b Month as locale's abbreviated name\n",
    "user_end_date1 = convert_format_date(user_end_date, input_format, output_format)\n",
    "print(user_end_date1)\n",
    "\n",
    "print(user_start_time)\n",
    "print(user_end_time)"
   ]
  },
  {
   "cell_type": "markdown",
   "metadata": {},
   "source": [
    "Update \n",
    "- **input_sdate**: The start date of your period of interest in the format **dd-mm-YYYY**\n",
    "- **input_edate**: The end date of your period of interestin the format **dd-mm-YYYY**\n"
   ]
  },
  {
   "cell_type": "code",
   "execution_count": null,
   "metadata": {},
   "outputs": [],
   "source": [
    "#The acceptable formats are dd mm YYYYY, YYYY mm dd, dd-mm-YYYY, YYYY-mm-dd, dd/mm/YYYY, YYYY/mm/dd\n",
    "input_sdate = \"20/Aug/2023\"\n",
    "#input_sdate = \"20/08/2023\"\n",
    "input_edate = \"Hello\"\n",
    "#input_edate = \"2023-08-25\""
   ]
  },
  {
   "cell_type": "code",
   "execution_count": null,
   "metadata": {},
   "outputs": [],
   "source": [
    "\n",
    "# Function to convert date format \n",
    "def convert_format_date(input_date):\n",
    "    correct_formats = [\"%d %m %Y\", \"%Y %m %d\", \"%d/%m/%Y\", \"%Y/%m/%d\", \"%d-%m-%Y\", \"%Y-%m-%d\"]\n",
    "    \n",
    "    for format_str in correct_formats:\n",
    "        try:\n",
    "            date_obj = datetime.strptime(input_date, format_str)\n",
    "            formatted_date = date_obj.strftime(\"%Y-%m-%d\")\n",
    "            return formatted_date\n",
    "        except ValueError:\n",
    "            pass\n",
    "    \n",
    "    raise ValueError(\"Invalid data format\")\n",
    "\n",
    "# Convert user start date format\n",
    "try:\n",
    "    input_sdate = convert_format_date(input_sdate)\n",
    "except ValueError:\n",
    "    print(\"Invalid start date format. Please check the acceptable formats\")\n",
    "            \n",
    "# Convert user end date format\n",
    "try:\n",
    "    input_edate = convert_format_date(input_edate)\n",
    "except ValueError:\n",
    "    print(\"Invalid end date format. Please check the acceptable formats\")\n",
    "\n",
    "date_period = input_sdate + \"/\" + input_edate \n",
    "print(date_period)\n"
   ]
  },
  {
   "cell_type": "markdown",
   "metadata": {},
   "source": [
    "Location"
   ]
  },
  {
   "cell_type": "code",
   "execution_count": null,
   "metadata": {},
   "outputs": [],
   "source": [
    "#name\n",
    "user_countries = \"Australia\" \n",
    "\n",
    "#user_cities = \"Melbourne\"\n",
    "\n",
    "#user_states = \"Victoria\"\n",
    "\n",
    "#continent\n",
    "user_continent = \"Oceania\""
   ]
  },
  {
   "cell_type": "code",
   "execution_count": null,
   "metadata": {},
   "outputs": [],
   "source": [
    "world_data = gpd.read_file(gpd.datasets.get_path('naturalearth_lowres'))\n",
    "capitals = gpd.read_file(gpd.datasets.get_path('naturalearth_cities'))\n",
    "specific_city = capitals[capitals['name'] == user_cities]\n",
    "\n",
    "capitals"
   ]
  },
  {
   "cell_type": "code",
   "execution_count": null,
   "metadata": {},
   "outputs": [],
   "source": [
    "world_data.plot()\n",
    "specific_city.plot()"
   ]
  },
  {
   "cell_type": "code",
   "execution_count": null,
   "metadata": {},
   "outputs": [],
   "source": [
    "world = gpd.read_file(gpd.datasets.get_path('naturalearth_lowres'))\n",
    "australia = world[world['continent'] == user_continent]\n",
    "australia.plot()"
   ]
  },
  {
   "cell_type": "code",
   "execution_count": null,
   "metadata": {},
   "outputs": [],
   "source": [
    "world = gpd.read_file(gpd.datasets.get_path('naturalearth_lowres'))\n",
    "australia = world[world['name'] == user_countries]\n",
    "australia.plot()"
   ]
  }
 ],
 "metadata": {
  "kernelspec": {
   "display_name": "Python 3 (ipykernel)",
   "language": "python",
   "name": "python3"
  },
  "language_info": {
   "codemirror_mode": {
    "name": "ipython",
    "version": 3
   },
   "file_extension": ".py",
   "mimetype": "text/x-python",
   "name": "python",
   "nbconvert_exporter": "python",
   "pygments_lexer": "ipython3",
   "version": "3.10.9"
  },
  "orig_nbformat": 4
 },
 "nbformat": 4,
 "nbformat_minor": 2
}
